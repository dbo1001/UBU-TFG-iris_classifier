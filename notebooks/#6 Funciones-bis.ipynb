{
 "cells": [
  {
   "cell_type": "code",
   "execution_count": 190,
   "metadata": {},
   "outputs": [],
   "source": [
    "import warnings\n",
    "warnings.filterwarnings('ignore')"
   ]
  },
  {
   "cell_type": "code",
   "execution_count": 191,
   "metadata": {},
   "outputs": [],
   "source": [
    "import os\n",
    "import cv2\n",
    "import numpy as np\n",
    "import pandas as pd\n",
    "import matplotlib\n",
    "import matplotlib.pyplot as plt\n",
    "\n",
    "import skimage.io as io\n",
    "import skimage.transform as trans\n",
    "import shutil\n",
    "\n",
    "from skimage import data\n",
    "from skimage.io import imread, imshow"
   ]
  },
  {
   "cell_type": "code",
   "execution_count": 192,
   "metadata": {},
   "outputs": [],
   "source": [
    "def create_dir_tree(directory, names):\n",
    "    '''\n",
    "    Crea directorio con n muestras,\n",
    "    '''\n",
    "    if os.path.exists(directory):\n",
    "        shutil.rmtree(directory) # borramos directorio y lurgo le creamos\n",
    "        \n",
    "    os.mkdir(directory)\n",
    "        \n",
    "    for name in names:\n",
    "        sample = os.path.join(directory,name)\n",
    "        os.mkdir(sample)"
   ]
  },
  {
   "cell_type": "code",
   "execution_count": 199,
   "metadata": {},
   "outputs": [
    {
     "data": {
      "text/plain": [
       "0    Serenity\n",
       "1    Cataleya\n",
       "2      Andrew\n",
       "3       Corey\n",
       "4       Maite\n",
       "Name: Names, dtype: object"
      ]
     },
     "execution_count": 199,
     "metadata": {},
     "output_type": "execute_result"
    }
   ],
   "source": [
    "random_names = pd.read_csv('random_names.csv')\n",
    "random_names = random_names['Names'][:len(os.listdir(\"CASIA-IrisV1\"))]\n",
    "random_names[:5]"
   ]
  },
  {
   "cell_type": "code",
   "execution_count": 200,
   "metadata": {},
   "outputs": [],
   "source": [
    "new_dir = \"CASIA-Iris\"\n",
    "create_dir_tree(new_dir,random_names)"
   ]
  },
  {
   "cell_type": "code",
   "execution_count": 201,
   "metadata": {},
   "outputs": [],
   "source": [
    "def copy_samples(to_dir, from_dir):\n",
    "    directories = os.listdir(to_dir) # nombres de las muestras\n",
    "    i = 0\n",
    "    k = 1\n",
    "    for root, dirs, files in os.walk(from_dir):\n",
    "        for file in files:\n",
    "            if file.endswith(\".bmp\"):\n",
    "                source = os.path.join(root, file)\n",
    "                dest = os.path.join(to_dir,directories[i])\n",
    "                shutil.copy(source, dest)\n",
    "                if len(os.listdir(dest)) == 7:\n",
    "                    i = i + 1\n",
    "                    continue"
   ]
  },
  {
   "cell_type": "code",
   "execution_count": 202,
   "metadata": {},
   "outputs": [],
   "source": [
    "copy_samples(new_dir, \"CASIA-IrisV1\")"
   ]
  },
  {
   "cell_type": "code",
   "execution_count": 203,
   "metadata": {},
   "outputs": [],
   "source": [
    "# cambiamos nombre a las muestras\n",
    "for root, dirs, files in os.walk(new_dir):\n",
    "    for d in dirs:\n",
    "        name = str(d)\n",
    "        k = 1\n",
    "        for i in os.listdir(os.path.join(new_dir,d)):\n",
    "            os.rename(os.path.join(os.path.join(new_dir,d),i), os.path.join(os.path.join(new_dir,d),name + '_' + str(k)+'.bmp'))\n",
    "            k += 1"
   ]
  },
  {
   "cell_type": "code",
   "execution_count": 204,
   "metadata": {},
   "outputs": [],
   "source": [
    "def get_paths(directory):\n",
    "    '''\n",
    "    Devuelve la ruta relativa de las muestras .bmp\n",
    "    '''\n",
    "    paths = []\n",
    "    for root, dirs, files in os.walk(directory):\n",
    "        for file in files:\n",
    "            if file.endswith(\".bmp\"):\n",
    "                paths.append(os.path.join(root, file))\n",
    "    return paths"
   ]
  },
  {
   "cell_type": "code",
   "execution_count": 209,
   "metadata": {},
   "outputs": [],
   "source": [
    "paths_casia = get_paths(\"CASIA-Iris\")\n",
    "original_samples = [cv2.imread(muestra,0) for muestra in paths_casia] # array de las muestras originales en b&w"
   ]
  },
  {
   "cell_type": "code",
   "execution_count": 210,
   "metadata": {},
   "outputs": [
    {
     "data": {
      "text/plain": [
       "['CASIA-Iris\\\\Adrianna\\\\Adrianna_1.bmp',\n",
       " 'CASIA-Iris\\\\Adrianna\\\\Adrianna_2.bmp',\n",
       " 'CASIA-Iris\\\\Adrianna\\\\Adrianna_3.bmp',\n",
       " 'CASIA-Iris\\\\Adrianna\\\\Adrianna_4.bmp',\n",
       " 'CASIA-Iris\\\\Adrianna\\\\Adrianna_5.bmp',\n",
       " 'CASIA-Iris\\\\Adrianna\\\\Adrianna_6.bmp',\n",
       " 'CASIA-Iris\\\\Adrianna\\\\Adrianna_7.bmp',\n",
       " 'CASIA-Iris\\\\Aharon\\\\Aharon_1.bmp',\n",
       " 'CASIA-Iris\\\\Aharon\\\\Aharon_2.bmp',\n",
       " 'CASIA-Iris\\\\Aharon\\\\Aharon_3.bmp']"
      ]
     },
     "execution_count": 210,
     "metadata": {},
     "output_type": "execute_result"
    }
   ],
   "source": [
    "paths_casia[:10]"
   ]
  },
  {
   "cell_type": "code",
   "execution_count": 211,
   "metadata": {},
   "outputs": [],
   "source": [
    "def testGenerator(images, target_size= (320,320)):\n",
    "    for muestra in images:\n",
    "        img = muestra / 255\n",
    "        img = trans.resize(img,target_size)\n",
    "        img = np.reshape(img,(1,)+img.shape)\n",
    "        yield img"
   ]
  },
  {
   "cell_type": "code",
   "execution_count": 212,
   "metadata": {},
   "outputs": [],
   "source": [
    "def saveResult(results, save_dir, names):\n",
    "    '''\n",
    "    Guarda los imágenes segmentadas resultado de la red preentrenada\n",
    "    \n",
    "    Parámetros:\n",
    "    results -- resultado de la red preentrenada\n",
    "    save_path -- ruta en la que se guardarán las muestras segmentadas\n",
    "    name_path -- directorio del que cogeremos los nombres de las muestras\n",
    "    '''\n",
    "    dim = (320, 280) # dimensiones originales de las muestras del dataset\n",
    "    if os.path.exists(save_dir):\n",
    "        shutil.rmtree(save_dir)\n",
    "        \n",
    "    os.mkdir(save_dir)\n",
    "    for i,item in enumerate(results):\n",
    "        img = item[:,:,0]\n",
    "        img = cv2.resize(img, dim, interpolation=cv2.INTER_AREA)\n",
    "        io.imsave(os.path.join(save_dir,names[i]),img)"
   ]
  },
  {
   "cell_type": "code",
   "execution_count": 213,
   "metadata": {},
   "outputs": [],
   "source": [
    "from keras.models import load_model\n",
    "\n",
    "model = load_model('Iris_unet_d5.h5')\n",
    "# model.summary()"
   ]
  },
  {
   "cell_type": "code",
   "execution_count": 214,
   "metadata": {},
   "outputs": [
    {
     "name": "stdout",
     "output_type": "stream",
     "text": [
      "756/756 [==============================] - 1096s 1s/step\n"
     ]
    }
   ],
   "source": [
    "gen = testGenerator(original_samples)\n",
    "results = model.predict(gen,verbose=1)"
   ]
  },
  {
   "cell_type": "code",
   "execution_count": 215,
   "metadata": {},
   "outputs": [
    {
     "data": {
      "image/png": "[encoded data removed]",
      "text/plain": [
       "<Figure size 432x288 with 1 Axes>"
      ]
     },
     "metadata": {
      "needs_background": "light"
     },
     "output_type": "display_data"
    }
   ],
   "source": [
    "imshow(results[0][:,:,0]);"
   ]
  },
  {
   "cell_type": "code",
   "execution_count": 223,
   "metadata": {},
   "outputs": [],
   "source": [
    "# guardamos la salida de la red en una nueva lista para que sea accesible\n",
    "unet_outputs = []\n",
    "dim = (320, 280) # dimensiones originales de las muestras del dataset\n",
    "for r in results:\n",
    "    img = r[:,:,0]\n",
    "    img = cv2.resize(img, dim, interpolation=cv2.INTER_AREA)\n",
    "    unet_outputs.append(img)"
   ]
  },
  {
   "cell_type": "markdown",
   "metadata": {},
   "source": [
    "Es necesario reescalar ya que si no da error al aplicar el detector de Canny, el formato no es correcto"
   ]
  },
  {
   "cell_type": "code",
   "execution_count": 224,
   "metadata": {},
   "outputs": [],
   "source": [
    "# reescalamos outputs a 0-1\n",
    "unet_outputs = [cv2.normalize(src=img, dst=None, alpha=0, beta=255, norm_type=cv2.NORM_MINMAX, dtype=cv2.CV_8U) \n",
    "                for img in unet_outputs]"
   ]
  },
  {
   "cell_type": "code",
   "execution_count": 225,
   "metadata": {},
   "outputs": [
    {
     "data": {
      "image/png": "[encoded data removed]",
      "text/plain": [
       "<Figure size 432x288 with 1 Axes>"
      ]
     },
     "metadata": {
      "needs_background": "light"
     },
     "output_type": "display_data"
    }
   ],
   "source": [
    "imshow(unet_outputs[7]);"
   ]
  },
  {
   "cell_type": "markdown",
   "metadata": {},
   "source": [
    "### Aplicamos los operadores morfológicos"
   ]
  },
  {
   "cell_type": "code",
   "execution_count": 226,
   "metadata": {},
   "outputs": [],
   "source": [
    "def morph_operator(images):\n",
    "    enhanced = []\n",
    "    for img in images:\n",
    "        kernel = cv2.getStructuringElement(cv2.MORPH_ELLIPSE, (11, 11))\n",
    "        (thresh, binRed) = cv2.threshold(img, 128, 255, cv2.THRESH_BINARY) # se binariza\n",
    "        opening = cv2.morphologyEx(img, cv2.MORPH_OPEN, kernel, iterations=2) # se aplica operadores morfológicos(vigilar iteraciones)\n",
    "        (thresh, binRed) = cv2.threshold(opening, 128, 255, cv2.THRESH_BINARY) # se binariza nuevamente\n",
    "\n",
    "        enhanced.append(binRed)\n",
    "    return enhanced"
   ]
  },
  {
   "cell_type": "code",
   "execution_count": 228,
   "metadata": {},
   "outputs": [
    {
     "data": {
      "image/png": "[encoded data removed]",
      "text/plain": [
       "<Figure size 432x288 with 1 Axes>"
      ]
     },
     "metadata": {
      "needs_background": "light"
     },
     "output_type": "display_data"
    }
   ],
   "source": [
    "enhanced_outputs = morph_operator(unet_outputs)\n",
    "imshow(enhanced_outputs[7]);"
   ]
  },
  {
   "cell_type": "code",
   "execution_count": 230,
   "metadata": {},
   "outputs": [],
   "source": [
    "def canny_edges(images):\n",
    "    canny_edges = []\n",
    "    for img in images:\n",
    "        edges = cv2.Canny(img, 10, 255)\n",
    "        canny_edges.append(edges)\n",
    "    \n",
    "    return canny_edges"
   ]
  },
  {
   "cell_type": "code",
   "execution_count": 231,
   "metadata": {},
   "outputs": [
    {
     "data": {
      "image/png": "[encoded data removed]",
      "text/plain": [
       "<Figure size 432x288 with 1 Axes>"
      ]
     },
     "metadata": {
      "needs_background": "light"
     },
     "output_type": "display_data"
    }
   ],
   "source": [
    "edged_outputs = canny_edges(enhanced_outputs)\n",
    "plt.imshow(edged_outputs[0],\"gray\");"
   ]
  },
  {
   "cell_type": "code",
   "execution_count": 232,
   "metadata": {},
   "outputs": [],
   "source": [
    "from skimage import data\n",
    "from skimage.transform import (hough_line, hough_line_peaks, hough_circle, hough_circle_peaks)\n",
    "from skimage.draw import circle_perimeter\n",
    "from skimage.color import gray2rgb\n",
    "from matplotlib import cm\n",
    "from time import time"
   ]
  },
  {
   "cell_type": "code",
   "execution_count": 233,
   "metadata": {},
   "outputs": [],
   "source": [
    "def draw_circles(img, cx, cy, radii):\n",
    "    '''\n",
    "    A partir de los centros y el radio detectados dibuja el iris sobre la imagen que se le\n",
    "    pasa como parámetro.\n",
    "    '''\n",
    "    image = img\n",
    "    pupil = cv2.circle(image,(cx[0],cy[0]), radii[0], (255, 0, 0), 2)\n",
    "    iris = cv2.circle(image,(cx[1],cy[1]), radii[1], (255, 0, 0), 2)\n",
    "    return image"
   ]
  },
  {
   "cell_type": "code",
   "execution_count": 235,
   "metadata": {},
   "outputs": [],
   "source": [
    "# EJECUTAR UNA VEZ QUE TARDA MUCHO!!!\n",
    "def get_centers_radius(canny_images, original_images):\n",
    "    boundaries = [] # contiene los bordes límbico y pupilar\n",
    "    centers = [] # contiene centros y radio de la pupila\n",
    "    i = 0\n",
    "    tiempo_inicial = time()\n",
    "    \n",
    "    for img in canny_images:\n",
    "        gray_img= img\n",
    "        hough_radii = np.arange(20, 150, 2) # ajustar manualmente para que empiece desde un rango que incluya tanto al iris como a la pupila\n",
    "        hough_res = hough_circle(gray_img, hough_radii)\n",
    "        accums, cx, cy, radii = hough_circle_peaks(hough_res, hough_radii, total_num_peaks=2) # total_num_peaks -> nro de círculos\n",
    "        x_pupil, x_iris = cx\n",
    "        y_pupil, y_iris = cy\n",
    "        radius_pupil, radius_iris = radii\n",
    "        \n",
    "        # guardamos centros y radios\n",
    "        boundaries.append(draw_circles(original_images[i], cx, cy, radii))\n",
    "        data = {'pupil':[x_pupil, y_pupil, radius_pupil],\n",
    "                'iris':[x_iris, y_iris, radius_iris]}\n",
    "        centers.append(data)\n",
    "        i = i+1\n",
    "    tiempo_final = time()\n",
    "    \n",
    "    print(f'DONE!, time elapsed:{tiempo_final-tiempo_inicial}')\n",
    "    \n",
    "    return boundaries, centers\n"
   ]
  },
  {
   "cell_type": "code",
   "execution_count": 236,
   "metadata": {},
   "outputs": [
    {
     "name": "stdout",
     "output_type": "stream",
     "text": [
      "DONE!, time elapsed:350.7045679092407\n"
     ]
    }
   ],
   "source": [
    "boundaries, centers = get_centers_radius(edged_outputs, original_samples)"
   ]
  },
  {
   "cell_type": "code",
   "execution_count": 247,
   "metadata": {},
   "outputs": [
    {
     "data": {
      "text/plain": [
       "array([[176, 166, 170, ..., 187, 180, 169],\n",
       "       [170, 169, 173, ..., 185, 181, 179],\n",
       "       [177, 165, 173, ..., 198, 187, 169],\n",
       "       ...,\n",
       "       [154, 155, 155, ..., 169, 178, 199],\n",
       "       [159, 148, 154, ..., 170, 177, 192],\n",
       "       [153, 154, 150, ..., 172, 171, 189]], dtype=uint8)"
      ]
     },
     "execution_count": 247,
     "metadata": {},
     "output_type": "execute_result"
    }
   ],
   "source": [
    "boundaries[0]"
   ]
  },
  {
   "cell_type": "code",
   "execution_count": 248,
   "metadata": {},
   "outputs": [
    {
     "data": {
      "text/plain": [
       "{'pupil': [182, 134, 36], 'iris': [177, 134, 102]}"
      ]
     },
     "execution_count": 248,
     "metadata": {},
     "output_type": "execute_result"
    }
   ],
   "source": [
    "centers[0]"
   ]
  },
  {
   "cell_type": "markdown",
   "metadata": {},
   "source": [
    "### Normalización"
   ]
  },
  {
   "cell_type": "code",
   "execution_count": 249,
   "metadata": {},
   "outputs": [
    {
     "data": {
      "text/plain": [
       "[[182, 134, 36],\n",
       " [174, 138, 38],\n",
       " [173, 120, 38],\n",
       " [183, 122, 40],\n",
       " [177, 145, 38],\n",
       " [178, 134, 38],\n",
       " [154, 131, 36],\n",
       " [181, 140, 50],\n",
       " [183, 139, 48],\n",
       " [172, 157, 46]]"
      ]
     },
     "execution_count": 249,
     "metadata": {},
     "output_type": "execute_result"
    }
   ],
   "source": [
    "pupil_centers = [center['pupil'] for center in centers]\n",
    "pupil_centers[:10]"
   ]
  },
  {
   "cell_type": "code",
   "execution_count": 250,
   "metadata": {},
   "outputs": [],
   "source": [
    "def iris_normalization(boundaries,centers):\n",
    "    normalized = []\n",
    "    cent=0\n",
    "    for img in boundaries:\n",
    "#         img = normalized[name]\n",
    "        #load pupil centers and radius of inner circles\n",
    "        center_x = centers[cent][0]\n",
    "        center_y = centers[cent][1]\n",
    "        radius_pupil=int(centers[cent][2])\n",
    "        \n",
    "        iris_radius = 53 # width of space between inner and outer boundary\n",
    "    \n",
    "        #define equally spaced interval to iterate over\n",
    "        nsamples = 360\n",
    "        samples = np.linspace(0,2*np.pi, nsamples)[:-1]\n",
    "        polar = np.zeros((iris_radius, nsamples))\n",
    "        for r in range(iris_radius):\n",
    "            for theta in samples:\n",
    "                #get x and y for values on inner boundary\n",
    "                x = (r+radius_pupil)*np.cos(theta)+center_x\n",
    "                y = (r+radius_pupil)*np.sin(theta)+center_y\n",
    "                x=int(x)\n",
    "                y=int(y)\n",
    "                try:\n",
    "                #convert coordinates\n",
    "                    polar[r][int((theta*nsamples)/(2*np.pi))] = img[y][x]\n",
    "                except IndexError: #ignores values which lie out of bounds\n",
    "                    pass\n",
    "                continue\n",
    "        res = cv2.resize(polar,(512,64))\n",
    "        normalized.append(res)\n",
    "        cent+=1\n",
    "    print('DONE!')\n",
    "    return normalized #returns a list of 64x512 normalized images"
   ]
  },
  {
   "cell_type": "code",
   "execution_count": 251,
   "metadata": {},
   "outputs": [
    {
     "name": "stdout",
     "output_type": "stream",
     "text": [
      "DONE!\n"
     ]
    }
   ],
   "source": [
    "normalized_outputs = iris_normalization(boundaries,pupil_centers)"
   ]
  },
  {
   "cell_type": "code",
   "execution_count": 252,
   "metadata": {},
   "outputs": [
    {
     "data": {
      "image/png": "[encoded data removed]",
      "text/plain": [
       "<Figure size 432x288 with 1 Axes>"
      ]
     },
     "metadata": {
      "needs_background": "light"
     },
     "output_type": "display_data"
    }
   ],
   "source": [
    "plt.imshow(normalized_outputs[0],\"gray\");"
   ]
  },
  {
   "cell_type": "code",
   "execution_count": 253,
   "metadata": {},
   "outputs": [],
   "source": [
    "from skimage import exposure\n",
    "def crop_and_ecualization(normalized):\n",
    "    enhanced = []\n",
    "    for img in normalized:\n",
    "        h,w = img.shape\n",
    "        roi = img[5:h, 0:int(512/2)]\n",
    "        roi_enhanced = exposure.equalize_hist(roi)\n",
    "        enhanced.append(roi_enhanced)\n",
    "    print(\"DONE!\")\n",
    "    \n",
    "    return enhanced"
   ]
  },
  {
   "cell_type": "code",
   "execution_count": 254,
   "metadata": {},
   "outputs": [
    {
     "name": "stdout",
     "output_type": "stream",
     "text": [
      "DONE!\n"
     ]
    }
   ],
   "source": [
    "normalized_outputs = crop_and_ecualization(normalized_outputs)"
   ]
  },
  {
   "cell_type": "code",
   "execution_count": 255,
   "metadata": {},
   "outputs": [
    {
     "data": {
      "image/png": "[encoded data removed]",
      "text/plain": [
       "<Figure size 432x288 with 1 Axes>"
      ]
     },
     "metadata": {
      "needs_background": "light"
     },
     "output_type": "display_data"
    }
   ],
   "source": [
    "plt.imshow(normalized_outputs[0],\"gray\");"
   ]
  },
  {
   "cell_type": "code",
   "execution_count": 256,
   "metadata": {},
   "outputs": [],
   "source": [
    "new_dir = \"CASIA-Polar\"\n",
    "if os.path.exists(new_dir):\n",
    "    shutil.rmtree(new_dir)\n",
    "\n",
    "create_dir_tree(new_dir,random_names)"
   ]
  },
  {
   "cell_type": "code",
   "execution_count": 257,
   "metadata": {},
   "outputs": [
    {
     "data": {
      "text/plain": [
       "['CASIA-Polar\\\\Adrianna',\n",
       " 'CASIA-Polar\\\\Aharon',\n",
       " 'CASIA-Polar\\\\Aidan',\n",
       " 'CASIA-Polar\\\\Aiza',\n",
       " 'CASIA-Polar\\\\Aleah',\n",
       " 'CASIA-Polar\\\\Alice',\n",
       " 'CASIA-Polar\\\\Alvin',\n",
       " 'CASIA-Polar\\\\Amayah',\n",
       " 'CASIA-Polar\\\\Amberly',\n",
       " 'CASIA-Polar\\\\Aminata']"
      ]
     },
     "execution_count": 257,
     "metadata": {},
     "output_type": "execute_result"
    }
   ],
   "source": [
    "names = os.listdir(new_dir)\n",
    "paths = [os.path.join(new_dir, d) for d in names]\n",
    "paths[:10]"
   ]
  },
  {
   "cell_type": "code",
   "execution_count": 258,
   "metadata": {},
   "outputs": [],
   "source": [
    "i = 0\n",
    "k = 1\n",
    "for file in normalized_outputs:\n",
    "    dest = paths[i]\n",
    "    io.imsave(os.path.join(dest,names[i] +'_'+ str(k) + '.bmp'),file)\n",
    "    if len(os.listdir(dest)) == 7:\n",
    "        i = i + 1\n",
    "        k = 1\n",
    "        continue\n",
    "    k = k + 1"
   ]
  },
  {
   "cell_type": "code",
   "execution_count": 289,
   "metadata": {},
   "outputs": [],
   "source": [
    "from pathlib import Path\n",
    "\n",
    "# cogemos nombres de las imágenes .bmp\n",
    "image_files = []\n",
    "\n",
    "for root, dirs, files in os.walk(new_dir):\n",
    "    for file in files:\n",
    "        if file.endswith(\".bmp\"):\n",
    "            image_files.append(file)\n",
    "            \n",
    "# cogemos las clases a las que pertenece cada .bmp\n",
    "classes = []           \n",
    "for name in names:\n",
    "    for i in range(7):\n",
    "        classes.append(name)\n",
    "x_pupil, y_pupil, r_pupil =[], [], []\n",
    "x_iris, y_iris, r_iris =[],[],[]\n",
    "for i in centers:\n",
    "    x_pupil.append(i['pupil'][0])\n",
    "    y_pupil.append(i['pupil'][1])\n",
    "    r_pupil.append(i['pupil'][2])\n",
    "    x_iris.append(i['iris'][0])\n",
    "    y_iris.append(i['iris'][1])\n",
    "    r_iris.append(i['iris'][2])\n"
   ]
  },
  {
   "cell_type": "code",
   "execution_count": 295,
   "metadata": {},
   "outputs": [
    {
     "data": {
      "text/html": [
       "<div>\n",
       "<style scoped>\n",
       "    .dataframe tbody tr th:only-of-type {\n",
       "        vertical-align: middle;\n",
       "    }\n",
       "\n",
       "    .dataframe tbody tr th {\n",
       "        vertical-align: top;\n",
       "    }\n",
       "\n",
       "    .dataframe thead th {\n",
       "        text-align: right;\n",
       "    }\n",
       "</style>\n",
       "<table border=\"1\" class=\"dataframe\">\n",
       "  <thead>\n",
       "    <tr style=\"text-align: right;\">\n",
       "      <th></th>\n",
       "      <th>image</th>\n",
       "      <th>pupil x_center</th>\n",
       "      <th>pupil y_center</th>\n",
       "      <th>pupil radius</th>\n",
       "      <th>iris x_center</th>\n",
       "      <th>iris y_center</th>\n",
       "      <th>iris radius</th>\n",
       "      <th>class</th>\n",
       "    </tr>\n",
       "  </thead>\n",
       "  <tbody>\n",
       "    <tr>\n",
       "      <th>0</th>\n",
       "      <td>Adrianna_1.bmp</td>\n",
       "      <td>182</td>\n",
       "      <td>134</td>\n",
       "      <td>36</td>\n",
       "      <td>177</td>\n",
       "      <td>134</td>\n",
       "      <td>102</td>\n",
       "      <td>Adrianna</td>\n",
       "    </tr>\n",
       "    <tr>\n",
       "      <th>1</th>\n",
       "      <td>Adrianna_2.bmp</td>\n",
       "      <td>174</td>\n",
       "      <td>138</td>\n",
       "      <td>38</td>\n",
       "      <td>172</td>\n",
       "      <td>138</td>\n",
       "      <td>38</td>\n",
       "      <td>Adrianna</td>\n",
       "    </tr>\n",
       "    <tr>\n",
       "      <th>2</th>\n",
       "      <td>Adrianna_3.bmp</td>\n",
       "      <td>173</td>\n",
       "      <td>120</td>\n",
       "      <td>38</td>\n",
       "      <td>167</td>\n",
       "      <td>120</td>\n",
       "      <td>104</td>\n",
       "      <td>Adrianna</td>\n",
       "    </tr>\n",
       "    <tr>\n",
       "      <th>3</th>\n",
       "      <td>Adrianna_4.bmp</td>\n",
       "      <td>183</td>\n",
       "      <td>122</td>\n",
       "      <td>40</td>\n",
       "      <td>185</td>\n",
       "      <td>122</td>\n",
       "      <td>38</td>\n",
       "      <td>Adrianna</td>\n",
       "    </tr>\n",
       "    <tr>\n",
       "      <th>4</th>\n",
       "      <td>Adrianna_5.bmp</td>\n",
       "      <td>177</td>\n",
       "      <td>145</td>\n",
       "      <td>38</td>\n",
       "      <td>179</td>\n",
       "      <td>143</td>\n",
       "      <td>36</td>\n",
       "      <td>Adrianna</td>\n",
       "    </tr>\n",
       "    <tr>\n",
       "      <th>5</th>\n",
       "      <td>Adrianna_6.bmp</td>\n",
       "      <td>178</td>\n",
       "      <td>134</td>\n",
       "      <td>38</td>\n",
       "      <td>179</td>\n",
       "      <td>132</td>\n",
       "      <td>40</td>\n",
       "      <td>Adrianna</td>\n",
       "    </tr>\n",
       "    <tr>\n",
       "      <th>6</th>\n",
       "      <td>Adrianna_7.bmp</td>\n",
       "      <td>154</td>\n",
       "      <td>131</td>\n",
       "      <td>36</td>\n",
       "      <td>152</td>\n",
       "      <td>130</td>\n",
       "      <td>38</td>\n",
       "      <td>Adrianna</td>\n",
       "    </tr>\n",
       "    <tr>\n",
       "      <th>7</th>\n",
       "      <td>Aharon_1.bmp</td>\n",
       "      <td>181</td>\n",
       "      <td>140</td>\n",
       "      <td>50</td>\n",
       "      <td>179</td>\n",
       "      <td>139</td>\n",
       "      <td>52</td>\n",
       "      <td>Aharon</td>\n",
       "    </tr>\n",
       "    <tr>\n",
       "      <th>8</th>\n",
       "      <td>Aharon_2.bmp</td>\n",
       "      <td>183</td>\n",
       "      <td>139</td>\n",
       "      <td>48</td>\n",
       "      <td>185</td>\n",
       "      <td>138</td>\n",
       "      <td>48</td>\n",
       "      <td>Aharon</td>\n",
       "    </tr>\n",
       "    <tr>\n",
       "      <th>9</th>\n",
       "      <td>Aharon_3.bmp</td>\n",
       "      <td>172</td>\n",
       "      <td>157</td>\n",
       "      <td>46</td>\n",
       "      <td>170</td>\n",
       "      <td>155</td>\n",
       "      <td>48</td>\n",
       "      <td>Aharon</td>\n",
       "    </tr>\n",
       "  </tbody>\n",
       "</table>\n",
       "</div>"
      ],
      "text/plain": [
       "            image  pupil x_center  pupil y_center  pupil radius  \\\n",
       "0  Adrianna_1.bmp             182             134            36   \n",
       "1  Adrianna_2.bmp             174             138            38   \n",
       "2  Adrianna_3.bmp             173             120            38   \n",
       "3  Adrianna_4.bmp             183             122            40   \n",
       "4  Adrianna_5.bmp             177             145            38   \n",
       "5  Adrianna_6.bmp             178             134            38   \n",
       "6  Adrianna_7.bmp             154             131            36   \n",
       "7    Aharon_1.bmp             181             140            50   \n",
       "8    Aharon_2.bmp             183             139            48   \n",
       "9    Aharon_3.bmp             172             157            46   \n",
       "\n",
       "   iris x_center  iris y_center  iris radius     class  \n",
       "0            177            134          102  Adrianna  \n",
       "1            172            138           38  Adrianna  \n",
       "2            167            120          104  Adrianna  \n",
       "3            185            122           38  Adrianna  \n",
       "4            179            143           36  Adrianna  \n",
       "5            179            132           40  Adrianna  \n",
       "6            152            130           38  Adrianna  \n",
       "7            179            139           52    Aharon  \n",
       "8            185            138           48    Aharon  \n",
       "9            170            155           48    Aharon  "
      ]
     },
     "execution_count": 295,
     "metadata": {},
     "output_type": "execute_result"
    }
   ],
   "source": [
    "data = {'image': image_files,\n",
    "       'pupil x_center':x_pupil,\n",
    "       'pupil y_center':y_pupil,\n",
    "       'pupil radius': r_pupil,\n",
    "       'iris x_center': x_iris,\n",
    "       'iris y_center': y_iris,\n",
    "       'iris radius':r_iris,\n",
    "       'class': classes}\n",
    "df = pd.DataFrame(data)[['image','pupil x_center','pupil y_center','pupil radius','iris x_center', 'iris y_center','iris radius',\"class\"]] \n",
    "\n",
    "df[:10]"
   ]
  },
  {
   "cell_type": "code",
   "execution_count": 297,
   "metadata": {},
   "outputs": [],
   "source": [
    "df.to_csv(\"iris_data.csv\")"
   ]
  }
 ],
 "metadata": {
  "kernelspec": {
   "display_name": "Python 3",
   "language": "python",
   "name": "python3"
  },
  "language_info": {
   "codemirror_mode": {
    "name": "ipython",
    "version": 3
   },
   "file_extension": ".py",
   "mimetype": "text/x-python",
   "name": "python",
   "nbconvert_exporter": "python",
   "pygments_lexer": "ipython3",
   "version": "3.7.3"
  }
 },
 "nbformat": 4,
 "nbformat_minor": 2
}
