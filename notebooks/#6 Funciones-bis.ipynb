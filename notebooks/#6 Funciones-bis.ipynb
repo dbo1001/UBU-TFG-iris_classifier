{
 "cells": [
  {
   "cell_type": "code",
   "execution_count": 1,
   "metadata": {},
   "outputs": [],
   "source": [
    "import warnings\n",
    "warnings.filterwarnings('ignore')"
   ]
  },
  {
   "cell_type": "code",
   "execution_count": 3,
   "metadata": {},
   "outputs": [],
   "source": [
    "import os\n",
    "import cv2\n",
    "import numpy as np\n",
    "import pandas as pd\n",
    "import matplotlib\n",
    "import matplotlib.pyplot as plt\n",
    "\n",
    "import skimage.io as io\n",
    "import skimage.transform as trans\n",
    "import shutil\n",
    "\n",
    "from skimage import data"
   ]
  },
  {
   "cell_type": "code",
   "execution_count": 6,
   "metadata": {},
   "outputs": [],
   "source": [
    "def create_dir_tree(directory, names):\n",
    "    '''\n",
    "    Crea directorio con n muestras,\n",
    "    '''\n",
    "    if os.path.exists(directory):\n",
    "        shutil.rmtree(directory) # borramos directorio y lurgo le creamos\n",
    "        \n",
    "    os.mkdir(directory)\n",
    "        \n",
    "    for name in names:\n",
    "        sample = os.path.join(directory,name)\n",
    "        os.mkdir(sample)"
   ]
  },
  {
   "cell_type": "code",
   "execution_count": 43,
   "metadata": {},
   "outputs": [],
   "source": [
    "random_names = pd.read_csv('random_names.csv')\n",
    "random_names = random_names['Names'][:len(os.listdir(\"CASIA-IrisV1\"))]\n",
    "new_dir = \"CASIA-Iris\"\n",
    "create_dir_tree(new_dir,random_names)"
   ]
  },
  {
   "cell_type": "code",
   "execution_count": 42,
   "metadata": {},
   "outputs": [],
   "source": [
    "shutil.rmtree(new_dir)"
   ]
  },
  {
   "cell_type": "code",
   "execution_count": 44,
   "metadata": {},
   "outputs": [],
   "source": [
    "def copy_samples(to_dir, from_dir):\n",
    "    directories = os.listdir(to_dir) # nombres de las muestras\n",
    "    i = 0\n",
    "    k = 1\n",
    "    for root, dirs, files in os.walk(from_dir):\n",
    "        for file in files:\n",
    "            if file.endswith(\".bmp\"):\n",
    "                source = os.path.join(root, file)\n",
    "                dest = os.path.join(to_dir,directories[i])\n",
    "                shutil.copy(source, dest)\n",
    "                if len(os.listdir(dest)) == 7:\n",
    "                    i = i + 1\n",
    "                    continue"
   ]
  },
  {
   "cell_type": "code",
   "execution_count": 77,
   "metadata": {},
   "outputs": [],
   "source": [
    "copy_samples(new_dir, \"CASIA-IrisV1\")"
   ]
  },
  {
   "cell_type": "code",
   "execution_count": 78,
   "metadata": {},
   "outputs": [],
   "source": [
    "# cambiamos nombre a las muestras\n",
    "for root, dirs, files in os.walk(new_dir):\n",
    "    for d in dirs:\n",
    "        name = str(d)\n",
    "        k = 1\n",
    "        for i in os.listdir(os.path.join(new_dir,d)):\n",
    "            os.rename(os.path.join(os.path.join(new_dir,d),i), os.path.join(os.path.join(new_dir,d),name + '_' + str(k)+'.bmp'))\n",
    "            k += 1"
   ]
  },
  {
   "cell_type": "code",
   "execution_count": 4,
   "metadata": {},
   "outputs": [],
   "source": [
    "def get_paths(directory):\n",
    "    '''\n",
    "    Devuelve la ruta relativa de las muestras .bmp\n",
    "    '''\n",
    "    paths = []\n",
    "    for root, dirs, files in os.walk(directory):\n",
    "        for file in files:\n",
    "            if file.endswith(\".bmp\"):\n",
    "                paths.append(os.path.join(root, file))\n",
    "    return paths"
   ]
  },
  {
   "cell_type": "code",
   "execution_count": 18,
   "metadata": {},
   "outputs": [],
   "source": [
    "paths_casia = get_paths(\"CASIA-IrisV1\")\n",
    "original_samples = [cv2.imread(muestra,0) for muestra in paths_casia] # array de las muestras originales en b&w"
   ]
  },
  {
   "cell_type": "code",
   "execution_count": 14,
   "metadata": {},
   "outputs": [],
   "source": [
    "def testGenerator(images, target_size= (320,320)):\n",
    "    for muestra in images:\n",
    "        img = muestra / 255\n",
    "        img = trans.resize(img,target_size)\n",
    "        img = np.reshape(img,(1,)+img.shape)\n",
    "        yield img"
   ]
  },
  {
   "cell_type": "code",
   "execution_count": 15,
   "metadata": {},
   "outputs": [],
   "source": [
    "def saveResult(results, save_dir, names):\n",
    "    '''\n",
    "    Guarda los imágenes segmentadas resultado de la red preentrenada\n",
    "    \n",
    "    Parámetros:\n",
    "    results -- resultado de la red preentrenada\n",
    "    save_path -- ruta en la que se guardarán las muestras segmentadas\n",
    "    name_path -- directorio del que cogeremos los nombres de las muestras\n",
    "    '''\n",
    "    dim = (320, 280) # dimensiones originales de las muestras del dataset\n",
    "    if os.path.exists(save_dir):\n",
    "        shutil.rmtree(save_dir)\n",
    "        \n",
    "    os.mkdir(save_dir)\n",
    "    for i,item in enumerate(results):\n",
    "        img = item[:,:,0]\n",
    "        img = cv2.resize(img, dim, interpolation=cv2.INTER_AREA)\n",
    "        io.imsave(os.path.join(save_dir,names[i]),img)"
   ]
  },
  {
   "cell_type": "code",
   "execution_count": 16,
   "metadata": {},
   "outputs": [],
   "source": [
    "from keras.models import load_model\n",
    "\n",
    "model = load_model('Iris_unet_d5.h5')\n",
    "# model.summary()"
   ]
  },
  {
   "cell_type": "code",
   "execution_count": 19,
   "metadata": {},
   "outputs": [
    {
     "name": "stdout",
     "output_type": "stream",
     "text": [
      "756/756 [==============================] - 1054s 1s/step\n"
     ]
    }
   ],
   "source": [
    "gen = testGenerator(original_samples)\n",
    "results = model.predict(gen,verbose=1)"
   ]
  },
  {
   "cell_type": "code",
   "execution_count": 46,
   "metadata": {},
   "outputs": [
    {
     "data": {
      "text/plain": [
       "['Serenity',\n",
       " 'Cataleya',\n",
       " 'Andrew',\n",
       " 'Corey',\n",
       " 'Maite',\n",
       " 'Shira',\n",
       " 'Michelle',\n",
       " 'Zahra',\n",
       " 'Keily',\n",
       " 'Rivkah',\n",
       " 'Gavriel',\n",
       " 'Rafael',\n",
       " 'Evangeline',\n",
       " 'Yandel',\n",
       " 'Mariam',\n",
       " 'Chad',\n",
       " 'Imani',\n",
       " 'Shaina',\n",
       " 'Erick',\n",
       " 'Gabriella',\n",
       " 'Naomi',\n",
       " 'Atara',\n",
       " 'Brendan',\n",
       " 'Oumar',\n",
       " 'Anas',\n",
       " 'Carlos',\n",
       " 'Aiza',\n",
       " 'Malek',\n",
       " 'Xin',\n",
       " 'Brianny',\n",
       " 'Cooper',\n",
       " 'Avital',\n",
       " 'Samiyah',\n",
       " 'Franklin',\n",
       " 'Andrea',\n",
       " 'Tianna',\n",
       " 'Youssef',\n",
       " 'Zion',\n",
       " 'Arlette',\n",
       " 'Eliyahu',\n",
       " 'Alice',\n",
       " 'Ashton',\n",
       " 'Ananya',\n",
       " 'Nyah',\n",
       " 'Emma',\n",
       " 'Aharon',\n",
       " 'Mariana',\n",
       " 'Amayah',\n",
       " 'Reed',\n",
       " 'Jeancarlos',\n",
       " 'Leibish',\n",
       " 'Batsheva',\n",
       " 'Damani',\n",
       " 'Aleah',\n",
       " 'Michal',\n",
       " 'Mushka',\n",
       " 'Pessy',\n",
       " 'Aminata',\n",
       " 'Janiyah',\n",
       " 'Liz',\n",
       " 'Zaiden',\n",
       " 'Alvin',\n",
       " 'Freya',\n",
       " 'Hope',\n",
       " 'Yahya',\n",
       " 'Precious',\n",
       " 'Nico',\n",
       " 'Leora',\n",
       " 'Avery',\n",
       " 'Axel',\n",
       " 'Helena',\n",
       " 'Delilah',\n",
       " 'Noam',\n",
       " 'Jaelynn',\n",
       " 'Margot',\n",
       " 'Amberly',\n",
       " 'Armaan',\n",
       " 'Jolie',\n",
       " 'Kacper',\n",
       " 'Chany',\n",
       " 'Lindsay',\n",
       " 'Aidan',\n",
       " 'Morgan',\n",
       " 'Nehemiah',\n",
       " 'Jaxon',\n",
       " 'Devorah',\n",
       " 'Frimet',\n",
       " 'Arye',\n",
       " 'Brucha',\n",
       " 'Shayna',\n",
       " 'Sasha',\n",
       " 'Camren',\n",
       " 'Mia',\n",
       " 'Madisyn',\n",
       " 'Rohan',\n",
       " 'Byron',\n",
       " 'Adrianna',\n",
       " 'Ousmane',\n",
       " 'Eddy',\n",
       " 'Yaniel',\n",
       " 'Hersh',\n",
       " 'Heaven',\n",
       " 'Eshan',\n",
       " 'Scarlett',\n",
       " 'Kassandra',\n",
       " 'Luz',\n",
       " 'Rory',\n",
       " 'Liora']"
      ]
     },
     "execution_count": 46,
     "metadata": {},
     "output_type": "execute_result"
    }
   ],
   "source": [
    "samples_names = [file for file in os.listdir(\"CASIA-Iris\")]\n",
    "list(random_names)"
   ]
  },
  {
   "cell_type": "code",
   "execution_count": null,
   "metadata": {},
   "outputs": [],
   "source": [
    "# tiene que haber un directorio con las 756 muestras segmentadas\n",
    "samples_names = [file for file in os.listdir(\"CASIA-Polar\")]\n",
    "saveResult(results, \"U-net Output\", samples_names)"
   ]
  }
 ],
 "metadata": {
  "kernelspec": {
   "display_name": "Python 3",
   "language": "python",
   "name": "python3"
  },
  "language_info": {
   "codemirror_mode": {
    "name": "ipython",
    "version": 3
   },
   "file_extension": ".py",
   "mimetype": "text/x-python",
   "name": "python",
   "nbconvert_exporter": "python",
   "pygments_lexer": "ipython3",
   "version": "3.7.3"
  }
 },
 "nbformat": 4,
 "nbformat_minor": 2
}
