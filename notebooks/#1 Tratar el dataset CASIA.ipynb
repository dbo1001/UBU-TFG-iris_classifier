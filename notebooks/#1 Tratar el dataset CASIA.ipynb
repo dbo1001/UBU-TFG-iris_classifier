{
 "cells": [
  {
   "cell_type": "markdown",
   "metadata": {},
   "source": [
    "### Descripción del dataset"
   ]
  },
  {
   "cell_type": "markdown",
   "metadata": {},
   "source": [
    "La base de datos que emplearemos incluye 756 imágenes del iris de 108 ojos. Se han tomado un total de 7 muestras por ojo, la cual se ha llevado a cabo en 2 sesiones.\n",
    "\n",
    "En la primera sesión se han tomado 3 muestras y en la segunda 4 muestras. Todas las imágenes tienen el formato `.bmp` con una resolución de 320x280.\n",
    "\n",
    "\n",
    "-------------\n",
    "__¿NECESARIO? No encuentro definición de IPR__\n",
    "\n",
    "In order to protect our IPR in the design of our iris camera (especially the NIR illumination scheme), the pupil regions of all iris images in CASIA-IrisV1 were automatically detected and replaced with a circular region of constant intensity to mask out the specular reflections from the NIR illuminators (see Fig.1). Such editing clearly makes iris boundary detection much easier but has minimal or no effects on other components of an iris recognition system, such as feature extraction and classifier design.\n",
    "\n",
    "--------\n",
    "Se sugiere que comparemos las muestras tomadas del mismo ojo en las 2 sesiones, es decir, tomar las muestras de la primera sesión para entrenar y las de la segunda sesión para testear."
   ]
  }
 ],
 "metadata": {
  "kernelspec": {
   "display_name": "Python 3",
   "language": "python",
   "name": "python3"
  },
  "language_info": {
   "codemirror_mode": {
    "name": "ipython",
    "version": 3
   },
   "file_extension": ".py",
   "mimetype": "text/x-python",
   "name": "python",
   "nbconvert_exporter": "python",
   "pygments_lexer": "ipython3",
   "version": "3.7.3"
  }
 },
 "nbformat": 4,
 "nbformat_minor": 2
}
