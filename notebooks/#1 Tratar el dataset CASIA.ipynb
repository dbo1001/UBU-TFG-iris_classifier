{
 "cells": [
  {
   "cell_type": "markdown",
   "metadata": {},
   "source": [
    "### Descripción del dataset"
   ]
  },
  {
   "cell_type": "markdown",
   "metadata": {},
   "source": [
    "La base de datos que emplearemos incluye 756 imágenes del iris de 108 ojos. Se han tomado un total de 7 muestras por ojo, la cual se ha llevado a cabo en 2 sesiones.\n",
    "\n",
    "En la primera sesión se han tomado 3 muestras y en la segunda 4 muestras. Todas las imágenes tienen el formato `.bmp` con una resolución de 320x280.\n",
    "\n",
    "\n",
    "-------------\n",
    "__¿NECESARIO? No encuentro definición de IPR__\n",
    "\n",
    "In order to protect our IPR in the design of our iris camera (especially the NIR illumination scheme), the pupil regions of all iris images in CASIA-IrisV1 were automatically detected and replaced with a circular region of constant intensity to mask out the specular reflections from the NIR illuminators (see Fig.1). Such editing clearly makes iris boundary detection much easier but has minimal or no effects on other components of an iris recognition system, such as feature extraction and classifier design.\n",
    "\n",
    "--------\n",
    "Se sugiere que comparemos las muestras tomadas del mismo ojo en las 2 sesiones, es decir, tomar las muestras de la primera sesión para entrenar y las de la segunda sesión para testear."
   ]
  },
  {
   "cell_type": "markdown",
   "metadata": {},
   "source": [
    "----------------------------------------------"
   ]
  },
  {
   "cell_type": "markdown",
   "metadata": {},
   "source": [
    "Las muestras se encuentran en subdirectorios, de modo que para facilitar su uso se trasladarán todas las muestras de todos los sujetos(de ambas sesiones) a un único subdirectorio."
   ]
  },
  {
   "cell_type": "code",
   "execution_count": 13,
   "metadata": {},
   "outputs": [],
   "source": [
    "import warnings\n",
    "warnings.filterwarnings('ignore')"
   ]
  },
  {
   "cell_type": "code",
   "execution_count": 14,
   "metadata": {},
   "outputs": [],
   "source": [
    "import shutil"
   ]
  },
  {
   "cell_type": "code",
   "execution_count": 10,
   "metadata": {},
   "outputs": [],
   "source": [
    "def copy_all_samples(path_samples, destination_directory):\n",
    "    '''\n",
    "    Copia todas las muestras del dataset de CASIA a un único directorio.\n",
    "    '''\n",
    "        \n",
    "    for root, dirs, files in os.walk(path_samples):\n",
    "        for file in files:\n",
    "            path_file = os.path.join(root,file)\n",
    "            shutil.copy2(path_file,destination_directory)   \n",
    "    print(\"-> Muestras copiadas satisfactoriamente.\")"
   ]
  },
  {
   "cell_type": "code",
   "execution_count": 11,
   "metadata": {},
   "outputs": [],
   "source": [
    "destination_directory = os.path.join(os.getcwd(), 'CASIA_v1')\n",
    "os.mkdir(destination_directory) # creamos nuevo directorio"
   ]
  },
  {
   "cell_type": "code",
   "execution_count": 15,
   "metadata": {},
   "outputs": [
    {
     "name": "stdout",
     "output_type": "stream",
     "text": [
      "-> Muestras copiadas satisfactoriamente.\n"
     ]
    }
   ],
   "source": [
    "copy_all_samples('CASIA-IrisV1', destination_directory )"
   ]
  }
 ],
 "metadata": {
  "kernelspec": {
   "display_name": "Python 3",
   "language": "python",
   "name": "python3"
  },
  "language_info": {
   "codemirror_mode": {
    "name": "ipython",
    "version": 3
   },
   "file_extension": ".py",
   "mimetype": "text/x-python",
   "name": "python",
   "nbconvert_exporter": "python",
   "pygments_lexer": "ipython3",
   "version": "3.7.3"
  }
 },
 "nbformat": 4,
 "nbformat_minor": 2
}
