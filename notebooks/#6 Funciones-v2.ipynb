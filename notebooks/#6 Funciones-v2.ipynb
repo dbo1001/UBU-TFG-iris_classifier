{
 "cells": [
  {
   "cell_type": "code",
   "execution_count": 1,
   "metadata": {},
   "outputs": [],
   "source": [
    "import warnings\n",
    "warnings.filterwarnings('ignore')"
   ]
  },
  {
   "cell_type": "code",
   "execution_count": 2,
   "metadata": {},
   "outputs": [],
   "source": [
    "import os\n",
    "import cv2\n",
    "import numpy as np\n",
    "import pandas as pd\n",
    "import matplotlib\n",
    "import matplotlib.pyplot as plt\n",
    "\n",
    "import skimage.io as io\n",
    "import skimage.transform as trans\n",
    "import shutil\n",
    "\n",
    "from skimage import data\n",
    "from skimage.io import imread, imshow"
   ]
  },
  {
   "cell_type": "markdown",
   "metadata": {},
   "source": [
    "Para hacer más comprensible e intuitivo la clasificación de los individuos se asignará un nombre único a cada muestra para que se ajuste al funcionamiento en un entorno real."
   ]
  },
  {
   "cell_type": "code",
   "execution_count": 3,
   "metadata": {},
   "outputs": [],
   "source": [
    "def create_dir_tree(directory, names):\n",
    "    '''\n",
    "    Crea directorio con n muestras,\n",
    "    '''\n",
    "    if os.path.exists(directory):\n",
    "        shutil.rmtree(directory) # borramos directorio y lurgo le creamos\n",
    "        \n",
    "    os.mkdir(directory)\n",
    "        \n",
    "    for name in names:\n",
    "        sample = os.path.join(directory,name)\n",
    "        os.mkdir(sample)"
   ]
  },
  {
   "cell_type": "code",
   "execution_count": 4,
   "metadata": {},
   "outputs": [
    {
     "data": {
      "text/plain": [
       "0    Serenity\n",
       "1    Cataleya\n",
       "2      Andrew\n",
       "3       Corey\n",
       "4       Maite\n",
       "Name: Names, dtype: object"
      ]
     },
     "execution_count": 4,
     "metadata": {},
     "output_type": "execute_result"
    }
   ],
   "source": [
    "random_names = pd.read_csv('random_names.csv')\n",
    "random_names = random_names['Names'][:len(os.listdir(\"CASIA-IrisV1\"))]\n",
    "random_names[:5]"
   ]
  },
  {
   "cell_type": "code",
   "execution_count": 5,
   "metadata": {},
   "outputs": [],
   "source": [
    "new_dir = \"CASIA-Iris\"\n",
    "create_dir_tree(new_dir,random_names)"
   ]
  },
  {
   "cell_type": "code",
   "execution_count": 6,
   "metadata": {},
   "outputs": [],
   "source": [
    "def copy_samples(to_dir, from_dir):\n",
    "    directories = os.listdir(to_dir) # nombres de las muestras\n",
    "    i = 0\n",
    "    k = 1\n",
    "    for root, dirs, files in os.walk(from_dir):\n",
    "        for file in files:\n",
    "            if file.endswith(\".bmp\"):\n",
    "                source = os.path.join(root, file)\n",
    "                dest = os.path.join(to_dir,directories[i])\n",
    "                shutil.copy(source, dest)\n",
    "                if len(os.listdir(dest)) == 7:\n",
    "                    i = i + 1\n",
    "                    continue"
   ]
  },
  {
   "cell_type": "code",
   "execution_count": 7,
   "metadata": {},
   "outputs": [],
   "source": [
    "copy_samples(new_dir, \"CASIA-IrisV1\")"
   ]
  },
  {
   "cell_type": "code",
   "execution_count": 8,
   "metadata": {},
   "outputs": [],
   "source": [
    "# cambiamos nombre a las muestras\n",
    "for root, dirs, files in os.walk(new_dir):\n",
    "    for d in dirs:\n",
    "        name = str(d)\n",
    "        k = 1\n",
    "        for i in os.listdir(os.path.join(new_dir,d)):\n",
    "            os.rename(os.path.join(os.path.join(new_dir,d),i), os.path.join(os.path.join(new_dir,d),name + '_' + str(k)+'.bmp'))\n",
    "            k += 1"
   ]
  },
  {
   "cell_type": "code",
   "execution_count": 9,
   "metadata": {},
   "outputs": [],
   "source": [
    "def get_paths(directory):\n",
    "    '''\n",
    "    Devuelve la ruta relativa de las muestras .bmp\n",
    "    '''\n",
    "    paths = []\n",
    "    for root, dirs, files in os.walk(directory):\n",
    "        for file in files:\n",
    "            if file.endswith(\".bmp\"):\n",
    "                paths.append(os.path.join(root, file))\n",
    "    return paths"
   ]
  },
  {
   "cell_type": "code",
   "execution_count": 10,
   "metadata": {},
   "outputs": [],
   "source": [
    "paths_casia = get_paths(\"CASIA-Iris\")\n",
    "original_samples = [cv2.imread(muestra,0) for muestra in paths_casia] # array de las muestras originales en b&w"
   ]
  },
  {
   "cell_type": "code",
   "execution_count": 11,
   "metadata": {},
   "outputs": [
    {
     "data": {
      "text/plain": [
       "['CASIA-Iris\\\\Adrianna\\\\Adrianna_1.bmp',\n",
       " 'CASIA-Iris\\\\Adrianna\\\\Adrianna_2.bmp',\n",
       " 'CASIA-Iris\\\\Adrianna\\\\Adrianna_3.bmp',\n",
       " 'CASIA-Iris\\\\Adrianna\\\\Adrianna_4.bmp',\n",
       " 'CASIA-Iris\\\\Adrianna\\\\Adrianna_5.bmp',\n",
       " 'CASIA-Iris\\\\Adrianna\\\\Adrianna_6.bmp',\n",
       " 'CASIA-Iris\\\\Adrianna\\\\Adrianna_7.bmp',\n",
       " 'CASIA-Iris\\\\Aharon\\\\Aharon_1.bmp',\n",
       " 'CASIA-Iris\\\\Aharon\\\\Aharon_2.bmp',\n",
       " 'CASIA-Iris\\\\Aharon\\\\Aharon_3.bmp']"
      ]
     },
     "execution_count": 11,
     "metadata": {},
     "output_type": "execute_result"
    }
   ],
   "source": [
    "paths_casia[:10]"
   ]
  },
  {
   "cell_type": "code",
   "execution_count": 12,
   "metadata": {},
   "outputs": [],
   "source": [
    "def testGenerator(images, target_size= (320,320)):\n",
    "    for muestra in images:\n",
    "        img = muestra / 255\n",
    "        img = trans.resize(img,target_size)\n",
    "        img = np.reshape(img,(1,)+img.shape)\n",
    "        yield img"
   ]
  },
  {
   "cell_type": "code",
   "execution_count": 13,
   "metadata": {},
   "outputs": [],
   "source": [
    "def saveResult(results, save_dir, names):\n",
    "    '''\n",
    "    Guarda los imágenes segmentadas resultado de la red preentrenada\n",
    "    \n",
    "    Parámetros:\n",
    "    results -- resultado de la red preentrenada\n",
    "    save_path -- ruta en la que se guardarán las muestras segmentadas\n",
    "    name_path -- directorio del que cogeremos los nombres de las muestras\n",
    "    '''\n",
    "    dim = (320, 280) # dimensiones originales de las muestras del dataset\n",
    "    if os.path.exists(save_dir):\n",
    "        shutil.rmtree(save_dir)\n",
    "        \n",
    "    os.mkdir(save_dir)\n",
    "    for i,item in enumerate(results):\n",
    "        img = item[:,:,0]\n",
    "        img = cv2.resize(img, dim, interpolation=cv2.INTER_AREA)\n",
    "        io.imsave(os.path.join(save_dir,names[i]),img)"
   ]
  },
  {
   "cell_type": "code",
   "execution_count": 14,
   "metadata": {},
   "outputs": [
    {
     "name": "stderr",
     "output_type": "stream",
     "text": [
      "Using TensorFlow backend.\n"
     ]
    }
   ],
   "source": [
    "from keras.models import load_model\n",
    "\n",
    "model = load_model('Iris_unet_d5.h5')\n",
    "# model.summary()"
   ]
  },
  {
   "cell_type": "code",
   "execution_count": 15,
   "metadata": {},
   "outputs": [
    {
     "name": "stdout",
     "output_type": "stream",
     "text": [
      "756/756 [==============================] - 1012s 1s/step\n"
     ]
    }
   ],
   "source": [
    "gen = testGenerator(original_samples)\n",
    "results = model.predict(gen,verbose=1)"
   ]
  },
  {
   "cell_type": "code",
   "execution_count": 16,
   "metadata": {},
   "outputs": [
    {
     "data": {
      "image/png": "[encoded data removed]",
      "text/plain": [
       "<Figure size 432x288 with 1 Axes>"
      ]
     },
     "metadata": {
      "needs_background": "light"
     },
     "output_type": "display_data"
    }
   ],
   "source": [
    "imshow(results[0][:,:,0]);"
   ]
  },
  {
   "cell_type": "code",
   "execution_count": 17,
   "metadata": {},
   "outputs": [],
   "source": [
    "# guardamos la salida de la red en una nueva lista para que sea accesible\n",
    "unet_outputs = []\n",
    "dim = (320, 280) # dimensiones originales de las muestras del dataset\n",
    "for r in results:\n",
    "    img = r[:,:,0]\n",
    "    img = cv2.resize(img, dim, interpolation=cv2.INTER_AREA)\n",
    "    unet_outputs.append(img)"
   ]
  },
  {
   "cell_type": "markdown",
   "metadata": {},
   "source": [
    "Es necesario reescalar ya que si no da error al aplicar el detector de Canny, el formato no es correcto"
   ]
  },
  {
   "cell_type": "code",
   "execution_count": 18,
   "metadata": {},
   "outputs": [],
   "source": [
    "# reescalamos outputs a 0-1\n",
    "unet_outputs = [cv2.normalize(src=img, dst=None, alpha=0, beta=255, norm_type=cv2.NORM_MINMAX, dtype=cv2.CV_8U) \n",
    "                for img in unet_outputs]"
   ]
  },
  {
   "cell_type": "code",
   "execution_count": 19,
   "metadata": {},
   "outputs": [
    {
     "data": {
      "image/png": "[encoded data removed]",
      "text/plain": [
       "<Figure size 432x288 with 1 Axes>"
      ]
     },
     "metadata": {
      "needs_background": "light"
     },
     "output_type": "display_data"
    }
   ],
   "source": [
    "imshow(unet_outputs[7]);"
   ]
  },
  {
   "cell_type": "markdown",
   "metadata": {},
   "source": [
    "### Aplicamos los operadores morfológicos"
   ]
  },
  {
   "cell_type": "code",
   "execution_count": 26,
   "metadata": {},
   "outputs": [],
   "source": [
    "def morph_operator(images):\n",
    "    enhanced = []\n",
    "    for img in images:\n",
    "        blur= cv2.GaussianBlur(img,(17,17),0)\n",
    "        (thresh, binarized) = cv2.threshold(blur, 70, 255, cv2.THRESH_BINARY) # se binariza nuevament\n",
    "        enhanced.append(binarized)\n",
    "    return enhanced"
   ]
  },
  {
   "cell_type": "code",
   "execution_count": 27,
   "metadata": {},
   "outputs": [
    {
     "data": {
      "image/png": "[encoded data removed]",
      "text/plain": [
       "<Figure size 432x288 with 1 Axes>"
      ]
     },
     "metadata": {
      "needs_background": "light"
     },
     "output_type": "display_data"
    }
   ],
   "source": [
    "enhanced_outputs = morph_operator(unet_outputs)\n",
    "imshow(enhanced_outputs[7]);\n",
    "# enhanced_outputs"
   ]
  },
  {
   "cell_type": "code",
   "execution_count": 28,
   "metadata": {},
   "outputs": [],
   "source": [
    "def canny_edges(images):\n",
    "    canny_edges = []\n",
    "    for img in images:\n",
    "        edges = cv2.Canny(img, 10, 255)\n",
    "        canny_edges.append(edges)\n",
    "    \n",
    "    return canny_edges"
   ]
  },
  {
   "cell_type": "code",
   "execution_count": 29,
   "metadata": {},
   "outputs": [
    {
     "data": {
      "image/png": "[encoded data removed]",
      "text/plain": [
       "<Figure size 432x288 with 1 Axes>"
      ]
     },
     "metadata": {
      "needs_background": "light"
     },
     "output_type": "display_data"
    }
   ],
   "source": [
    "edged_outputs = canny_edges(enhanced_outputs)\n",
    "plt.imshow(edged_outputs[0],\"gray\");"
   ]
  },
  {
   "cell_type": "code",
   "execution_count": 30,
   "metadata": {},
   "outputs": [],
   "source": [
    "from skimage import data\n",
    "from skimage.transform import (hough_line, hough_line_peaks, hough_circle, hough_circle_peaks)\n",
    "from skimage.draw import circle_perimeter\n",
    "from skimage.color import gray2rgb\n",
    "from matplotlib import cm\n",
    "from time import time"
   ]
  },
  {
   "cell_type": "code",
   "execution_count": 31,
   "metadata": {},
   "outputs": [],
   "source": [
    "def draw_circles(img, cx, cy, radii):\n",
    "    '''\n",
    "    A partir de los centros y el radio detectados dibuja el iris sobre la imagen que se le\n",
    "    pasa como parámetro.\n",
    "    '''\n",
    "    image = img\n",
    "    pupil = cv2.circle(image,(cx[0],cy[0]), radii[0], (255, 0, 0), 2)\n",
    "    iris = cv2.circle(image,(cx[1],cy[1]), radii[1], (255, 0, 0), 2)\n",
    "    return image"
   ]
  },
  {
   "cell_type": "code",
   "execution_count": 38,
   "metadata": {},
   "outputs": [],
   "source": [
    "def get_circles(roi,gray_img):\n",
    "    hough_radii = np.arange(20, 80) # pupila por defecto\n",
    "    if roi  == \"iris\":\n",
    "        hough_radii = np.arange(90, 160) # rango del iris\n",
    "    \n",
    "    hough_res = hough_circle(gray_img, hough_radii)\n",
    "    accums, cx, cy, radii = hough_circle_peaks(hough_res, hough_radii, total_num_peaks=1) \n",
    "#     print(f\"center of {borde}: \", (cx[0],cy[0]))\n",
    "#     print(f\"radius of {borde}: \", radii[0])\n",
    "    \n",
    "    return [cx[0], cy[0], radii[0]]"
   ]
  },
  {
   "cell_type": "code",
   "execution_count": 41,
   "metadata": {},
   "outputs": [],
   "source": [
    "# EJECUTAR UNA VEZ QUE TARDA MUCHO!!!\n",
    "def get_centers_radius(canny_images, original_images):\n",
    "    boundaries = [] # contiene los bordes límbico y pupilar\n",
    "    centers = [] # contiene centros y radio de la pupila\n",
    "    i = 0\n",
    "    tiempo_inicial = time()\n",
    "    \n",
    "    for img in canny_images:\n",
    "        gray_img= img\n",
    "        pupil_coord = get_circles(\"pupil\",gray_img)\n",
    "        iris_coord = get_circles(\"iris\",gray_img)\n",
    "        cx, cy, radius = list(zip(pupil_coord, iris_coord))\n",
    "        \n",
    "        # guardamos centros y radios\n",
    "        boundaries.append(draw_circles(original_images[i], cx, cy, radius))\n",
    "        data = {'pupil':pupil_coord,\n",
    "                'iris':iris_coord}\n",
    "        centers.append(data)\n",
    "        \n",
    "        i = i+1\n",
    "    tiempo_final = time()\n",
    "    \n",
    "    print(f'DONE!, time elapsed:{tiempo_final-tiempo_inicial}')\n",
    "    \n",
    "    return boundaries, centers\n"
   ]
  },
  {
   "cell_type": "code",
   "execution_count": 42,
   "metadata": {},
   "outputs": [
    {
     "name": "stdout",
     "output_type": "stream",
     "text": [
      "DONE!, time elapsed:702.7337515354156\n"
     ]
    }
   ],
   "source": [
    "boundaries, centers = get_centers_radius(edged_outputs, original_samples)"
   ]
  },
  {
   "cell_type": "code",
   "execution_count": 43,
   "metadata": {},
   "outputs": [
    {
     "data": {
      "text/plain": [
       "array([[176, 166, 170, ..., 187, 180, 169],\n",
       "       [170, 169, 173, ..., 185, 181, 179],\n",
       "       [177, 165, 173, ..., 198, 187, 169],\n",
       "       ...,\n",
       "       [154, 155, 155, ..., 169, 178, 199],\n",
       "       [159, 148, 154, ..., 170, 177, 192],\n",
       "       [153, 154, 150, ..., 172, 171, 189]], dtype=uint8)"
      ]
     },
     "execution_count": 43,
     "metadata": {},
     "output_type": "execute_result"
    }
   ],
   "source": [
    "boundaries[0]"
   ]
  },
  {
   "cell_type": "code",
   "execution_count": 44,
   "metadata": {},
   "outputs": [
    {
     "data": {
      "text/plain": [
       "{'pupil': [182, 134, 33], 'iris': [176, 135, 105]}"
      ]
     },
     "execution_count": 44,
     "metadata": {},
     "output_type": "execute_result"
    }
   ],
   "source": [
    "centers[0]"
   ]
  },
  {
   "cell_type": "markdown",
   "metadata": {},
   "source": [
    "### Normalización"
   ]
  },
  {
   "cell_type": "code",
   "execution_count": 45,
   "metadata": {},
   "outputs": [
    {
     "data": {
      "text/plain": [
       "[[182, 134, 33],\n",
       " [173, 138, 35],\n",
       " [174, 120, 35],\n",
       " [183, 122, 37],\n",
       " [177, 145, 35],\n",
       " [179, 133, 36],\n",
       " [154, 131, 33],\n",
       " [181, 141, 47],\n",
       " [184, 139, 45],\n",
       " [172, 155, 44]]"
      ]
     },
     "execution_count": 45,
     "metadata": {},
     "output_type": "execute_result"
    }
   ],
   "source": [
    "pupil_centers = [center['pupil'] for center in centers]\n",
    "pupil_centers[:10]"
   ]
  },
  {
   "cell_type": "code",
   "execution_count": 46,
   "metadata": {},
   "outputs": [],
   "source": [
    "def iris_normalization(boundaries,centers):\n",
    "    normalized = []\n",
    "    cent=0\n",
    "    for img in boundaries:\n",
    "#         img = normalized[name]\n",
    "        #load pupil centers and radius of inner circles\n",
    "        center_x = centers[cent][0]\n",
    "        center_y = centers[cent][1]\n",
    "        radius_pupil=int(centers[cent][2])\n",
    "        \n",
    "        iris_radius = 53 # width of space between inner and outer boundary\n",
    "    \n",
    "        #define equally spaced interval to iterate over\n",
    "        nsamples = 360\n",
    "        samples = np.linspace(0,2*np.pi, nsamples)[:-1]\n",
    "        polar = np.zeros((iris_radius, nsamples))\n",
    "        for r in range(iris_radius):\n",
    "            for theta in samples:\n",
    "                #get x and y for values on inner boundary\n",
    "                x = (r+radius_pupil)*np.cos(theta)+center_x\n",
    "                y = (r+radius_pupil)*np.sin(theta)+center_y\n",
    "                x=int(x)\n",
    "                y=int(y)\n",
    "                try:\n",
    "                #convert coordinates\n",
    "                    polar[r][int((theta*nsamples)/(2*np.pi))] = img[y][x]\n",
    "                except IndexError: #ignores values which lie out of bounds\n",
    "                    pass\n",
    "                continue\n",
    "        res = cv2.resize(polar,(512,64))\n",
    "        normalized.append(res)\n",
    "        cent+=1\n",
    "    print('DONE!')\n",
    "    return normalized #returns a list of 64x512 normalized images"
   ]
  },
  {
   "cell_type": "code",
   "execution_count": 47,
   "metadata": {},
   "outputs": [
    {
     "name": "stdout",
     "output_type": "stream",
     "text": [
      "DONE!\n"
     ]
    }
   ],
   "source": [
    "normalized_outputs = iris_normalization(boundaries,pupil_centers)"
   ]
  },
  {
   "cell_type": "code",
   "execution_count": 48,
   "metadata": {},
   "outputs": [
    {
     "data": {
      "image/png": "[encoded data removed]",
      "text/plain": [
       "<Figure size 432x288 with 1 Axes>"
      ]
     },
     "metadata": {
      "needs_background": "light"
     },
     "output_type": "display_data"
    }
   ],
   "source": [
    "plt.imshow(normalized_outputs[0],\"gray\");"
   ]
  },
  {
   "cell_type": "code",
   "execution_count": 49,
   "metadata": {},
   "outputs": [],
   "source": [
    "from skimage import exposure\n",
    "def crop_and_ecualization(normalized):\n",
    "    enhanced = []\n",
    "    for img in normalized:\n",
    "        h,w = img.shape\n",
    "        roi = img[5:h, 0:int(512/2)]\n",
    "        roi_enhanced = exposure.equalize_hist(roi)\n",
    "        enhanced.append(roi_enhanced)\n",
    "    print(\"DONE!\")\n",
    "    \n",
    "    return enhanced"
   ]
  },
  {
   "cell_type": "code",
   "execution_count": 50,
   "metadata": {},
   "outputs": [
    {
     "name": "stdout",
     "output_type": "stream",
     "text": [
      "DONE!\n"
     ]
    }
   ],
   "source": [
    "normalized_outputs = crop_and_ecualization(normalized_outputs)"
   ]
  },
  {
   "cell_type": "code",
   "execution_count": 51,
   "metadata": {},
   "outputs": [
    {
     "data": {
      "image/png": "[encoded data removed]",
      "text/plain": [
       "<Figure size 432x288 with 1 Axes>"
      ]
     },
     "metadata": {
      "needs_background": "light"
     },
     "output_type": "display_data"
    }
   ],
   "source": [
    "plt.imshow(normalized_outputs[0],\"gray\");"
   ]
  },
  {
   "cell_type": "code",
   "execution_count": 52,
   "metadata": {},
   "outputs": [],
   "source": [
    "new_dir = \"CASIA-Polar\"\n",
    "if os.path.exists(new_dir):\n",
    "    shutil.rmtree(new_dir)\n",
    "\n",
    "create_dir_tree(new_dir,random_names)"
   ]
  },
  {
   "cell_type": "code",
   "execution_count": 53,
   "metadata": {},
   "outputs": [
    {
     "data": {
      "text/plain": [
       "['CASIA-Polar\\\\Adrianna',\n",
       " 'CASIA-Polar\\\\Aharon',\n",
       " 'CASIA-Polar\\\\Aidan',\n",
       " 'CASIA-Polar\\\\Aiza',\n",
       " 'CASIA-Polar\\\\Aleah',\n",
       " 'CASIA-Polar\\\\Alice',\n",
       " 'CASIA-Polar\\\\Alvin',\n",
       " 'CASIA-Polar\\\\Amayah',\n",
       " 'CASIA-Polar\\\\Amberly',\n",
       " 'CASIA-Polar\\\\Aminata']"
      ]
     },
     "execution_count": 53,
     "metadata": {},
     "output_type": "execute_result"
    }
   ],
   "source": [
    "names = os.listdir(new_dir)\n",
    "paths = [os.path.join(new_dir, d) for d in names]\n",
    "paths[:10]"
   ]
  },
  {
   "cell_type": "code",
   "execution_count": 54,
   "metadata": {},
   "outputs": [],
   "source": [
    "i = 0\n",
    "k = 1\n",
    "for file in normalized_outputs:\n",
    "    dest = paths[i]\n",
    "    io.imsave(os.path.join(dest,names[i] +'_'+ str(k) + '.bmp'),file)\n",
    "    if len(os.listdir(dest)) == 7:\n",
    "        i = i + 1\n",
    "        k = 1\n",
    "        continue\n",
    "    k = k + 1"
   ]
  },
  {
   "cell_type": "code",
   "execution_count": 55,
   "metadata": {},
   "outputs": [],
   "source": [
    "from pathlib import Path\n",
    "\n",
    "# cogemos nombres de las imágenes .bmp\n",
    "image_files = []\n",
    "\n",
    "for root, dirs, files in os.walk(new_dir):\n",
    "    for file in files:\n",
    "        if file.endswith(\".bmp\"):\n",
    "            image_files.append(file)\n",
    "            \n",
    "# cogemos las clases a las que pertenece cada .bmp\n",
    "classes = []           \n",
    "for name in names:\n",
    "    for i in range(7):\n",
    "        classes.append(name)\n",
    "x_pupil, y_pupil, r_pupil =[], [], []\n",
    "x_iris, y_iris, r_iris =[],[],[]\n",
    "for i in centers:\n",
    "    x_pupil.append(i['pupil'][0])\n",
    "    y_pupil.append(i['pupil'][1])\n",
    "    r_pupil.append(i['pupil'][2])\n",
    "    x_iris.append(i['iris'][0])\n",
    "    y_iris.append(i['iris'][1])\n",
    "    r_iris.append(i['iris'][2])\n"
   ]
  },
  {
   "cell_type": "code",
   "execution_count": 57,
   "metadata": {},
   "outputs": [
    {
     "data": {
      "text/html": [
       "<div>\n",
       "<style scoped>\n",
       "    .dataframe tbody tr th:only-of-type {\n",
       "        vertical-align: middle;\n",
       "    }\n",
       "\n",
       "    .dataframe tbody tr th {\n",
       "        vertical-align: top;\n",
       "    }\n",
       "\n",
       "    .dataframe thead th {\n",
       "        text-align: right;\n",
       "    }\n",
       "</style>\n",
       "<table border=\"1\" class=\"dataframe\">\n",
       "  <thead>\n",
       "    <tr style=\"text-align: right;\">\n",
       "      <th></th>\n",
       "      <th>image</th>\n",
       "      <th>pupil x_center</th>\n",
       "      <th>pupil y_center</th>\n",
       "      <th>pupil radius</th>\n",
       "      <th>iris x_center</th>\n",
       "      <th>iris y_center</th>\n",
       "      <th>iris radius</th>\n",
       "      <th>class</th>\n",
       "    </tr>\n",
       "  </thead>\n",
       "  <tbody>\n",
       "    <tr>\n",
       "      <th>10</th>\n",
       "      <td>Aharon_4.bmp</td>\n",
       "      <td>194</td>\n",
       "      <td>134</td>\n",
       "      <td>47</td>\n",
       "      <td>197</td>\n",
       "      <td>137</td>\n",
       "      <td>114</td>\n",
       "      <td>Aharon</td>\n",
       "    </tr>\n",
       "    <tr>\n",
       "      <th>11</th>\n",
       "      <td>Aharon_5.bmp</td>\n",
       "      <td>157</td>\n",
       "      <td>138</td>\n",
       "      <td>47</td>\n",
       "      <td>130</td>\n",
       "      <td>138</td>\n",
       "      <td>92</td>\n",
       "      <td>Aharon</td>\n",
       "    </tr>\n",
       "    <tr>\n",
       "      <th>12</th>\n",
       "      <td>Aharon_6.bmp</td>\n",
       "      <td>168</td>\n",
       "      <td>137</td>\n",
       "      <td>48</td>\n",
       "      <td>172</td>\n",
       "      <td>133</td>\n",
       "      <td>118</td>\n",
       "      <td>Aharon</td>\n",
       "    </tr>\n",
       "    <tr>\n",
       "      <th>13</th>\n",
       "      <td>Aharon_7.bmp</td>\n",
       "      <td>172</td>\n",
       "      <td>132</td>\n",
       "      <td>48</td>\n",
       "      <td>176</td>\n",
       "      <td>126</td>\n",
       "      <td>118</td>\n",
       "      <td>Aharon</td>\n",
       "    </tr>\n",
       "    <tr>\n",
       "      <th>14</th>\n",
       "      <td>Aidan_1.bmp</td>\n",
       "      <td>185</td>\n",
       "      <td>148</td>\n",
       "      <td>39</td>\n",
       "      <td>187</td>\n",
       "      <td>150</td>\n",
       "      <td>111</td>\n",
       "      <td>Aidan</td>\n",
       "    </tr>\n",
       "    <tr>\n",
       "      <th>15</th>\n",
       "      <td>Aidan_2.bmp</td>\n",
       "      <td>168</td>\n",
       "      <td>146</td>\n",
       "      <td>36</td>\n",
       "      <td>150</td>\n",
       "      <td>153</td>\n",
       "      <td>93</td>\n",
       "      <td>Aidan</td>\n",
       "    </tr>\n",
       "    <tr>\n",
       "      <th>16</th>\n",
       "      <td>Aidan_3.bmp</td>\n",
       "      <td>176</td>\n",
       "      <td>143</td>\n",
       "      <td>39</td>\n",
       "      <td>178</td>\n",
       "      <td>147</td>\n",
       "      <td>111</td>\n",
       "      <td>Aidan</td>\n",
       "    </tr>\n",
       "    <tr>\n",
       "      <th>17</th>\n",
       "      <td>Aidan_4.bmp</td>\n",
       "      <td>176</td>\n",
       "      <td>147</td>\n",
       "      <td>37</td>\n",
       "      <td>159</td>\n",
       "      <td>159</td>\n",
       "      <td>91</td>\n",
       "      <td>Aidan</td>\n",
       "    </tr>\n",
       "    <tr>\n",
       "      <th>18</th>\n",
       "      <td>Aidan_5.bmp</td>\n",
       "      <td>170</td>\n",
       "      <td>163</td>\n",
       "      <td>36</td>\n",
       "      <td>152</td>\n",
       "      <td>175</td>\n",
       "      <td>90</td>\n",
       "      <td>Aidan</td>\n",
       "    </tr>\n",
       "    <tr>\n",
       "      <th>19</th>\n",
       "      <td>Aidan_6.bmp</td>\n",
       "      <td>171</td>\n",
       "      <td>172</td>\n",
       "      <td>34</td>\n",
       "      <td>174</td>\n",
       "      <td>171</td>\n",
       "      <td>112</td>\n",
       "      <td>Aidan</td>\n",
       "    </tr>\n",
       "  </tbody>\n",
       "</table>\n",
       "</div>"
      ],
      "text/plain": [
       "           image  pupil x_center  pupil y_center  pupil radius  iris x_center  \\\n",
       "10  Aharon_4.bmp             194             134            47            197   \n",
       "11  Aharon_5.bmp             157             138            47            130   \n",
       "12  Aharon_6.bmp             168             137            48            172   \n",
       "13  Aharon_7.bmp             172             132            48            176   \n",
       "14   Aidan_1.bmp             185             148            39            187   \n",
       "15   Aidan_2.bmp             168             146            36            150   \n",
       "16   Aidan_3.bmp             176             143            39            178   \n",
       "17   Aidan_4.bmp             176             147            37            159   \n",
       "18   Aidan_5.bmp             170             163            36            152   \n",
       "19   Aidan_6.bmp             171             172            34            174   \n",
       "\n",
       "    iris y_center  iris radius   class  \n",
       "10            137          114  Aharon  \n",
       "11            138           92  Aharon  \n",
       "12            133          118  Aharon  \n",
       "13            126          118  Aharon  \n",
       "14            150          111   Aidan  \n",
       "15            153           93   Aidan  \n",
       "16            147          111   Aidan  \n",
       "17            159           91   Aidan  \n",
       "18            175           90   Aidan  \n",
       "19            171          112   Aidan  "
      ]
     },
     "execution_count": 57,
     "metadata": {},
     "output_type": "execute_result"
    }
   ],
   "source": [
    "data = {'image': image_files,\n",
    "       'pupil x_center':x_pupil,\n",
    "       'pupil y_center':y_pupil,\n",
    "       'pupil radius': r_pupil,\n",
    "       'iris x_center': x_iris,\n",
    "       'iris y_center': y_iris,\n",
    "       'iris radius':r_iris,\n",
    "       'class': classes}\n",
    "df = pd.DataFrame(data)[['image','pupil x_center','pupil y_center','pupil radius','iris x_center', 'iris y_center','iris radius',\"class\"]] \n",
    "\n",
    "df[10:20]"
   ]
  },
  {
   "cell_type": "code",
   "execution_count": null,
   "metadata": {},
   "outputs": [],
   "source": [
    "df.to_csv(\"iris_datav1.csv\")"
   ]
  }
 ],
 "metadata": {
  "kernelspec": {
   "display_name": "Python 3",
   "language": "python",
   "name": "python3"
  },
  "language_info": {
   "codemirror_mode": {
    "name": "ipython",
    "version": 3
   },
   "file_extension": ".py",
   "mimetype": "text/x-python",
   "name": "python",
   "nbconvert_exporter": "python",
   "pygments_lexer": "ipython3",
   "version": "3.7.3"
  }
 },
 "nbformat": 4,
 "nbformat_minor": 2
}
