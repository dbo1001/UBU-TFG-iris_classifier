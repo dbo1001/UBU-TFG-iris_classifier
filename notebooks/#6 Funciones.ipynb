{
 "cells": [
  {
   "cell_type": "code",
   "execution_count": 7,
   "metadata": {},
   "outputs": [],
   "source": [
    "import warnings\n",
    "warnings.filterwarnings('ignore')"
   ]
  },
  {
   "cell_type": "code",
   "execution_count": 8,
   "metadata": {},
   "outputs": [],
   "source": [
    "import os\n",
    "import cv2\n",
    "import numpy as np\n",
    "import matplotlib\n",
    "import matplotlib.pyplot as plt\n",
    "\n",
    "import skimage.io as io\n",
    "import skimage.transform as trans\n",
    "import shutil\n",
    "\n",
    "from skimage import data"
   ]
  },
  {
   "cell_type": "code",
   "execution_count": 9,
   "metadata": {},
   "outputs": [],
   "source": [
    "# ejecutar una sola vez\n",
    "import shutil\n",
    "\n",
    "# borramos los directorios demo creados hasta ahora para hacer las pruebas\n",
    "# shutil.rmtree('CASIA_Cropped')\n",
    "# shutil.rmtree('CASIA_Edge')\n",
    "# shutil.rmtree('CASIA_Segmented')\n",
    "# shutil.rmtree('CASIA_Segmented_v2')\n",
    "# shutil.rmtree('CASIA_v1')"
   ]
  },
  {
   "cell_type": "code",
   "execution_count": 10,
   "metadata": {},
   "outputs": [],
   "source": [
    "# shutil.rmtree('CASIA-Iris-Segmented')\n",
    "# shutil.rmtree('U-net Output')"
   ]
  },
  {
   "cell_type": "code",
   "execution_count": 11,
   "metadata": {},
   "outputs": [
    {
     "name": "stdout",
     "output_type": "stream",
     "text": [
      "-> Estructura de directorios creados satisfactoriamente.\n"
     ]
    }
   ],
   "source": [
    "def create_segmented_dir(from_dir, to_dir):\n",
    "    '''\n",
    "    Crea la mimsma estructura con la que cuenta el dataset de CASIA en la que se guardará \n",
    "    las imágenes segmentadas.\n",
    "    '''\n",
    "    # creamos carpeta en la que guardaremos las imágenes\n",
    "    os.mkdir(to_dir)\n",
    "    for i in range(1, len(os.listdir(from_dir))+1): # 108 sujetos\n",
    "        sample = to_dir + os.sep + \"%.3d\" % i\n",
    "        os.mkdir(sample)\n",
    "        for j in range(1,3): # 2 sesiones\n",
    "            session = sample + os.sep + str(j)\n",
    "            os.mkdir(session)\n",
    "                   \n",
    "    print(\"-> Estructura de directorios creados satisfactoriamente.\")\n",
    "\n",
    "create_segmented_dir('CASIA-IrisV1', 'CASIA-Iris-Segmented')"
   ]
  },
  {
   "cell_type": "code",
   "execution_count": 12,
   "metadata": {},
   "outputs": [],
   "source": [
    "def get_paths(directory, last_element=False):\n",
    "    '''\n",
    "    Devuelve la ruta relativa de las muestras .bmp\n",
    "    '''\n",
    "    paths = []\n",
    "    for root, dirs, files in os.walk(directory):\n",
    "        for file in files:\n",
    "            if file.endswith(\".bmp\"):\n",
    "                if last_element:\n",
    "                    paths.append(str(file))\n",
    "                else:\n",
    "                    paths.append(os.path.join(root, file))\n",
    "    return paths"
   ]
  },
  {
   "cell_type": "code",
   "execution_count": 13,
   "metadata": {},
   "outputs": [],
   "source": [
    "original_paths = get_paths(\"CASIA-IrisV1\") # paths de las muestras originales del dataset CASIA\n",
    "samples_names = get_paths(\"CASIA-IrisV1\",True) # nombre de las muestras y su extensión\n",
    "original = [cv2.imread(muestra,0) for muestra in original_paths] # en blanco y negro\n",
    "# plt.imshow(original[0]);"
   ]
  },
  {
   "cell_type": "code",
   "execution_count": 14,
   "metadata": {},
   "outputs": [],
   "source": [
    "def testGenerator(originals, target_size= (320,320)):\n",
    "    for muestra in originals:\n",
    "        img = muestra / 255\n",
    "        img = trans.resize(img,target_size)\n",
    "        img = np.reshape(img,(1,)+img.shape)\n",
    "        yield img\n",
    "\n",
    "def saveResult(results, save_dir, names_results):\n",
    "    '''\n",
    "    Guarda los imágenes segmentadas resultado de la red preentrenada\n",
    "    \n",
    "    Parámetros:\n",
    "    results -- resultado de la red preentrenada\n",
    "    save_path -- ruta en la que se guardarán las muestras segmentadas\n",
    "    name_path -- directorio del que cogeremos los nombres de las muestras\n",
    "    \n",
    "    flag_multi_class -- (de momento mantener pero no nos es útil)\n",
    "    '''\n",
    "    dim = (320, 280) # dimensiones de las muestras del dataset\n",
    "    if not os.path.isdir(save_dir):\n",
    "        os.mkdir(save_dir)\n",
    "        for i,item in enumerate(results):\n",
    "            img = item[:,:,0]\n",
    "            img = cv2.resize(img, dim, interpolation=cv2.INTER_AREA)\n",
    "            io.imsave(os.path.join(save_dir,names_results[i]),img)"
   ]
  },
  {
   "cell_type": "code",
   "execution_count": 16,
   "metadata": {},
   "outputs": [
    {
     "name": "stderr",
     "output_type": "stream",
     "text": [
      "Using TensorFlow backend.\n"
     ]
    }
   ],
   "source": [
    "from keras.models import load_model\n",
    "\n",
    "model = load_model('Iris_unet_d5.h5')\n",
    "# model.summary()"
   ]
  },
  {
   "cell_type": "code",
   "execution_count": 17,
   "metadata": {},
   "outputs": [
    {
     "name": "stdout",
     "output_type": "stream",
     "text": [
      "756/756 [==============================] - 1026s 1s/step\n"
     ]
    }
   ],
   "source": [
    "gen = testGenerator(original)\n",
    "results = model.predict(gen,verbose=1)"
   ]
  },
  {
   "cell_type": "code",
   "execution_count": 18,
   "metadata": {},
   "outputs": [],
   "source": [
    "# tiene que haber un directorio con las 756 muestras segmentadas\n",
    "saveResult(results, \"U-net Output\", samples_names)"
   ]
  },
  {
   "cell_type": "markdown",
   "metadata": {},
   "source": [
    "### Aplicamos los operadores morfológicos\n",
    "\n",
    "Se harán sobre todas las muestras del directorio `U-net Output`"
   ]
  },
  {
   "cell_type": "code",
   "execution_count": 19,
   "metadata": {},
   "outputs": [],
   "source": [
    "def morph_operator(images):\n",
    "#     if os.path.isdir(save_dir):\n",
    "#         shutil.rmtree(save_dir)\n",
    "#     os.mkdir(save_dir)\n",
    "#     outputs = [os.path.join(images_dir,muestra) for muestra in os.listdir(images_dir)]\n",
    "#     outputs_names = [muestra for muestra in os.listdir(images_dir)]\n",
    "#     i = 0\n",
    "    enhanced = []\n",
    "    for img in images:\n",
    "#         img = cv2.imread(output)\n",
    "        kernel = cv2.getStructuringElement(cv2.MORPH_ELLIPSE, (11, 11))\n",
    "        (thresh, binRed) = cv2.threshold(img, 128, 255, cv2.THRESH_BINARY) # se binariza\n",
    "        opening = cv2.morphologyEx(img, cv2.MORPH_OPEN, kernel, iterations=2) # se aplica operadores morfológicos(vigilar iteraciones)\n",
    "        (thresh, binRed) = cv2.threshold(opening, 128, 255, cv2.THRESH_BINARY) # se binariza nuevamente\n",
    "        # guardamos muestra mejorada\n",
    "#         cv2.imwrite(os.path.join(save_dir, outputs_names[i]),binRed)\n",
    "        enhanced.append(binRed)\n",
    "#         i = i + 1\n",
    "    return enhanced\n",
    "\n",
    "outputs_unet = [cv2.imread(muestra,0) for muestra in get_paths(\"U-net Output\")] # eliminar checkpoints\n",
    "enhanced_outputs = morph_operator(outputs_unet)"
   ]
  },
  {
   "cell_type": "code",
   "execution_count": 20,
   "metadata": {},
   "outputs": [],
   "source": [
    "def canny_edges(images):\n",
    "#     if os.path.isdir(save_dir):\n",
    "#         shutil.rmtree(save_dir)\n",
    "#     os.mkdir(save_dir)\n",
    "    \n",
    "#     outputs = [os.path.join(images_dir,muestra) for muestra in os.listdir(images_dir)]\n",
    "#     outputs_names = [muestra for muestra in os.listdir(images_dir)]\n",
    "#     i = 0\n",
    "    canny_edges = []\n",
    "    for img in images:\n",
    "        edges = cv2.Canny(img, 10, 255)\n",
    "        # guardamos muestra mejorada\n",
    "#         cv2.imwrite(os.path.join(save_dir, outputs_names[i]),edges)\n",
    "        canny_edges.append(edges)\n",
    "#         i = i + 1\n",
    "    return canny_edges\n",
    "\n",
    "canny_outputs = canny_edges(enhanced_outputs)"
   ]
  },
  {
   "cell_type": "code",
   "execution_count": 22,
   "metadata": {},
   "outputs": [],
   "source": [
    "from skimage import data\n",
    "from skimage.transform import (hough_line, hough_line_peaks, hough_circle, hough_circle_peaks)\n",
    "from skimage.draw import circle_perimeter\n",
    "from skimage.color import gray2rgb\n",
    "from matplotlib import cm\n",
    "\n",
    "def draw_circles(img, cx, cy, radii):\n",
    "    '''\n",
    "    A partir de los centros y el radio detectados dibuja el iris sobre la imagen que se le\n",
    "    pasa como parámetro.\n",
    "    '''\n",
    "#     image = gray2rgb(img) # convertimos a color\n",
    "#     for center_y, center_x, radius in zip(cy, cx, radii):\n",
    "#         circy, circx = circle_perimeter(center_y, center_x, radius)\n",
    "# #         print(image[circy,circx])\n",
    "#         image[circy, circx] = (0, 255, 0) # green\n",
    "    image = img\n",
    "    pupil = cv2.circle(image,(cx[0],cy[0]), radii[0], (255, 0, 0), 2)\n",
    "    iris = cv2.circle(image,(cx[1],cy[1]), radii[1], (255, 0, 0), 2)\n",
    "    return image"
   ]
  },
  {
   "cell_type": "code",
   "execution_count": 23,
   "metadata": {},
   "outputs": [
    {
     "name": "stdout",
     "output_type": "stream",
     "text": [
      "DONE!\n"
     ]
    }
   ],
   "source": [
    "# EJECUTAR UNA VEZ QUE TARDA MUCHO!!!\n",
    "def get_centers_radius(canny_images, original_images, names):\n",
    "#     outputs = [os.path.join(images_dir,muestra) for muestra in os.listdir(images_dir)]\n",
    "#     outputs_names = [muestra for muestra in os.listdir(images_dir)]\n",
    "    \n",
    "    boundaries = dict() # contiene los bordes límbico y pupilar\n",
    "    centers = dict() # contiene centros y radio de la pupila\n",
    "    i = 0\n",
    "    for img in canny_images:\n",
    "        gray_img= img\n",
    "        hough_radii = np.arange(20, 150, 2) # ajustar manualmente para que empiece desde un rango que incluya tanto al iris como a la pupila\n",
    "        hough_res = hough_circle(gray_img, hough_radii)\n",
    "        accums, cx, cy, radii = hough_circle_peaks(hough_res, hough_radii, total_num_peaks=2) # total_num_peaks -> nro de círculos\n",
    "        x_pupil, x_iris = cx\n",
    "        y_pupil, y_iris = cy\n",
    "        radius_pupil, radius_iris = radii\n",
    "        boundaries[names[i]] = draw_circles(original_images[i], cx, cy, radii)\n",
    "        centers[names[i]] = dict()\n",
    "        centers[names[i]]['pupil'] = [x_pupil, y_pupil, radius_pupil]\n",
    "        centers[names[i]]['iris'] = [x_iris, y_iris, radius_iris]\n",
    "        i = i+1\n",
    "        \n",
    "    print('DONE!')\n",
    "    return boundaries, centers\n",
    "\n",
    "boundaries, centers = get_centers_radius(canny_outputs, original, samples_names)"
   ]
  },
  {
   "cell_type": "code",
   "execution_count": 41,
   "metadata": {},
   "outputs": [],
   "source": [
    "pupil_centers = [c['pupil'] forº c in centers.values()]"
   ]
  },
  {
   "cell_type": "code",
   "execution_count": 57,
   "metadata": {},
   "outputs": [],
   "source": [
    "def IrisNormalization(boundary,centers):\n",
    "    normalized=boundary\n",
    "    cent=0\n",
    "    for name in normalized:\n",
    "        img = normalized[name]\n",
    "        #load pupil centers and radius of inner circles\n",
    "        center_x = centers[cent][0]\n",
    "        center_y = centers[cent][1]\n",
    "        radius_pupil=int(centers[cent][2])\n",
    "        \n",
    "        iris_radius = 53 # width of space between inner and outer boundary\n",
    "    \n",
    "        #define equally spaced interval to iterate over\n",
    "        nsamples = 360\n",
    "        samples = np.linspace(0,2*np.pi, nsamples)[:-1]\n",
    "        polar = np.zeros((iris_radius, nsamples))\n",
    "        for r in range(iris_radius):\n",
    "            for theta in samples:\n",
    "                #get x and y for values on inner boundary\n",
    "                x = (r+radius_pupil)*np.cos(theta)+center_x\n",
    "                y = (r+radius_pupil)*np.sin(theta)+center_y\n",
    "                x=int(x)\n",
    "                y=int(y)\n",
    "                try:\n",
    "                #convert coordinates\n",
    "                    polar[r][int((theta*nsamples)/(2*np.pi))] = img[y][x]\n",
    "                except IndexError: #ignores values which lie out of bounds\n",
    "                    pass\n",
    "                continue\n",
    "        res = cv2.resize(polar,(512,64))\n",
    "        normalized[name] = res\n",
    "        cent+=1\n",
    "    return normalized #returns a list of 64x512 normalized images\n",
    "\n",
    "normalized = IrisNormalization(boundaries, pupil_centers)"
   ]
  },
  {
   "cell_type": "code",
   "execution_count": 59,
   "metadata": {},
   "outputs": [
    {
     "data": {
      "text/plain": [
       "<matplotlib.image.AxesImage at 0x2525c3cf780>"
      ]
     },
     "execution_count": 59,
     "metadata": {},
     "output_type": "execute_result"
    },
    {
     "data": {
      "image/png": "[encoded data removed]",
      "text/plain": [
       "<Figure size 432x288 with 1 Axes>"
      ]
     },
     "metadata": {
      "needs_background": "light"
     },
     "output_type": "display_data"
    }
   ],
   "source": [
    "plt.imshow(normalized['003_2_1.bmp'])"
   ]
  },
  {
   "cell_type": "code",
   "execution_count": 70,
   "metadata": {},
   "outputs": [
    {
     "data": {
      "text/plain": [
       "(61, 256)"
      ]
     },
     "execution_count": 70,
     "metadata": {},
     "output_type": "execute_result"
    }
   ],
   "source": [
    "normalized['003_2_1.bmp'].shape"
   ]
  },
  {
   "cell_type": "code",
   "execution_count": 76,
   "metadata": {},
   "outputs": [
    {
     "name": "stdout",
     "output_type": "stream",
     "text": [
      "DONE!\n"
     ]
    }
   ],
   "source": [
    "from skimage import exposure\n",
    "def crop_and_ecualization(normalized):\n",
    "    enhanced = normalized\n",
    "    for e in enhanced:\n",
    "        img = enhanced[e]\n",
    "        h,w = img.shape\n",
    "        roi = img[3:h, 0:int(512/2)]\n",
    "#         roi_enhanced = cv2.equalize\n",
    "#         enhanced[e] = roi\n",
    "        roi_enhanced = exposure.equalize_hist(roi)\n",
    "        enhanced[e] = roi_enhanced\n",
    "        \n",
    "    print(\"DONE!\")\n",
    "    return enhanced\n",
    "\n",
    "polar = crop_and_ecualization(normalized)"
   ]
  },
  {
   "cell_type": "code",
   "execution_count": null,
   "metadata": {},
   "outputs": [],
   "source": [
    "saveResult(results, \"U-net Output\", samples_names)"
   ]
  },
  {
   "cell_type": "code",
   "execution_count": 78,
   "metadata": {},
   "outputs": [],
   "source": [
    "# guardamos los trozos\n",
    "name_folder = \"Polar Outputs\"\n",
    "os.mkdir(name_folder)\n",
    "for p in polar:\n",
    "    img = polar[p]\n",
    "    io.imsave(os.path.join(name_folder,p),img)"
   ]
  }
 ],
 "metadata": {
  "kernelspec": {
   "display_name": "Python 3",
   "language": "python",
   "name": "python3"
  },
  "language_info": {
   "codemirror_mode": {
    "name": "ipython",
    "version": 3
   },
   "file_extension": ".py",
   "mimetype": "text/x-python",
   "name": "python",
   "nbconvert_exporter": "python",
   "pygments_lexer": "ipython3",
   "version": "3.7.3"
  }
 },
 "nbformat": 4,
 "nbformat_minor": 2
}
