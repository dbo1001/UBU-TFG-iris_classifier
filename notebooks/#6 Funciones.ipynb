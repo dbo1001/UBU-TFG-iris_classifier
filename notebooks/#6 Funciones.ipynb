{
 "cells": [
  {
   "cell_type": "code",
   "execution_count": 3,
   "metadata": {},
   "outputs": [],
   "source": [
    "import warnings\n",
    "warnings.filterwarnings('ignore')"
   ]
  },
  {
   "cell_type": "code",
   "execution_count": 4,
   "metadata": {},
   "outputs": [],
   "source": [
    "import os\n",
    "import cv2\n",
    "import numpy as np\n",
    "import matplotlib\n",
    "import matplotlib.pyplot as plt\n",
    "\n",
    "import skimage.io as io\n",
    "import skimage.transform as trans\n",
    "import shutil\n",
    "\n",
    "from skimage import data"
   ]
  },
  {
   "cell_type": "code",
   "execution_count": null,
   "metadata": {},
   "outputs": [],
   "source": [
    "# ejecutar una sola vez\n",
    "import shutil\n",
    "\n",
    "# borramos los directorios demo creados hasta ahora para hacer las pruebas\n",
    "shutil.rmtree('CASIA_Cropped')\n",
    "shutil.rmtree('CASIA_Edge')\n",
    "shutil.rmtree('CASIA_Segmented')\n",
    "shutil.rmtree('CASIA_Segmented_v2')\n",
    "shutil.rmtree('CASIA_v1')"
   ]
  },
  {
   "cell_type": "code",
   "execution_count": 100,
   "metadata": {},
   "outputs": [],
   "source": [
    "# shutil.rmtree('CASIA-Iris-Segmented')\n",
    "shutil.rmtree('U-net Output')"
   ]
  },
  {
   "cell_type": "code",
   "execution_count": 10,
   "metadata": {},
   "outputs": [
    {
     "name": "stdout",
     "output_type": "stream",
     "text": [
      "-> Estructura de directorios creados satisfactoriamente.\n"
     ]
    }
   ],
   "source": [
    "def create_segmented_dir(from_dir, to_dir):\n",
    "    '''\n",
    "    Crea la mimsma estructura con la que cuenta el dataset de CASIA en la que se guardará \n",
    "    las imágenes segmentadas.\n",
    "    '''\n",
    "    # creamos carpeta en la que guardaremos las imágenes\n",
    "    os.mkdir(to_dir)\n",
    "    for i in range(1, len(os.listdir(from_dir))+1): # 108 sujetos\n",
    "        sample = to_dir + os.sep + \"%.3d\" % i\n",
    "        os.mkdir(sample)\n",
    "        for j in range(1,3): # 2 sesiones\n",
    "            session = sample + os.sep + str(j)\n",
    "            os.mkdir(session)\n",
    "                   \n",
    "    print(\"-> Estructura de directorios creados satisfactoriamente.\")\n",
    "\n",
    "create_segmented_dir('CASIA-IrisV1', 'CASIA-Iris-Segmented')"
   ]
  },
  {
   "cell_type": "code",
   "execution_count": 101,
   "metadata": {},
   "outputs": [],
   "source": [
    "def testGenerator(directory, target_size = (320,320)):\n",
    "    '''\n",
    "    Genera las muestras que se le pasarán al método predecir de la red preentrenada.\n",
    "    \n",
    "    Parámetros:\n",
    "    directory -- directorio dónde se encuentran las muestras a generar\n",
    "    num_image -- número máximo de imágenes que queremos generar\n",
    "    target_size -- shape de de la muestra\n",
    "    '''\n",
    "#     i = 0\n",
    "    for root, dirs, files in os.walk(directory):\n",
    "        if files: # si es directorio hoja\n",
    "            for file in files:\n",
    "#                 if i == num_image:\n",
    "#                     break # sólo queremos x imágenes para probar\n",
    "                path_file = os.path.join(root,file)\n",
    "                img = cv2.imread(path_file,0)\n",
    "                img = img / 255\n",
    "                img = trans.resize(img,target_size)\n",
    "#                 img = np.reshape(img,img.shape+(1,)) if (not flag_multi_class) else img\n",
    "                img = np.reshape(img,(1,)+img.shape)\n",
    "#                 i += 1\n",
    "                yield img\n",
    "\n",
    "def get_samples_names(directory):\n",
    "    '''\n",
    "    Devuelve los nombres de las muestras(los que se encuentran en los directorios hoja)\n",
    "    \n",
    "    Parámetros:\n",
    "    directory -- directorio de cuyos subdirectorios hoja se quiere el nombre \n",
    "    '''\n",
    "    names = []\n",
    "    for root, dirs, files in os.walk(directory):\n",
    "        for file in files:\n",
    "            names.append(str(file))\n",
    "            \n",
    "    return names\n",
    "\n",
    "def saveResult(results, save_dir, names_dir):\n",
    "    '''\n",
    "    Guarda los imágenes segmentadas resultado de la red preentrenada\n",
    "    \n",
    "    Parámetros:\n",
    "    results -- resultado de la red preentrenada\n",
    "    save_path -- ruta en la que se guardarán las muestras segmentadas\n",
    "    name_path -- directorio del que cogeremos los nombres de las muestras\n",
    "    \n",
    "    flag_multi_class -- (de momento mantener pero no nos es útil)\n",
    "    '''\n",
    "    dim = (320, 280) # dimensioned de las muestras del dataset\n",
    "    if not os.path.isdir(save_dir):\n",
    "        os.mkdir(save_dir)\n",
    "        names = get_samples_names(names_dir)\n",
    "    #     for item, name in zip(npyfile, names):\n",
    "    #         img = labelVisualize(num_class,COLOR_DICT,item) if flag_multi_class else item[:,:,0]\n",
    "    #         cv2.imwrite(os.path.join(save_path,name),img) # con cv2 da problemas\n",
    "        for i,item in enumerate(results):\n",
    "            img = item[:,:,0]\n",
    "            img = cv2.resize(img, dim, interpolation=cv2.INTER_AREA)\n",
    "            io.imsave(os.path.join(save_dir,names[i]),img)"
   ]
  },
  {
   "cell_type": "code",
   "execution_count": 33,
   "metadata": {},
   "outputs": [],
   "source": [
    "from keras.models import load_model\n",
    "\n",
    "model = load_model('Iris_unet_d5.h5')\n",
    "# model.summary()"
   ]
  },
  {
   "cell_type": "code",
   "execution_count": 36,
   "metadata": {},
   "outputs": [
    {
     "name": "stdout",
     "output_type": "stream",
     "text": [
      "756/756 [==============================] - 1092s 1s/step\n"
     ]
    }
   ],
   "source": [
    "gen = testGenerator(\"CASIA-IrisV1\")\n",
    "results = model.predict(gen,verbose=1)"
   ]
  },
  {
   "cell_type": "code",
   "execution_count": 102,
   "metadata": {},
   "outputs": [],
   "source": [
    "# tiene que haber un directorio con las 756 muestras segmentadas\n",
    "saveResult(results, \"U-net Output\", \"CASIA-IrisV1\")"
   ]
  },
  {
   "cell_type": "markdown",
   "metadata": {},
   "source": [
    "### Aplicamos los operadores morfológicos\n",
    "\n",
    "Se harán sobre todas las muestras del directorio `U-net Output`"
   ]
  },
  {
   "cell_type": "code",
   "execution_count": 135,
   "metadata": {},
   "outputs": [],
   "source": [
    "def morph_operator(images_dir, save_dir):\n",
    "    if os.path.isdir(save_dir):\n",
    "        shutil.rmtree(save_dir)\n",
    "    os.mkdir(save_dir)\n",
    "    outputs = [os.path.join(images_dir,muestra) for muestra in os.listdir(images_dir)]\n",
    "    outputs_names = [muestra for muestra in os.listdir(images_dir)]\n",
    "    i = 0\n",
    "    \n",
    "    for output in outputs:\n",
    "        img = cv2.imread(output)\n",
    "        kernel = cv2.getStructuringElement(cv2.MORPH_ELLIPSE, (11, 11))\n",
    "        (thresh, binRed) = cv2.threshold(img, 128, 255, cv2.THRESH_BINARY) # se binariza\n",
    "        opening = cv2.morphologyEx(img, cv2.MORPH_OPEN, kernel, iterations=2) # se aplica operadores morfológicos(vigilar iteraciones)\n",
    "        (thresh, binRed) = cv2.threshold(opening, 128, 255, cv2.THRESH_BINARY) # se binariza nuevamente\n",
    "        # guardamos muestra mejorada\n",
    "        cv2.imwrite(os.path.join(save_dir, outputs_names[i]),binRed)\n",
    "        i = i + 1"
   ]
  },
  {
   "cell_type": "code",
   "execution_count": 136,
   "metadata": {},
   "outputs": [],
   "source": [
    "# outputs = [ os.path.join('U-net Output',muestra) for muestra in os.listdir('U-net Output')]\n",
    "morph_operator(\"U-net Output\", \"U-net Output Enhanced\")"
   ]
  },
  {
   "cell_type": "code",
   "execution_count": 137,
   "metadata": {},
   "outputs": [],
   "source": [
    "def canny_edges(images_dir, save_dir):\n",
    "    if os.path.isdir(save_dir):\n",
    "        shutil.rmtree(save_dir)\n",
    "    os.mkdir(save_dir)\n",
    "    \n",
    "    outputs = [os.path.join(images_dir,muestra) for muestra in os.listdir(images_dir)]\n",
    "    outputs_names = [muestra for muestra in os.listdir(images_dir)]\n",
    "    i = 0\n",
    "    \n",
    "    for output in outputs:\n",
    "        img = cv2.imread(output)\n",
    "        edges = cv2.Canny(img, 10, 255)\n",
    "        # guardamos muestra mejorada\n",
    "        cv2.imwrite(os.path.join(save_dir, outputs_names[i]),edges)\n",
    "        i = i + 1"
   ]
  },
  {
   "cell_type": "code",
   "execution_count": 138,
   "metadata": {},
   "outputs": [],
   "source": [
    "canny_edges(\"U-net Output Enhanced\", \"U-net Output Edges\")"
   ]
  }
 ],
 "metadata": {
  "kernelspec": {
   "display_name": "Python 3",
   "language": "python",
   "name": "python3"
  },
  "language_info": {
   "codemirror_mode": {
    "name": "ipython",
    "version": 3
   },
   "file_extension": ".py",
   "mimetype": "text/x-python",
   "name": "python",
   "nbconvert_exporter": "python",
   "pygments_lexer": "ipython3",
   "version": "3.7.3"
  }
 },
 "nbformat": 4,
 "nbformat_minor": 2
}
