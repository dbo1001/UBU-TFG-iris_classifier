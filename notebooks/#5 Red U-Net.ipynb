{
 "cells": [
  {
   "cell_type": "markdown",
   "metadata": {},
   "source": [
    "## Red U-Net para la segmentación del iris"
   ]
  },
  {
   "cell_type": "code",
   "execution_count": 2,
   "metadata": {},
   "outputs": [],
   "source": [
    "import warnings\n",
    "warnings.filterwarnings('ignore')"
   ]
  },
  {
   "cell_type": "code",
   "execution_count": 3,
   "metadata": {},
   "outputs": [],
   "source": [
    "import os\n",
    "import cv2\n",
    "import numpy as np\n",
    "import matplotlib\n",
    "import matplotlib.pyplot as plt\n",
    "\n",
    "import skimage.io as io\n",
    "import skimage.transform as trans\n",
    "import shutil\n",
    "\n",
    "from skimage import data"
   ]
  },
  {
   "cell_type": "code",
   "execution_count": 4,
   "metadata": {},
   "outputs": [
    {
     "name": "stderr",
     "output_type": "stream",
     "text": [
      "Using TensorFlow backend.\n"
     ]
    },
    {
     "name": "stdout",
     "output_type": "stream",
     "text": [
      "Model: \"model_1\"\n",
      "__________________________________________________________________________________________________\n",
      "Layer (type)                    Output Shape         Param #     Connected to                     \n",
      "==================================================================================================\n",
      "input_1 (InputLayer)            [(None, 320, 320, 1) 0                                            \n",
      "__________________________________________________________________________________________________\n",
      "conv2d_1 (Conv2D)               (None, 320, 320, 64) 640         input_1[0][0]                    \n",
      "__________________________________________________________________________________________________\n",
      "conv2d_2 (Conv2D)               (None, 320, 320, 64) 36928       conv2d_1[0][0]                   \n",
      "__________________________________________________________________________________________________\n",
      "max_pooling2d_1 (MaxPooling2D)  (None, 160, 160, 64) 0           conv2d_2[0][0]                   \n",
      "__________________________________________________________________________________________________\n",
      "conv2d_3 (Conv2D)               (None, 160, 160, 128 73856       max_pooling2d_1[0][0]            \n",
      "__________________________________________________________________________________________________\n",
      "conv2d_4 (Conv2D)               (None, 160, 160, 128 147584      conv2d_3[0][0]                   \n",
      "__________________________________________________________________________________________________\n",
      "max_pooling2d_2 (MaxPooling2D)  (None, 80, 80, 128)  0           conv2d_4[0][0]                   \n",
      "__________________________________________________________________________________________________\n",
      "conv2d_5 (Conv2D)               (None, 80, 80, 256)  295168      max_pooling2d_2[0][0]            \n",
      "__________________________________________________________________________________________________\n",
      "conv2d_6 (Conv2D)               (None, 80, 80, 256)  590080      conv2d_5[0][0]                   \n",
      "__________________________________________________________________________________________________\n",
      "max_pooling2d_3 (MaxPooling2D)  (None, 40, 40, 256)  0           conv2d_6[0][0]                   \n",
      "__________________________________________________________________________________________________\n",
      "conv2d_7 (Conv2D)               (None, 40, 40, 512)  1180160     max_pooling2d_3[0][0]            \n",
      "__________________________________________________________________________________________________\n",
      "conv2d_8 (Conv2D)               (None, 40, 40, 512)  2359808     conv2d_7[0][0]                   \n",
      "__________________________________________________________________________________________________\n",
      "max_pooling2d_4 (MaxPooling2D)  (None, 20, 20, 512)  0           conv2d_8[0][0]                   \n",
      "__________________________________________________________________________________________________\n",
      "conv2d_9 (Conv2D)               (None, 20, 20, 1024) 4719616     max_pooling2d_4[0][0]            \n",
      "__________________________________________________________________________________________________\n",
      "conv2d_10 (Conv2D)              (None, 20, 20, 1024) 9438208     conv2d_9[0][0]                   \n",
      "__________________________________________________________________________________________________\n",
      "max_pooling2d_5 (MaxPooling2D)  (None, 10, 10, 1024) 0           conv2d_10[0][0]                  \n",
      "__________________________________________________________________________________________________\n",
      "conv2d_11 (Conv2D)              (None, 10, 10, 2048) 18876416    max_pooling2d_5[0][0]            \n",
      "__________________________________________________________________________________________________\n",
      "dropout_1 (Dropout)             (None, 10, 10, 2048) 0           conv2d_11[0][0]                  \n",
      "__________________________________________________________________________________________________\n",
      "conv2d_12 (Conv2D)              (None, 10, 10, 2048) 37750784    dropout_1[0][0]                  \n",
      "__________________________________________________________________________________________________\n",
      "up_sampling2d_1 (UpSampling2D)  (None, 20, 20, 2048) 0           conv2d_12[0][0]                  \n",
      "__________________________________________________________________________________________________\n",
      "conv2d_13 (Conv2D)              (None, 20, 20, 1024) 8389632     up_sampling2d_1[0][0]            \n",
      "__________________________________________________________________________________________________\n",
      "concatenate_1 (Concatenate)     (None, 20, 20, 2048) 0           conv2d_10[0][0]                  \n",
      "                                                                 conv2d_13[0][0]                  \n",
      "__________________________________________________________________________________________________\n",
      "conv2d_14 (Conv2D)              (None, 20, 20, 1024) 18875392    concatenate_1[0][0]              \n",
      "__________________________________________________________________________________________________\n",
      "conv2d_15 (Conv2D)              (None, 20, 20, 1024) 9438208     conv2d_14[0][0]                  \n",
      "__________________________________________________________________________________________________\n",
      "up_sampling2d_2 (UpSampling2D)  (None, 40, 40, 1024) 0           conv2d_15[0][0]                  \n",
      "__________________________________________________________________________________________________\n",
      "conv2d_16 (Conv2D)              (None, 40, 40, 512)  2097664     up_sampling2d_2[0][0]            \n",
      "__________________________________________________________________________________________________\n",
      "concatenate_2 (Concatenate)     (None, 40, 40, 1024) 0           conv2d_8[0][0]                   \n",
      "                                                                 conv2d_16[0][0]                  \n",
      "__________________________________________________________________________________________________\n",
      "conv2d_17 (Conv2D)              (None, 40, 40, 512)  4719104     concatenate_2[0][0]              \n",
      "__________________________________________________________________________________________________\n",
      "conv2d_18 (Conv2D)              (None, 40, 40, 512)  2359808     conv2d_17[0][0]                  \n",
      "__________________________________________________________________________________________________\n",
      "up_sampling2d_3 (UpSampling2D)  (None, 80, 80, 512)  0           conv2d_18[0][0]                  \n",
      "__________________________________________________________________________________________________\n",
      "conv2d_19 (Conv2D)              (None, 80, 80, 256)  524544      up_sampling2d_3[0][0]            \n",
      "__________________________________________________________________________________________________\n",
      "concatenate_3 (Concatenate)     (None, 80, 80, 512)  0           conv2d_6[0][0]                   \n",
      "                                                                 conv2d_19[0][0]                  \n",
      "__________________________________________________________________________________________________\n",
      "conv2d_20 (Conv2D)              (None, 80, 80, 256)  1179904     concatenate_3[0][0]              \n",
      "__________________________________________________________________________________________________\n",
      "conv2d_21 (Conv2D)              (None, 80, 80, 256)  590080      conv2d_20[0][0]                  \n",
      "__________________________________________________________________________________________________\n",
      "up_sampling2d_4 (UpSampling2D)  (None, 160, 160, 256 0           conv2d_21[0][0]                  \n",
      "__________________________________________________________________________________________________\n",
      "conv2d_22 (Conv2D)              (None, 160, 160, 128 131200      up_sampling2d_4[0][0]            \n",
      "__________________________________________________________________________________________________\n",
      "concatenate_4 (Concatenate)     (None, 160, 160, 256 0           conv2d_4[0][0]                   \n",
      "                                                                 conv2d_22[0][0]                  \n",
      "__________________________________________________________________________________________________\n",
      "conv2d_23 (Conv2D)              (None, 160, 160, 128 295040      concatenate_4[0][0]              \n",
      "__________________________________________________________________________________________________\n",
      "conv2d_24 (Conv2D)              (None, 160, 160, 128 147584      conv2d_23[0][0]                  \n",
      "__________________________________________________________________________________________________\n",
      "up_sampling2d_5 (UpSampling2D)  (None, 320, 320, 128 0           conv2d_24[0][0]                  \n",
      "__________________________________________________________________________________________________\n",
      "conv2d_25 (Conv2D)              (None, 320, 320, 64) 32832       up_sampling2d_5[0][0]            \n",
      "__________________________________________________________________________________________________\n",
      "concatenate_5 (Concatenate)     (None, 320, 320, 128 0           conv2d_2[0][0]                   \n",
      "                                                                 conv2d_25[0][0]                  \n",
      "__________________________________________________________________________________________________\n",
      "conv2d_26 (Conv2D)              (None, 320, 320, 64) 73792       concatenate_5[0][0]              \n",
      "__________________________________________________________________________________________________\n",
      "conv2d_27 (Conv2D)              (None, 320, 320, 64) 36928       conv2d_26[0][0]                  \n",
      "__________________________________________________________________________________________________\n",
      "conv2d_28 (Conv2D)              (None, 320, 320, 1)  65          conv2d_27[0][0]                  \n",
      "==================================================================================================\n",
      "Total params: 124,361,025\n",
      "Trainable params: 124,361,025\n",
      "Non-trainable params: 0\n",
      "__________________________________________________________________________________________________\n"
     ]
    }
   ],
   "source": [
    "from keras.models import load_model\n",
    "\n",
    "model = load_model('Iris_unet_d5.h5')\n",
    "model.summary()"
   ]
  },
  {
   "cell_type": "code",
   "execution_count": 5,
   "metadata": {},
   "outputs": [],
   "source": [
    "def create_segmented_dir(path_dataset, samples):\n",
    "    '''\n",
    "    Crea la mimsma estructura con la que cuenta el dataset de CASIA en la que se guardará \n",
    "    las imágenes segmentadas.\n",
    "    '''\n",
    "    # creamos carpeta en la que guardaremos las imágenes\n",
    "    os.mkdir(path_dataset)\n",
    "    for i in range(1, samples+1): # 108 sujetos\n",
    "        sample = path_dataset + os.sep + \"%.3d\" % i\n",
    "        os.mkdir(sample)\n",
    "        for j in range(1,3): # 2 sesiones\n",
    "            session = sample + os.sep + str(j)\n",
    "            os.mkdir(session)\n",
    "    print(\"-> Estructura de directorios creados satisfactoriamente.\")\n",
    "    \n",
    "\n",
    "def copy_all_samples(path_samples, destination_directory):\n",
    "    '''\n",
    "    Copia todas las muestras del dataset de CASIA a un único directorio.\n",
    "    '''\n",
    "    os.mkdir(destination_directory)\n",
    "        \n",
    "    for root, dirs, files in os.walk(path_samples):\n",
    "        for file in files:\n",
    "            path_file = os.path.join(root,file)\n",
    "            shutil.copy2(path_file,destination_directory)   \n",
    "    print(\"-> Muestras copiadas satisfactoriamente.\")"
   ]
  },
  {
   "cell_type": "code",
   "execution_count": 6,
   "metadata": {},
   "outputs": [],
   "source": [
    "# ejecutar una única vez\n",
    "# create_segmented_dir('CASIA-IrisV1-Segmented', 108)\n",
    "# copy_all_samples('CASIA-IrisV1', 'dataset')"
   ]
  },
  {
   "cell_type": "code",
   "execution_count": 8,
   "metadata": {},
   "outputs": [],
   "source": [
    "def testGenerator(directory,num_image,target_size = (320,320),flag_multi_class = False):\n",
    "    '''\n",
    "    Genera las muestras que se le pasarán al método predecir de la red preentrenada.\n",
    "    \n",
    "    Parámetros:\n",
    "    directory -- directorio dónde se encuentran las muestras a generar\n",
    "    num_image -- número máximo de imágenes que queremos generar\n",
    "    target_size -- shape de de la muestra\n",
    "    flag_multi_class -- (de momento mantener pero no nos es útil)\n",
    "    '''\n",
    "    i = 0\n",
    "    for root, dirs, files in os.walk(directory):\n",
    "        if files: # si es directorio hoja\n",
    "            for file in files:\n",
    "                if i == num_image:\n",
    "                    break # sólo queremos x imágenes para probar\n",
    "                path_file = os.path.join(root,file)\n",
    "                img = cv2.imread(path_file,0)\n",
    "                img = img / 255\n",
    "                img = trans.resize(img,target_size)\n",
    "                img = np.reshape(img,img.shape+(1,)) if (not flag_multi_class) else img\n",
    "                img = np.reshape(img,(1,)+img.shape)\n",
    "                i += 1\n",
    "                yield img\n",
    "\n",
    "def get_samples_names(directory):\n",
    "    '''\n",
    "    Devuelve los nombres de las muestras(los que se encuentran en los directorios hoja)\n",
    "    \n",
    "    Parámetros:\n",
    "    directory -- directorio de cuyos subdirectorios hoja se quiere el nombre \n",
    "    '''\n",
    "    names = []\n",
    "    for root, dirs, files in os.walk(directory):\n",
    "        for file in files:\n",
    "            names.append(str(file))\n",
    "            \n",
    "    return names\n",
    "\n",
    "def saveResult(save_path, name_path,npyfile,flag_multi_class = False):\n",
    "    '''\n",
    "    Guarda los imágenes segmentadas resultado de la red preentrenada\n",
    "    \n",
    "    Parámetros:\n",
    "    save_path -- ruta en la que se guardarán las muestras segmentadas\n",
    "    name_path -- ruta en la que se encuentran los nombres de las muestras\n",
    "    npyfile -- resultado de la red preentrenada\n",
    "    flag_multi_class -- (de momento mantener pero no nos es útil)\n",
    "    '''\n",
    "    dim = (320, 280) # dimensioned de las muestras del dataset\n",
    "    if not os.path.isdir(save_path):\n",
    "        os.mkdir(save_path)\n",
    "        names = get_samples_names(name_path)\n",
    "    #     for item, name in zip(npyfile, names):\n",
    "    #         img = labelVisualize(num_class,COLOR_DICT,item) if flag_multi_class else item[:,:,0]\n",
    "    #         cv2.imwrite(os.path.join(save_path,name),img) # con cv2 da problemas\n",
    "        for i,item in enumerate(npyfile):\n",
    "            img = labelVisualize(num_class,COLOR_DICT,item) if flag_multi_class else item[:,:,0]\n",
    "            img = cv2.resize(img, dim, interpolation=cv2.INTER_AREA)\n",
    "            io.imsave(os.path.join(save_path,names[i]),img)"
   ]
  },
  {
   "cell_type": "code",
   "execution_count": 9,
   "metadata": {},
   "outputs": [
    {
     "name": "stdout",
     "output_type": "stream",
     "text": [
      "10/10 [==============================] - 11s 1s/step\n"
     ]
    }
   ],
   "source": [
    "testGene = testGenerator(\"CASIA-IrisV1\", 10) #len(os.listdir('dataset')))\n",
    "results = model.predict(testGene,15,verbose=1)\n",
    "# saveResult(\"CASIA-IrisV1-Segmented\",\"CASIA-IrisV1\",results)"
   ]
  },
  {
   "cell_type": "code",
   "execution_count": 10,
   "metadata": {},
   "outputs": [
    {
     "data": {
      "image/png": "[encoded data removed]",
      "text/plain": [
       "<Figure size 432x288 with 1 Axes>"
      ]
     },
     "metadata": {
      "needs_background": "light"
     },
     "output_type": "display_data"
    }
   ],
   "source": [
    "img = results[0][:,:,0]\n",
    "plt.imshow(img, cmap='gray');"
   ]
  },
  {
   "cell_type": "markdown",
   "metadata": {},
   "source": [
    "La segmentación se ha realizado correctamente, los únicos inconvenientes que aparecen puede ser que los bordes límbico y pupilar no aparecen bien definidos(están pixelados), y aparte cómo en el método `testGenerator` se cambió la resolución de la imagen a una cuadrada de 320x320, se aprecia que tanto la pupila como el iris están ovalados.\n",
    "\n",
    "Sin embargo en el método `saveResult` se corrige el problema de la resolución, ya que volvemos a redimensionar la muestra segmentada para que cuente con las mismas dimensiones que las muestras originales."
   ]
  },
  {
   "cell_type": "code",
   "execution_count": 11,
   "metadata": {},
   "outputs": [
    {
     "data": {
      "image/png": "[encoded data removed]",
      "text/plain": [
       "<Figure size 432x288 with 1 Axes>"
      ]
     },
     "metadata": {
      "needs_background": "light"
     },
     "output_type": "display_data"
    }
   ],
   "source": [
    "resized = cv2.resize(img, (320, 280), interpolation=cv2.INTER_AREA)\n",
    "plt.imshow(resized, cmap='gray');"
   ]
  },
  {
   "cell_type": "markdown",
   "metadata": {},
   "source": [
    "Vamos a superponer la muestra segmentada sobre la muestra completa del ojo para comprobar que ha aislado correctamente el iris."
   ]
  },
  {
   "cell_type": "code",
   "execution_count": null,
   "metadata": {},
   "outputs": [],
   "source": []
  },
  {
   "cell_type": "code",
   "execution_count": null,
   "metadata": {},
   "outputs": [],
   "source": []
  },
  {
   "cell_type": "code",
   "execution_count": null,
   "metadata": {},
   "outputs": [],
   "source": []
  }
 ],
 "metadata": {
  "kernelspec": {
   "display_name": "Python 3",
   "language": "python",
   "name": "python3"
  },
  "language_info": {
   "codemirror_mode": {
    "name": "ipython",
    "version": 3
   },
   "file_extension": ".py",
   "mimetype": "text/x-python",
   "name": "python",
   "nbconvert_exporter": "python",
   "pygments_lexer": "ipython3",
   "version": "3.7.3"
  }
 },
 "nbformat": 4,
 "nbformat_minor": 2
}
