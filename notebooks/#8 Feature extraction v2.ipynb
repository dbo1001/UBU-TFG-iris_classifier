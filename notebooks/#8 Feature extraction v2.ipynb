{
 "cells": [
  {
   "cell_type": "code",
   "execution_count": 1,
   "metadata": {},
   "outputs": [],
   "source": [
    "import warnings\n",
    "warnings.filterwarnings('ignore')"
   ]
  },
  {
   "cell_type": "markdown",
   "metadata": {},
   "source": [
    "### Modelos preentrenados de Keras\n",
    "\n",
    "En un principio se probarán 3 modelos.\n",
    "\n",
    "    - VGG-16\n",
    "    - Inception V3\n",
    "    - ResNet 50"
   ]
  },
  {
   "cell_type": "code",
   "execution_count": 2,
   "metadata": {},
   "outputs": [],
   "source": [
    "from keras.applications import VGG16\n",
    "from keras.applications import InceptionV3\n",
    "from keras.applications import ResNet50V2\n",
    "\n",
    "from keras.applications.vgg16 import preprocess_input as vgg16_preprocessor\n",
    "from keras.applications.inception_v3 import preprocess_input as inception_v3_preprocessor\n",
    "from keras.applications.resnet_v2 import preprocess_input as resnet_v2_preprocessor\n",
    "\n",
    "\n",
    "from keras.models import clone_model\n",
    "from keras.models import Model\n",
    "from keras.preprocessing import image\n",
    "\n",
    "\n",
    "from IPython.display import clear_output\n",
    "from tqdm import tqdm\n",
    "\n",
    "\n",
    "models_dict = {}\n",
    "vgg16_dict, inception_v3_dict, resnet50_dict = {} ,{} ,{}\n",
    "\n",
    "\n",
    "print(\"Loading VGG16\")\n",
    "model = VGG16(weights='imagenet')\n",
    "model = Model(model.input, model.layers[-2].output) # output_shape de la penúltima capa(fully-connected) -> (,4096)\n",
    "vgg16_dict[\"model\"] = clone_model(model)\n",
    "vgg16_dict[\"preprocesor\"] = vgg16_preprocessor\n",
    "vgg16_dict[\"target_size\"] = model.input_shape[1], model.input_shape[2]# default vgg16 input (224,224)\n",
    "\n",
    "\n",
    "print(\"Loading Inception v3\")\n",
    "model = InceptionV3(weights='imagenet')\n",
    "model = Model(model.input, model.layers[-2].output)# output_shape de la penúltima capa(pooling) -> (,2048)\n",
    "inception_v3_dict[\"model\"] = clone_model(model)\n",
    "inception_v3_dict[\"preprocesor\"] = inception_v3_preprocessor\n",
    "inception_v3_dict[\"target_size\"] = model.input_shape[1],model.input_shape[2] # default inceptionv3 input (299,299)\n",
    "\n",
    "\n",
    "print(\"Loading ResNet 50\")\n",
    "model = ResNet50V2(weights='imagenet')\n",
    "model = Model(model.input, model.layers[-2].output)# output_shape de la penúltima capa(pooling) -> (,2048)\n",
    "resnet50_dict[\"model\"] = clone_model(model)\n",
    "resnet50_dict[\"preprocesor\"] = resnet_v2_preprocessor\n",
    "resnet50_dict[\"target_size\"] = model.input_shape[1],model.input_shape[2]# default ResNet input (224,224)\n",
    "\n",
    "\n",
    "# diccionarios de los 3 modelos, clave -> nombre, valor -> otro diccionario\n",
    "models_dict[\"VGG16\"] = vgg16_dict\n",
    "models_dict[\"InceptionV3\"] = inception_v3_dict\n",
    "models_dict[\"ResNet50\"] = resnet50_dict\n",
    "\n",
    "clear_output()"
   ]
  },
  {
   "cell_type": "code",
   "execution_count": 3,
   "metadata": {},
   "outputs": [],
   "source": [
    "import os\n",
    "import cv2\n",
    "import numpy as np\n",
    "from keras.preprocessing import image\n",
    "from skimage.io import imsave\n",
    "import uuid\n",
    "\n",
    "import matplotlib.pyplot as plt\n",
    "\n",
    "def extract_features(image_path,model_name):\n",
    "    '''\n",
    "    model_name extaerá los features de la imagen que se le pase como parámetro.\n",
    "    '''\n",
    "    model_dict = models_dict[model_name]\n",
    "    ####\n",
    "    model = model_dict[\"model\"]\n",
    "    preprocessor = model_dict[\"preprocesor\"]\n",
    "    target_size = model_dict[\"target_size\"]\n",
    "    # se carga la imagen y después se ajusta al input shape del modelo\n",
    "    img = cv2.resize(cv2.imread(image_path),target_size)\n",
    "\n",
    "    img_data = image.img_to_array(img)\n",
    "    img_data = np.expand_dims(img_data, axis=0)\n",
    "    img_data = preprocessor(img_data)\n",
    "    \n",
    "    # extracción de features\n",
    "    features = model.predict(img_data)\n",
    "    return features[0]"
   ]
  },
  {
   "cell_type": "code",
   "execution_count": 4,
   "metadata": {},
   "outputs": [],
   "source": [
    "def get_paths(directory):\n",
    "    '''\n",
    "    Devuelve la ruta relativa de las muestras .bmp\n",
    "    '''\n",
    "    paths = []\n",
    "    for root, dirs, files in os.walk(directory):\n",
    "        for file in files:\n",
    "            if file.endswith(\".bmp\"):\n",
    "                paths.append(os.path.join(root, file))\n",
    "    return paths"
   ]
  },
  {
   "cell_type": "code",
   "execution_count": 5,
   "metadata": {},
   "outputs": [],
   "source": [
    "# paths de las muestra polarizadas\n",
    "images = get_paths(\"CASIA-Polar\")"
   ]
  },
  {
   "cell_type": "code",
   "execution_count": 6,
   "metadata": {},
   "outputs": [
    {
     "name": "stdout",
     "output_type": "stream",
     "text": [
      "VGG16\n",
      "InceptionV3\n",
      "ResNet50\n"
     ]
    }
   ],
   "source": [
    "for model_name in models_dict:\n",
    "    print(model_name)"
   ]
  },
  {
   "cell_type": "markdown",
   "metadata": {},
   "source": [
    "### Extracción de features de una sola muestra\n",
    "\n",
    "Demo para comprobar que los 3 modelos extraen los features correctamente."
   ]
  },
  {
   "cell_type": "code",
   "execution_count": 7,
   "metadata": {},
   "outputs": [
    {
     "name": "stdout",
     "output_type": "stream",
     "text": [
      "(4096,) [0.32080793 0.         0.         0.         0.         0.\n",
      " 0.2236609  0.         0.         0.        ]\n"
     ]
    }
   ],
   "source": [
    "# features con modelo VGG16\n",
    "feat_16 = extract_features(images[0],\"VGG16\")\n",
    "print(feat_16.shape, feat_16[:10])"
   ]
  },
  {
   "cell_type": "code",
   "execution_count": 8,
   "metadata": {},
   "outputs": [
    {
     "name": "stdout",
     "output_type": "stream",
     "text": [
      "(2048,) [1.1058461e-03 2.5456637e-05 0.0000000e+00 8.1461389e-05 0.0000000e+00\n",
      " 7.0726164e-05 0.0000000e+00 9.3734975e-04 2.4920157e-03 2.3856848e-03]\n"
     ]
    }
   ],
   "source": [
    "# features con modelo InceptionV3\n",
    "feat_inceptionV3 = extract_features(images[0],\"InceptionV3\")\n",
    "print(feat_inceptionV3.shape, feat_inceptionV3[:10])"
   ]
  },
  {
   "cell_type": "code",
   "execution_count": 9,
   "metadata": {},
   "outputs": [
    {
     "name": "stdout",
     "output_type": "stream",
     "text": [
      "(2048,) [0.06257685 0.         0.02554005 0.00038583 0.03880102 0.06238473\n",
      " 0.         0.02474228 0.07609383 0.00310162]\n"
     ]
    }
   ],
   "source": [
    "# features con modelo ResNet\n",
    "feat_r50 = extract_features(images[0],\"ResNet50\")\n",
    "print(feat_r50.shape, feat_r50[:10])"
   ]
  },
  {
   "cell_type": "code",
   "execution_count": 10,
   "metadata": {},
   "outputs": [
    {
     "data": {
      "text/html": [
       "<div>\n",
       "<style scoped>\n",
       "    .dataframe tbody tr th:only-of-type {\n",
       "        vertical-align: middle;\n",
       "    }\n",
       "\n",
       "    .dataframe tbody tr th {\n",
       "        vertical-align: top;\n",
       "    }\n",
       "\n",
       "    .dataframe thead th {\n",
       "        text-align: right;\n",
       "    }\n",
       "</style>\n",
       "<table border=\"1\" class=\"dataframe\">\n",
       "  <thead>\n",
       "    <tr style=\"text-align: right;\">\n",
       "      <th></th>\n",
       "      <th>Image</th>\n",
       "      <th>pupil x_center</th>\n",
       "      <th>pupil y_center</th>\n",
       "      <th>pupil radius</th>\n",
       "      <th>iris x_center</th>\n",
       "      <th>iris y_center</th>\n",
       "      <th>iris radius</th>\n",
       "      <th>Clase</th>\n",
       "    </tr>\n",
       "  </thead>\n",
       "  <tbody>\n",
       "    <tr>\n",
       "      <th>0</th>\n",
       "      <td>Adrianna_1.bmp</td>\n",
       "      <td>182</td>\n",
       "      <td>134</td>\n",
       "      <td>36</td>\n",
       "      <td>177</td>\n",
       "      <td>134</td>\n",
       "      <td>102</td>\n",
       "      <td>Adrianna</td>\n",
       "    </tr>\n",
       "    <tr>\n",
       "      <th>1</th>\n",
       "      <td>Adrianna_2.bmp</td>\n",
       "      <td>174</td>\n",
       "      <td>138</td>\n",
       "      <td>38</td>\n",
       "      <td>172</td>\n",
       "      <td>138</td>\n",
       "      <td>38</td>\n",
       "      <td>Adrianna</td>\n",
       "    </tr>\n",
       "    <tr>\n",
       "      <th>2</th>\n",
       "      <td>Adrianna_3.bmp</td>\n",
       "      <td>173</td>\n",
       "      <td>120</td>\n",
       "      <td>38</td>\n",
       "      <td>167</td>\n",
       "      <td>120</td>\n",
       "      <td>104</td>\n",
       "      <td>Adrianna</td>\n",
       "    </tr>\n",
       "    <tr>\n",
       "      <th>3</th>\n",
       "      <td>Adrianna_4.bmp</td>\n",
       "      <td>183</td>\n",
       "      <td>122</td>\n",
       "      <td>40</td>\n",
       "      <td>185</td>\n",
       "      <td>122</td>\n",
       "      <td>38</td>\n",
       "      <td>Adrianna</td>\n",
       "    </tr>\n",
       "    <tr>\n",
       "      <th>4</th>\n",
       "      <td>Adrianna_5.bmp</td>\n",
       "      <td>177</td>\n",
       "      <td>145</td>\n",
       "      <td>38</td>\n",
       "      <td>179</td>\n",
       "      <td>143</td>\n",
       "      <td>36</td>\n",
       "      <td>Adrianna</td>\n",
       "    </tr>\n",
       "  </tbody>\n",
       "</table>\n",
       "</div>"
      ],
      "text/plain": [
       "            Image  pupil x_center  pupil y_center  pupil radius  \\\n",
       "0  Adrianna_1.bmp             182             134            36   \n",
       "1  Adrianna_2.bmp             174             138            38   \n",
       "2  Adrianna_3.bmp             173             120            38   \n",
       "3  Adrianna_4.bmp             183             122            40   \n",
       "4  Adrianna_5.bmp             177             145            38   \n",
       "\n",
       "   iris x_center  iris y_center  iris radius     Clase  \n",
       "0            177            134          102  Adrianna  \n",
       "1            172            138           38  Adrianna  \n",
       "2            167            120          104  Adrianna  \n",
       "3            185            122           38  Adrianna  \n",
       "4            179            143           36  Adrianna  "
      ]
     },
     "execution_count": 10,
     "metadata": {},
     "output_type": "execute_result"
    }
   ],
   "source": [
    "import pandas as pd\n",
    "\n",
    "# cargamos csv con los datos de las muestras\n",
    "df = pd.read_csv(\"iris_data.csv\", index_col=0) # quitamos columna unnamed\n",
    "\n",
    "# cambiamos nombre de columnas para evitar conflictos con palabras reservadas de Pytho\n",
    "df.rename(columns={'image':'Image','class':'Clase'}, inplace=True)\n",
    "df.head()"
   ]
  },
  {
   "cell_type": "code",
   "execution_count": 11,
   "metadata": {},
   "outputs": [],
   "source": [
    "def register_to_deepfeatures(register):\n",
    "    \"\"\"\n",
    "    Compute all CNN features    \n",
    "    \n",
    "    Parameters\n",
    "    ----------\n",
    "    register : Series\n",
    "        Serie containing metadata of the image\n",
    "   \n",
    "    Returns\n",
    "    -------\n",
    "    results : Series \n",
    "        A Pandas Serie contanining all of the features\n",
    "\n",
    "    \"\"\"\n",
    "    img_name = register.Image # nombre de la muestra e.g: Rafael_1.bmp\n",
    "    clase = register.Clase # clase e.g Rafael\n",
    "    \n",
    "    img_dir = os.path.join(\"CASIA-Polar\",clase)\n",
    "    img_path = os.path.join(img_dir,img_name) # ruta completa de la muestra\n",
    "\n",
    "    basic_values = pd.Series([img_name,clase],[\"Name\",\"Class\"])\n",
    "\n",
    "    all_features = []\n",
    "    all_names = []\n",
    "    models = models_dict.keys() # 3 modelos\n",
    "    \n",
    "    for model in models:\n",
    "        features = extract_features(img_path,model)\n",
    "        names = [f\"{model}_{i}\" for i in range(len(features))]\n",
    "        all_features+=list(features)\n",
    "        all_names+= names\n",
    "        \n",
    "    results = pd.Series(all_features,all_names)\n",
    "    return pd.concat((basic_values,results))\n"
   ]
  },
  {
   "cell_type": "code",
   "execution_count": 12,
   "metadata": {},
   "outputs": [
    {
     "data": {
      "text/plain": [
       "Image             Adrianna_6.bmp\n",
       "pupil x_center               178\n",
       "pupil y_center               134\n",
       "pupil radius                  38\n",
       "iris x_center                179\n",
       "iris y_center                132\n",
       "iris radius                   40\n",
       "Clase                   Adrianna\n",
       "Name: 5, dtype: object"
      ]
     },
     "execution_count": 12,
     "metadata": {},
     "output_type": "execute_result"
    }
   ],
   "source": [
    "# probamos con una fila del dataframe\n",
    "example1 = df.iloc[5]\n",
    "example1"
   ]
  },
  {
   "cell_type": "code",
   "execution_count": 13,
   "metadata": {},
   "outputs": [
    {
     "data": {
      "text/plain": [
       "Name             Adrianna_6.bmp\n",
       "Class                  Adrianna\n",
       "VGG16_0                0.257431\n",
       "VGG16_1                       0\n",
       "VGG16_2                       0\n",
       "                      ...      \n",
       "ResNet50_2043          0.017776\n",
       "ResNet50_2044        0.00806365\n",
       "ResNet50_2045         0.0165815\n",
       "ResNet50_2046         0.0239884\n",
       "ResNet50_2047         0.0479141\n",
       "Length: 8194, dtype: object"
      ]
     },
     "execution_count": 13,
     "metadata": {},
     "output_type": "execute_result"
    }
   ],
   "source": [
    "results = register_to_deepfeatures(example1)\n",
    "results"
   ]
  },
  {
   "cell_type": "code",
   "execution_count": 14,
   "metadata": {},
   "outputs": [],
   "source": [
    "# aplica la función a todas las FILAS del dataframe(parecido a map())\n",
    "df_deep = df.apply(register_to_deepfeatures, axis=1)"
   ]
  },
  {
   "cell_type": "code",
   "execution_count": 15,
   "metadata": {},
   "outputs": [],
   "source": [
    "import winsound\n",
    "freq = 1500\n",
    "dur = 1000"
   ]
  },
  {
   "cell_type": "code",
   "execution_count": 16,
   "metadata": {},
   "outputs": [
    {
     "data": {
      "text/html": [
       "<div>\n",
       "<style scoped>\n",
       "    .dataframe tbody tr th:only-of-type {\n",
       "        vertical-align: middle;\n",
       "    }\n",
       "\n",
       "    .dataframe tbody tr th {\n",
       "        vertical-align: top;\n",
       "    }\n",
       "\n",
       "    .dataframe thead th {\n",
       "        text-align: right;\n",
       "    }\n",
       "</style>\n",
       "<table border=\"1\" class=\"dataframe\">\n",
       "  <thead>\n",
       "    <tr style=\"text-align: right;\">\n",
       "      <th></th>\n",
       "      <th>Name</th>\n",
       "      <th>Class</th>\n",
       "      <th>VGG16_0</th>\n",
       "      <th>VGG16_1</th>\n",
       "      <th>VGG16_2</th>\n",
       "      <th>VGG16_3</th>\n",
       "      <th>VGG16_4</th>\n",
       "      <th>VGG16_5</th>\n",
       "      <th>VGG16_6</th>\n",
       "      <th>VGG16_7</th>\n",
       "      <th>...</th>\n",
       "      <th>ResNet50_2038</th>\n",
       "      <th>ResNet50_2039</th>\n",
       "      <th>ResNet50_2040</th>\n",
       "      <th>ResNet50_2041</th>\n",
       "      <th>ResNet50_2042</th>\n",
       "      <th>ResNet50_2043</th>\n",
       "      <th>ResNet50_2044</th>\n",
       "      <th>ResNet50_2045</th>\n",
       "      <th>ResNet50_2046</th>\n",
       "      <th>ResNet50_2047</th>\n",
       "    </tr>\n",
       "  </thead>\n",
       "  <tbody>\n",
       "    <tr>\n",
       "      <th>0</th>\n",
       "      <td>Adrianna_1.bmp</td>\n",
       "      <td>Adrianna</td>\n",
       "      <td>0.320808</td>\n",
       "      <td>0.0</td>\n",
       "      <td>0.0</td>\n",
       "      <td>0.0</td>\n",
       "      <td>0.0</td>\n",
       "      <td>0.0</td>\n",
       "      <td>0.223661</td>\n",
       "      <td>0.0</td>\n",
       "      <td>...</td>\n",
       "      <td>0.010978</td>\n",
       "      <td>0.084681</td>\n",
       "      <td>0.009460</td>\n",
       "      <td>0.001698</td>\n",
       "      <td>0.000824</td>\n",
       "      <td>0.019294</td>\n",
       "      <td>0.008362</td>\n",
       "      <td>0.017151</td>\n",
       "      <td>0.021741</td>\n",
       "      <td>0.044017</td>\n",
       "    </tr>\n",
       "    <tr>\n",
       "      <th>1</th>\n",
       "      <td>Adrianna_2.bmp</td>\n",
       "      <td>Adrianna</td>\n",
       "      <td>0.263421</td>\n",
       "      <td>0.0</td>\n",
       "      <td>0.0</td>\n",
       "      <td>0.0</td>\n",
       "      <td>0.0</td>\n",
       "      <td>0.0</td>\n",
       "      <td>0.190056</td>\n",
       "      <td>0.0</td>\n",
       "      <td>...</td>\n",
       "      <td>0.013321</td>\n",
       "      <td>0.083209</td>\n",
       "      <td>0.009626</td>\n",
       "      <td>0.002065</td>\n",
       "      <td>0.001616</td>\n",
       "      <td>0.017314</td>\n",
       "      <td>0.008078</td>\n",
       "      <td>0.016310</td>\n",
       "      <td>0.024199</td>\n",
       "      <td>0.043038</td>\n",
       "    </tr>\n",
       "    <tr>\n",
       "      <th>2</th>\n",
       "      <td>Adrianna_3.bmp</td>\n",
       "      <td>Adrianna</td>\n",
       "      <td>0.223616</td>\n",
       "      <td>0.0</td>\n",
       "      <td>0.0</td>\n",
       "      <td>0.0</td>\n",
       "      <td>0.0</td>\n",
       "      <td>0.0</td>\n",
       "      <td>0.237586</td>\n",
       "      <td>0.0</td>\n",
       "      <td>...</td>\n",
       "      <td>0.013591</td>\n",
       "      <td>0.082945</td>\n",
       "      <td>0.008541</td>\n",
       "      <td>0.001736</td>\n",
       "      <td>0.002282</td>\n",
       "      <td>0.014793</td>\n",
       "      <td>0.008303</td>\n",
       "      <td>0.017193</td>\n",
       "      <td>0.021877</td>\n",
       "      <td>0.043665</td>\n",
       "    </tr>\n",
       "    <tr>\n",
       "      <th>3</th>\n",
       "      <td>Adrianna_4.bmp</td>\n",
       "      <td>Adrianna</td>\n",
       "      <td>0.265647</td>\n",
       "      <td>0.0</td>\n",
       "      <td>0.0</td>\n",
       "      <td>0.0</td>\n",
       "      <td>0.0</td>\n",
       "      <td>0.0</td>\n",
       "      <td>0.196666</td>\n",
       "      <td>0.0</td>\n",
       "      <td>...</td>\n",
       "      <td>0.013110</td>\n",
       "      <td>0.082772</td>\n",
       "      <td>0.009293</td>\n",
       "      <td>0.002158</td>\n",
       "      <td>0.001709</td>\n",
       "      <td>0.014438</td>\n",
       "      <td>0.007038</td>\n",
       "      <td>0.016786</td>\n",
       "      <td>0.024429</td>\n",
       "      <td>0.042538</td>\n",
       "    </tr>\n",
       "    <tr>\n",
       "      <th>4</th>\n",
       "      <td>Adrianna_5.bmp</td>\n",
       "      <td>Adrianna</td>\n",
       "      <td>0.306439</td>\n",
       "      <td>0.0</td>\n",
       "      <td>0.0</td>\n",
       "      <td>0.0</td>\n",
       "      <td>0.0</td>\n",
       "      <td>0.0</td>\n",
       "      <td>0.257681</td>\n",
       "      <td>0.0</td>\n",
       "      <td>...</td>\n",
       "      <td>0.013480</td>\n",
       "      <td>0.087893</td>\n",
       "      <td>0.010313</td>\n",
       "      <td>0.001507</td>\n",
       "      <td>0.000270</td>\n",
       "      <td>0.017701</td>\n",
       "      <td>0.007559</td>\n",
       "      <td>0.016925</td>\n",
       "      <td>0.025844</td>\n",
       "      <td>0.045339</td>\n",
       "    </tr>\n",
       "    <tr>\n",
       "      <th>...</th>\n",
       "      <td>...</td>\n",
       "      <td>...</td>\n",
       "      <td>...</td>\n",
       "      <td>...</td>\n",
       "      <td>...</td>\n",
       "      <td>...</td>\n",
       "      <td>...</td>\n",
       "      <td>...</td>\n",
       "      <td>...</td>\n",
       "      <td>...</td>\n",
       "      <td>...</td>\n",
       "      <td>...</td>\n",
       "      <td>...</td>\n",
       "      <td>...</td>\n",
       "      <td>...</td>\n",
       "      <td>...</td>\n",
       "      <td>...</td>\n",
       "      <td>...</td>\n",
       "      <td>...</td>\n",
       "      <td>...</td>\n",
       "      <td>...</td>\n",
       "    </tr>\n",
       "    <tr>\n",
       "      <th>751</th>\n",
       "      <td>Zion_3.bmp</td>\n",
       "      <td>Zion</td>\n",
       "      <td>0.122809</td>\n",
       "      <td>0.0</td>\n",
       "      <td>0.0</td>\n",
       "      <td>0.0</td>\n",
       "      <td>0.0</td>\n",
       "      <td>0.0</td>\n",
       "      <td>0.224416</td>\n",
       "      <td>0.0</td>\n",
       "      <td>...</td>\n",
       "      <td>0.011827</td>\n",
       "      <td>0.079711</td>\n",
       "      <td>0.007352</td>\n",
       "      <td>0.001251</td>\n",
       "      <td>0.002082</td>\n",
       "      <td>0.018045</td>\n",
       "      <td>0.006574</td>\n",
       "      <td>0.017508</td>\n",
       "      <td>0.023361</td>\n",
       "      <td>0.042222</td>\n",
       "    </tr>\n",
       "    <tr>\n",
       "      <th>752</th>\n",
       "      <td>Zion_4.bmp</td>\n",
       "      <td>Zion</td>\n",
       "      <td>0.118695</td>\n",
       "      <td>0.0</td>\n",
       "      <td>0.0</td>\n",
       "      <td>0.0</td>\n",
       "      <td>0.0</td>\n",
       "      <td>0.0</td>\n",
       "      <td>0.188830</td>\n",
       "      <td>0.0</td>\n",
       "      <td>...</td>\n",
       "      <td>0.011527</td>\n",
       "      <td>0.079637</td>\n",
       "      <td>0.006724</td>\n",
       "      <td>0.001095</td>\n",
       "      <td>0.001124</td>\n",
       "      <td>0.018072</td>\n",
       "      <td>0.007455</td>\n",
       "      <td>0.015230</td>\n",
       "      <td>0.020709</td>\n",
       "      <td>0.043037</td>\n",
       "    </tr>\n",
       "    <tr>\n",
       "      <th>753</th>\n",
       "      <td>Zion_5.bmp</td>\n",
       "      <td>Zion</td>\n",
       "      <td>0.141669</td>\n",
       "      <td>0.0</td>\n",
       "      <td>0.0</td>\n",
       "      <td>0.0</td>\n",
       "      <td>0.0</td>\n",
       "      <td>0.0</td>\n",
       "      <td>0.208112</td>\n",
       "      <td>0.0</td>\n",
       "      <td>...</td>\n",
       "      <td>0.011188</td>\n",
       "      <td>0.074016</td>\n",
       "      <td>0.005553</td>\n",
       "      <td>0.000972</td>\n",
       "      <td>0.002534</td>\n",
       "      <td>0.012593</td>\n",
       "      <td>0.007878</td>\n",
       "      <td>0.014421</td>\n",
       "      <td>0.024238</td>\n",
       "      <td>0.039429</td>\n",
       "    </tr>\n",
       "    <tr>\n",
       "      <th>754</th>\n",
       "      <td>Zion_6.bmp</td>\n",
       "      <td>Zion</td>\n",
       "      <td>0.167616</td>\n",
       "      <td>0.0</td>\n",
       "      <td>0.0</td>\n",
       "      <td>0.0</td>\n",
       "      <td>0.0</td>\n",
       "      <td>0.0</td>\n",
       "      <td>0.217544</td>\n",
       "      <td>0.0</td>\n",
       "      <td>...</td>\n",
       "      <td>0.011607</td>\n",
       "      <td>0.075409</td>\n",
       "      <td>0.007770</td>\n",
       "      <td>0.001472</td>\n",
       "      <td>0.001883</td>\n",
       "      <td>0.016567</td>\n",
       "      <td>0.007974</td>\n",
       "      <td>0.016171</td>\n",
       "      <td>0.022955</td>\n",
       "      <td>0.039287</td>\n",
       "    </tr>\n",
       "    <tr>\n",
       "      <th>755</th>\n",
       "      <td>Zion_7.bmp</td>\n",
       "      <td>Zion</td>\n",
       "      <td>0.096539</td>\n",
       "      <td>0.0</td>\n",
       "      <td>0.0</td>\n",
       "      <td>0.0</td>\n",
       "      <td>0.0</td>\n",
       "      <td>0.0</td>\n",
       "      <td>0.182612</td>\n",
       "      <td>0.0</td>\n",
       "      <td>...</td>\n",
       "      <td>0.011385</td>\n",
       "      <td>0.082388</td>\n",
       "      <td>0.008229</td>\n",
       "      <td>0.001577</td>\n",
       "      <td>0.001567</td>\n",
       "      <td>0.014603</td>\n",
       "      <td>0.007386</td>\n",
       "      <td>0.016478</td>\n",
       "      <td>0.025497</td>\n",
       "      <td>0.042601</td>\n",
       "    </tr>\n",
       "  </tbody>\n",
       "</table>\n",
       "<p>756 rows × 8194 columns</p>\n",
       "</div>"
      ],
      "text/plain": [
       "               Name     Class   VGG16_0  VGG16_1  VGG16_2  VGG16_3  VGG16_4  \\\n",
       "0    Adrianna_1.bmp  Adrianna  0.320808      0.0      0.0      0.0      0.0   \n",
       "1    Adrianna_2.bmp  Adrianna  0.263421      0.0      0.0      0.0      0.0   \n",
       "2    Adrianna_3.bmp  Adrianna  0.223616      0.0      0.0      0.0      0.0   \n",
       "3    Adrianna_4.bmp  Adrianna  0.265647      0.0      0.0      0.0      0.0   \n",
       "4    Adrianna_5.bmp  Adrianna  0.306439      0.0      0.0      0.0      0.0   \n",
       "..              ...       ...       ...      ...      ...      ...      ...   \n",
       "751      Zion_3.bmp      Zion  0.122809      0.0      0.0      0.0      0.0   \n",
       "752      Zion_4.bmp      Zion  0.118695      0.0      0.0      0.0      0.0   \n",
       "753      Zion_5.bmp      Zion  0.141669      0.0      0.0      0.0      0.0   \n",
       "754      Zion_6.bmp      Zion  0.167616      0.0      0.0      0.0      0.0   \n",
       "755      Zion_7.bmp      Zion  0.096539      0.0      0.0      0.0      0.0   \n",
       "\n",
       "     VGG16_5   VGG16_6  VGG16_7  ...  ResNet50_2038  ResNet50_2039  \\\n",
       "0        0.0  0.223661      0.0  ...       0.010978       0.084681   \n",
       "1        0.0  0.190056      0.0  ...       0.013321       0.083209   \n",
       "2        0.0  0.237586      0.0  ...       0.013591       0.082945   \n",
       "3        0.0  0.196666      0.0  ...       0.013110       0.082772   \n",
       "4        0.0  0.257681      0.0  ...       0.013480       0.087893   \n",
       "..       ...       ...      ...  ...            ...            ...   \n",
       "751      0.0  0.224416      0.0  ...       0.011827       0.079711   \n",
       "752      0.0  0.188830      0.0  ...       0.011527       0.079637   \n",
       "753      0.0  0.208112      0.0  ...       0.011188       0.074016   \n",
       "754      0.0  0.217544      0.0  ...       0.011607       0.075409   \n",
       "755      0.0  0.182612      0.0  ...       0.011385       0.082388   \n",
       "\n",
       "     ResNet50_2040  ResNet50_2041  ResNet50_2042  ResNet50_2043  \\\n",
       "0         0.009460       0.001698       0.000824       0.019294   \n",
       "1         0.009626       0.002065       0.001616       0.017314   \n",
       "2         0.008541       0.001736       0.002282       0.014793   \n",
       "3         0.009293       0.002158       0.001709       0.014438   \n",
       "4         0.010313       0.001507       0.000270       0.017701   \n",
       "..             ...            ...            ...            ...   \n",
       "751       0.007352       0.001251       0.002082       0.018045   \n",
       "752       0.006724       0.001095       0.001124       0.018072   \n",
       "753       0.005553       0.000972       0.002534       0.012593   \n",
       "754       0.007770       0.001472       0.001883       0.016567   \n",
       "755       0.008229       0.001577       0.001567       0.014603   \n",
       "\n",
       "     ResNet50_2044  ResNet50_2045  ResNet50_2046  ResNet50_2047  \n",
       "0         0.008362       0.017151       0.021741       0.044017  \n",
       "1         0.008078       0.016310       0.024199       0.043038  \n",
       "2         0.008303       0.017193       0.021877       0.043665  \n",
       "3         0.007038       0.016786       0.024429       0.042538  \n",
       "4         0.007559       0.016925       0.025844       0.045339  \n",
       "..             ...            ...            ...            ...  \n",
       "751       0.006574       0.017508       0.023361       0.042222  \n",
       "752       0.007455       0.015230       0.020709       0.043037  \n",
       "753       0.007878       0.014421       0.024238       0.039429  \n",
       "754       0.007974       0.016171       0.022955       0.039287  \n",
       "755       0.007386       0.016478       0.025497       0.042601  \n",
       "\n",
       "[756 rows x 8194 columns]"
      ]
     },
     "execution_count": 16,
     "metadata": {},
     "output_type": "execute_result"
    }
   ],
   "source": [
    "df_deep"
   ]
  },
  {
   "cell_type": "code",
   "execution_count": 17,
   "metadata": {},
   "outputs": [],
   "source": [
    "# guardamos las features\n",
    "df_deep.to_csv(\"iris_deep_features.csv\")"
   ]
  },
  {
   "cell_type": "markdown",
   "metadata": {},
   "source": [
    "-----------------------------------"
   ]
  },
  {
   "cell_type": "markdown",
   "metadata": {},
   "source": [
    "-------------------------"
   ]
  },
  {
   "cell_type": "code",
   "execution_count": 18,
   "metadata": {},
   "outputs": [
    {
     "data": {
      "text/html": [
       "<div>\n",
       "<style scoped>\n",
       "    .dataframe tbody tr th:only-of-type {\n",
       "        vertical-align: middle;\n",
       "    }\n",
       "\n",
       "    .dataframe tbody tr th {\n",
       "        vertical-align: top;\n",
       "    }\n",
       "\n",
       "    .dataframe thead th {\n",
       "        text-align: right;\n",
       "    }\n",
       "</style>\n",
       "<table border=\"1\" class=\"dataframe\">\n",
       "  <thead>\n",
       "    <tr style=\"text-align: right;\">\n",
       "      <th></th>\n",
       "      <th>Name</th>\n",
       "      <th>Class</th>\n",
       "      <th>VGG16_0</th>\n",
       "      <th>VGG16_1</th>\n",
       "      <th>VGG16_2</th>\n",
       "      <th>VGG16_3</th>\n",
       "      <th>VGG16_4</th>\n",
       "      <th>VGG16_5</th>\n",
       "      <th>VGG16_6</th>\n",
       "      <th>VGG16_7</th>\n",
       "      <th>...</th>\n",
       "      <th>ResNet50_2038</th>\n",
       "      <th>ResNet50_2039</th>\n",
       "      <th>ResNet50_2040</th>\n",
       "      <th>ResNet50_2041</th>\n",
       "      <th>ResNet50_2042</th>\n",
       "      <th>ResNet50_2043</th>\n",
       "      <th>ResNet50_2044</th>\n",
       "      <th>ResNet50_2045</th>\n",
       "      <th>ResNet50_2046</th>\n",
       "      <th>ResNet50_2047</th>\n",
       "    </tr>\n",
       "  </thead>\n",
       "  <tbody>\n",
       "    <tr>\n",
       "      <th>0</th>\n",
       "      <td>Adrianna_1.bmp</td>\n",
       "      <td>Adrianna</td>\n",
       "      <td>0.320808</td>\n",
       "      <td>0.0</td>\n",
       "      <td>0.0</td>\n",
       "      <td>0.0</td>\n",
       "      <td>0.0</td>\n",
       "      <td>0.0</td>\n",
       "      <td>0.223661</td>\n",
       "      <td>0.0</td>\n",
       "      <td>...</td>\n",
       "      <td>0.010978</td>\n",
       "      <td>0.084681</td>\n",
       "      <td>0.009460</td>\n",
       "      <td>0.001698</td>\n",
       "      <td>0.000824</td>\n",
       "      <td>0.019294</td>\n",
       "      <td>0.008362</td>\n",
       "      <td>0.017151</td>\n",
       "      <td>0.021741</td>\n",
       "      <td>0.044017</td>\n",
       "    </tr>\n",
       "    <tr>\n",
       "      <th>1</th>\n",
       "      <td>Adrianna_2.bmp</td>\n",
       "      <td>Adrianna</td>\n",
       "      <td>0.263421</td>\n",
       "      <td>0.0</td>\n",
       "      <td>0.0</td>\n",
       "      <td>0.0</td>\n",
       "      <td>0.0</td>\n",
       "      <td>0.0</td>\n",
       "      <td>0.190056</td>\n",
       "      <td>0.0</td>\n",
       "      <td>...</td>\n",
       "      <td>0.013321</td>\n",
       "      <td>0.083209</td>\n",
       "      <td>0.009626</td>\n",
       "      <td>0.002065</td>\n",
       "      <td>0.001616</td>\n",
       "      <td>0.017314</td>\n",
       "      <td>0.008078</td>\n",
       "      <td>0.016310</td>\n",
       "      <td>0.024199</td>\n",
       "      <td>0.043038</td>\n",
       "    </tr>\n",
       "    <tr>\n",
       "      <th>2</th>\n",
       "      <td>Adrianna_3.bmp</td>\n",
       "      <td>Adrianna</td>\n",
       "      <td>0.223616</td>\n",
       "      <td>0.0</td>\n",
       "      <td>0.0</td>\n",
       "      <td>0.0</td>\n",
       "      <td>0.0</td>\n",
       "      <td>0.0</td>\n",
       "      <td>0.237586</td>\n",
       "      <td>0.0</td>\n",
       "      <td>...</td>\n",
       "      <td>0.013591</td>\n",
       "      <td>0.082945</td>\n",
       "      <td>0.008541</td>\n",
       "      <td>0.001736</td>\n",
       "      <td>0.002282</td>\n",
       "      <td>0.014793</td>\n",
       "      <td>0.008303</td>\n",
       "      <td>0.017193</td>\n",
       "      <td>0.021877</td>\n",
       "      <td>0.043665</td>\n",
       "    </tr>\n",
       "    <tr>\n",
       "      <th>3</th>\n",
       "      <td>Adrianna_4.bmp</td>\n",
       "      <td>Adrianna</td>\n",
       "      <td>0.265647</td>\n",
       "      <td>0.0</td>\n",
       "      <td>0.0</td>\n",
       "      <td>0.0</td>\n",
       "      <td>0.0</td>\n",
       "      <td>0.0</td>\n",
       "      <td>0.196666</td>\n",
       "      <td>0.0</td>\n",
       "      <td>...</td>\n",
       "      <td>0.013110</td>\n",
       "      <td>0.082772</td>\n",
       "      <td>0.009293</td>\n",
       "      <td>0.002158</td>\n",
       "      <td>0.001709</td>\n",
       "      <td>0.014438</td>\n",
       "      <td>0.007038</td>\n",
       "      <td>0.016786</td>\n",
       "      <td>0.024429</td>\n",
       "      <td>0.042538</td>\n",
       "    </tr>\n",
       "    <tr>\n",
       "      <th>4</th>\n",
       "      <td>Adrianna_5.bmp</td>\n",
       "      <td>Adrianna</td>\n",
       "      <td>0.306439</td>\n",
       "      <td>0.0</td>\n",
       "      <td>0.0</td>\n",
       "      <td>0.0</td>\n",
       "      <td>0.0</td>\n",
       "      <td>0.0</td>\n",
       "      <td>0.257681</td>\n",
       "      <td>0.0</td>\n",
       "      <td>...</td>\n",
       "      <td>0.013480</td>\n",
       "      <td>0.087893</td>\n",
       "      <td>0.010313</td>\n",
       "      <td>0.001507</td>\n",
       "      <td>0.000270</td>\n",
       "      <td>0.017701</td>\n",
       "      <td>0.007559</td>\n",
       "      <td>0.016925</td>\n",
       "      <td>0.025844</td>\n",
       "      <td>0.045339</td>\n",
       "    </tr>\n",
       "  </tbody>\n",
       "</table>\n",
       "<p>5 rows × 8194 columns</p>\n",
       "</div>"
      ],
      "text/plain": [
       "             Name     Class   VGG16_0  VGG16_1  VGG16_2  VGG16_3  VGG16_4  \\\n",
       "0  Adrianna_1.bmp  Adrianna  0.320808      0.0      0.0      0.0      0.0   \n",
       "1  Adrianna_2.bmp  Adrianna  0.263421      0.0      0.0      0.0      0.0   \n",
       "2  Adrianna_3.bmp  Adrianna  0.223616      0.0      0.0      0.0      0.0   \n",
       "3  Adrianna_4.bmp  Adrianna  0.265647      0.0      0.0      0.0      0.0   \n",
       "4  Adrianna_5.bmp  Adrianna  0.306439      0.0      0.0      0.0      0.0   \n",
       "\n",
       "   VGG16_5   VGG16_6  VGG16_7  ...  ResNet50_2038  ResNet50_2039  \\\n",
       "0      0.0  0.223661      0.0  ...       0.010978       0.084681   \n",
       "1      0.0  0.190056      0.0  ...       0.013321       0.083209   \n",
       "2      0.0  0.237586      0.0  ...       0.013591       0.082945   \n",
       "3      0.0  0.196666      0.0  ...       0.013110       0.082772   \n",
       "4      0.0  0.257681      0.0  ...       0.013480       0.087893   \n",
       "\n",
       "   ResNet50_2040  ResNet50_2041  ResNet50_2042  ResNet50_2043  ResNet50_2044  \\\n",
       "0       0.009460       0.001698       0.000824       0.019294       0.008362   \n",
       "1       0.009626       0.002065       0.001616       0.017314       0.008078   \n",
       "2       0.008541       0.001736       0.002282       0.014793       0.008303   \n",
       "3       0.009293       0.002158       0.001709       0.014438       0.007038   \n",
       "4       0.010313       0.001507       0.000270       0.017701       0.007559   \n",
       "\n",
       "   ResNet50_2045  ResNet50_2046  ResNet50_2047  \n",
       "0       0.017151       0.021741       0.044017  \n",
       "1       0.016310       0.024199       0.043038  \n",
       "2       0.017193       0.021877       0.043665  \n",
       "3       0.016786       0.024429       0.042538  \n",
       "4       0.016925       0.025844       0.045339  \n",
       "\n",
       "[5 rows x 8194 columns]"
      ]
     },
     "execution_count": 18,
     "metadata": {},
     "output_type": "execute_result"
    }
   ],
   "source": [
    "import pandas as pd\n",
    "data = pd.read_csv(\"iris_deep_features.csv\",index_col=0)\n",
    "data.head()\n"
   ]
  },
  {
   "cell_type": "code",
   "execution_count": 19,
   "metadata": {},
   "outputs": [
    {
     "data": {
      "text/plain": [
       "(756, 8194)"
      ]
     },
     "execution_count": 19,
     "metadata": {},
     "output_type": "execute_result"
    }
   ],
   "source": [
    "data.shape"
   ]
  },
  {
   "cell_type": "code",
   "execution_count": 20,
   "metadata": {},
   "outputs": [],
   "source": [
    "import pickle\n",
    "\n",
    "from sklearn.pipeline import make_pipeline\n",
    "from sklearn.preprocessing import StandardScaler\n",
    "\n",
    "from sklearn.model_selection import cross_val_score, cross_val_predict, GridSearchCV\n",
    "from sklearn.pipeline import Pipeline"
   ]
  },
  {
   "cell_type": "markdown",
   "metadata": {},
   "source": [
    "### Choose the right estimator"
   ]
  },
  {
   "cell_type": "code",
   "execution_count": 128,
   "metadata": {},
   "outputs": [],
   "source": [
    "from sklearn.svm import LinearSVC, SVC # uno vs el resto\n",
    "from sklearn.neighbors import KNeighborsClassifier\n",
    "from sklearn.linear_model import LogisticRegression\n",
    "\n",
    "# ensemble classifiers\n",
    "from sklearn.ensemble import RandomForestClassifier\n",
    "# from sklearn.ensemble import GradientBoostingClassifier"
   ]
  },
  {
   "cell_type": "code",
   "execution_count": 129,
   "metadata": {},
   "outputs": [],
   "source": [
    "pretrained_models = [\"VGG16\",\"InceptionV3\",\"ResNet50\"]"
   ]
  },
  {
   "cell_type": "code",
   "execution_count": 130,
   "metadata": {},
   "outputs": [],
   "source": [
    "# true labels\n",
    "y = data.Class.values"
   ]
  },
  {
   "cell_type": "code",
   "execution_count": 131,
   "metadata": {},
   "outputs": [],
   "source": [
    "vgg_cols = data.columns.str.startswith(\"VGG16\")\n",
    "inception_cols = data.columns.str.startswith(\"InceptionV3\")\n",
    "resnet_cols = data.columns.str.startswith(\"ResNet50\")"
   ]
  },
  {
   "cell_type": "code",
   "execution_count": 132,
   "metadata": {},
   "outputs": [],
   "source": [
    "vgg_X = data[data.columns[vgg_cols]].values\n",
    "inception_X = data[data.columns[inception_cols]].values\n",
    "resnet_X = data[data.columns[resnet_cols]].values"
   ]
  },
  {
   "cell_type": "code",
   "execution_count": 159,
   "metadata": {},
   "outputs": [
    {
     "data": {
      "text/plain": [
       "(756, 2048)"
      ]
     },
     "execution_count": 159,
     "metadata": {},
     "output_type": "execute_result"
    }
   ],
   "source": [
    "inception_X.shape"
   ]
  },
  {
   "cell_type": "code",
   "execution_count": 133,
   "metadata": {},
   "outputs": [],
   "source": [
    "datasets = [(vgg_X,y), (inception_X,y), (resnet_X,y)]\n",
    "datasets_names = pretrained_models.copy()"
   ]
  },
  {
   "cell_type": "code",
   "execution_count": 134,
   "metadata": {},
   "outputs": [],
   "source": [
    "'''\n",
    "Definition of the SVM parameter search\n",
    "'''\n",
    "import numpy as np\n",
    "C_range = np.logspace(-2, 10, 13)\n",
    "gamma_range = np.logspace(-9, 3, 13)\n",
    "param_grid_svm = dict(gamma=gamma_range, C=C_range)\n",
    "nested_cv = 5\n",
    "\n",
    "grid_svm = GridSearchCV(SVC(), param_grid=param_grid_svm, cv=nested_cv)\n"
   ]
  },
  {
   "cell_type": "code",
   "execution_count": 135,
   "metadata": {},
   "outputs": [],
   "source": [
    "'''\n",
    "List of classifiers and their names included in the experimental study\n",
    "'''\n",
    "\n",
    "cls_names = [\"SVM\", \"Nearest Neighbors\", \"LogisticRegression\", \"Random Forest\"] #\"Gradient Boosting Trees\"]\n",
    "\n",
    "classifiers = [ make_pipeline(StandardScaler(), SVC(kernel='linear')), #(StandardScaler(), grid_svm)\n",
    "                make_pipeline(StandardScaler(), KNeighborsClassifier(3)),\n",
    "                make_pipeline(StandardScaler(), LogisticRegression(max_iter=1000)),\n",
    "                RandomForestClassifier(random_state=0, n_estimators=100),\n",
    "#                 GradientBoostingClassifier(random_state=0, n_estimators=100)\n",
    "                ]"
   ]
  },
  {
   "cell_type": "markdown",
   "metadata": {},
   "source": [
    "### Validación cruzada para evaluar los clasificadores"
   ]
  },
  {
   "cell_type": "code",
   "execution_count": 136,
   "metadata": {},
   "outputs": [],
   "source": [
    "def cross_validate_preds_model(X, y, model, num_folds):\n",
    "        '''\n",
    "        @author José F. Díez Pastor\n",
    "        Perform cross validation with a model and a dataset (X and y),\n",
    "        and returns the predictions to later obtain the measurements \n",
    "        you want\n",
    "        \n",
    "        Parameters\n",
    "        ----------\n",
    "        X: numpy.array\n",
    "            Dataset (features)\n",
    "        Y: numpy.array\n",
    "            Dataset (Target)\n",
    "        model: scikit_model\n",
    "            model to be trained\n",
    "        num_folds: int\n",
    "            number of folds in the cross validation\n",
    "        \n",
    "        Return\n",
    "        -------\n",
    "        array \n",
    "            array of prediccions obtained using cross_validation\n",
    "        '''\n",
    "        print('\\t'+str(model)[:20]+\"...\", end=' - ')\n",
    "        preds = cross_val_predict(model,X,y,cv=num_folds)\n",
    "        print('OK')\n",
    "        \n",
    "        return preds\n",
    "\n",
    "def run_all_save(num_folds,filename):\n",
    "    '''\n",
    "    @author José F. Díez Pastor\n",
    "    Perform cross validation with all models and datasets.\n",
    "        \n",
    "        \n",
    "    Parameters\n",
    "    ----------\n",
    "    num_folds: int\n",
    "        number of folds in the cross validation\n",
    "    filename: string\n",
    "        name of the file that stores the predictions obtained using crossvalidation\n",
    "        \n",
    "    Return\n",
    "    -------\n",
    "    \n",
    "    ''' \n",
    "    \n",
    "    all_preds = {}\n",
    "\n",
    "    for dataset,dataset_name in tqdm(zip(datasets, datasets_names)):\n",
    "        print(f\"----------Pre-trained network: {dataset_name}-----------\")\n",
    "        X,y = dataset\n",
    "        for model,cls_name in zip(classifiers,cls_names):\n",
    "            print(f\"-> {cls_name}\")\n",
    "            preds = cross_validate_preds_model(X, y, model, num_folds)\n",
    "            all_preds[(dataset_name,cls_name)]=(y,preds)\n",
    "\n",
    "    all_preds[\"cls_names\"]=cls_names\n",
    "    all_preds[\"dataset_names\"]=datasets_names\n",
    "\n",
    "    with open(filename, 'wb') as fp:\n",
    "         pickle.dump(all_preds, fp)"
   ]
  },
  {
   "cell_type": "code",
   "execution_count": 137,
   "metadata": {},
   "outputs": [
    {
     "name": "stderr",
     "output_type": "stream",
     "text": [
      "0it [00:00, ?it/s]"
     ]
    },
    {
     "name": "stdout",
     "output_type": "stream",
     "text": [
      "----------Pre-trained network: VGG16-----------\n",
      "-> SVM\n",
      "\tPipeline(steps=[('st... - OK\n",
      "-> Nearest Neighbors\n",
      "\tPipeline(steps=[('st... - OK\n",
      "-> LogisticRegression\n",
      "\tPipeline(steps=[('st... - OK\n",
      "-> Random Forest\n",
      "\tRandomForestClassifi... - "
     ]
    },
    {
     "name": "stderr",
     "output_type": "stream",
     "text": [
      "1it [02:23, 143.77s/it]"
     ]
    },
    {
     "name": "stdout",
     "output_type": "stream",
     "text": [
      "OK\n",
      "----------Pre-trained network: InceptionV3-----------\n",
      "-> SVM\n",
      "\tPipeline(steps=[('st... - OK\n",
      "-> Nearest Neighbors\n",
      "\tPipeline(steps=[('st... - OK\n",
      "-> LogisticRegression\n",
      "\tPipeline(steps=[('st... - OK\n",
      "-> Random Forest\n",
      "\tRandomForestClassifi... - "
     ]
    },
    {
     "name": "stderr",
     "output_type": "stream",
     "text": [
      "2it [04:35, 140.20s/it]"
     ]
    },
    {
     "name": "stdout",
     "output_type": "stream",
     "text": [
      "OK\n",
      "----------Pre-trained network: ResNet50-----------\n",
      "-> SVM\n",
      "\tPipeline(steps=[('st... - OK\n",
      "-> Nearest Neighbors\n",
      "\tPipeline(steps=[('st... - OK\n",
      "-> LogisticRegression\n",
      "\tPipeline(steps=[('st... - OK\n",
      "-> Random Forest\n",
      "\tRandomForestClassifi... - "
     ]
    },
    {
     "name": "stderr",
     "output_type": "stream",
     "text": [
      "3it [06:31, 130.47s/it]"
     ]
    },
    {
     "name": "stdout",
     "output_type": "stream",
     "text": [
      "OK\n"
     ]
    },
    {
     "name": "stderr",
     "output_type": "stream",
     "text": [
      "\n"
     ]
    }
   ],
   "source": [
    "obj_file = \"evaluation_models.obj\"\n",
    "\n",
    "run_all_save(4,obj_file) # 4 folds (divisor de 756)\n",
    "winsound.Beep(freq,dur)"
   ]
  },
  {
   "cell_type": "code",
   "execution_count": 138,
   "metadata": {},
   "outputs": [],
   "source": [
    "import pickle\n",
    "\n",
    "from sklearn.metrics import classification_report\n",
    "from sklearn.metrics import accuracy_score\n",
    "from sklearn.metrics import confusion_matrix"
   ]
  },
  {
   "cell_type": "code",
   "execution_count": 262,
   "metadata": {},
   "outputs": [],
   "source": [
    "def get_results(filename):\n",
    "    '''\n",
    "    @author: José F. Diez Pastor\n",
    "    Load the file with the predictions.\n",
    "    Compute accuracy, confusion matrix and other measures.\n",
    "        \n",
    "        \n",
    "    Parameters\n",
    "    ----------\n",
    "    filename: string\n",
    "        name of the file that stores the predictions obtained using crossvalidation\n",
    "        \n",
    "    Return\n",
    "    dictionary\n",
    "        A dictionary of key:values that asociates the name\n",
    "        of a measure or chart with the value\n",
    "    -------\n",
    "    \n",
    "    ''' \n",
    "\n",
    "    with open(filename, 'rb') as fp:\n",
    "        all_preds = pickle.load(fp)\n",
    "\n",
    "    cls_names = all_preds.pop(\"cls_names\")\n",
    "    dataset_names = all_preds.pop(\"dataset_names\")\n",
    "\n",
    "    data_cls_pairs = list(all_preds.keys())\n",
    "    data_cls_pairs.sort()\n",
    "\n",
    "    results = {}\n",
    "\n",
    "\n",
    "    acc_df = pd.DataFrame(index=dataset_names, columns=cls_names)\n",
    "\n",
    "    ## A DataFrame is created to store the accuracy in each clase\n",
    "    for dataset in dataset_names:\n",
    "        results[(dataset,\"acc\")] = pd.DataFrame(columns=cls_names)\n",
    "\n",
    "\n",
    "    for dataset_name,cls_name in tqdm(data_cls_pairs):\n",
    "        #print(dataset_name,cls_name)\n",
    "        y_true, y_pred = all_preds[(dataset_name,cls_name)]\n",
    "        labels = list(np.unique(y_true))\n",
    "\n",
    "        acc = accuracy_score(y_true, y_pred)\n",
    "        # Fill accuracy dataframe\n",
    "        acc_df.at[dataset_name,cls_name]=acc\n",
    "        \n",
    "        report = classification_report(y_true, y_pred, output_dict=True)\n",
    "        report_df = pd.DataFrame(report).transpose()\n",
    "        results[(dataset_name,cls_name,\"report\")] = report_df\n",
    "\n",
    "    results[\"Acc\"] = acc_df\n",
    "    return results"
   ]
  },
  {
   "cell_type": "code",
   "execution_count": 263,
   "metadata": {},
   "outputs": [
    {
     "name": "stderr",
     "output_type": "stream",
     "text": [
      "100%|██████████████████████████████████████████████████████████████████████████████████| 12/12 [00:00<00:00, 40.93it/s]\n"
     ]
    }
   ],
   "source": [
    "results = get_results(obj_file)"
   ]
  },
  {
   "cell_type": "code",
   "execution_count": 264,
   "metadata": {},
   "outputs": [
    {
     "data": {
      "text/plain": [
       "[('VGG16', 'acc'),\n",
       " ('InceptionV3', 'acc'),\n",
       " ('ResNet50', 'acc'),\n",
       " ('InceptionV3', 'LogisticRegression', 'report'),\n",
       " ('InceptionV3', 'Nearest Neighbors', 'report'),\n",
       " ('InceptionV3', 'Random Forest', 'report'),\n",
       " ('InceptionV3', 'SVM', 'report'),\n",
       " ('ResNet50', 'LogisticRegression', 'report'),\n",
       " ('ResNet50', 'Nearest Neighbors', 'report'),\n",
       " ('ResNet50', 'Random Forest', 'report'),\n",
       " ('ResNet50', 'SVM', 'report'),\n",
       " ('VGG16', 'LogisticRegression', 'report'),\n",
       " ('VGG16', 'Nearest Neighbors', 'report'),\n",
       " ('VGG16', 'Random Forest', 'report'),\n",
       " ('VGG16', 'SVM', 'report'),\n",
       " 'Acc']"
      ]
     },
     "execution_count": 264,
     "metadata": {},
     "output_type": "execute_result"
    }
   ],
   "source": [
    "list(results.keys())"
   ]
  },
  {
   "cell_type": "code",
   "execution_count": 265,
   "metadata": {},
   "outputs": [
    {
     "data": {
      "text/html": [
       "<div>\n",
       "<style scoped>\n",
       "    .dataframe tbody tr th:only-of-type {\n",
       "        vertical-align: middle;\n",
       "    }\n",
       "\n",
       "    .dataframe tbody tr th {\n",
       "        vertical-align: top;\n",
       "    }\n",
       "\n",
       "    .dataframe thead th {\n",
       "        text-align: right;\n",
       "    }\n",
       "</style>\n",
       "<table border=\"1\" class=\"dataframe\">\n",
       "  <thead>\n",
       "    <tr style=\"text-align: right;\">\n",
       "      <th></th>\n",
       "      <th>SVM</th>\n",
       "      <th>Nearest Neighbors</th>\n",
       "      <th>LogisticRegression</th>\n",
       "      <th>Random Forest</th>\n",
       "    </tr>\n",
       "  </thead>\n",
       "  <tbody>\n",
       "    <tr>\n",
       "      <th>VGG16</th>\n",
       "      <td>0.876984</td>\n",
       "      <td>0.730159</td>\n",
       "      <td>0.89418</td>\n",
       "      <td>0.748677</td>\n",
       "    </tr>\n",
       "    <tr>\n",
       "      <th>InceptionV3</th>\n",
       "      <td>0.891534</td>\n",
       "      <td>0.752646</td>\n",
       "      <td>0.919312</td>\n",
       "      <td>0.809524</td>\n",
       "    </tr>\n",
       "    <tr>\n",
       "      <th>ResNet50</th>\n",
       "      <td>0.849206</td>\n",
       "      <td>0.753968</td>\n",
       "      <td>0.884921</td>\n",
       "      <td>0.681217</td>\n",
       "    </tr>\n",
       "  </tbody>\n",
       "</table>\n",
       "</div>"
      ],
      "text/plain": [
       "                  SVM Nearest Neighbors LogisticRegression Random Forest\n",
       "VGG16        0.876984          0.730159            0.89418      0.748677\n",
       "InceptionV3  0.891534          0.752646           0.919312      0.809524\n",
       "ResNet50     0.849206          0.753968           0.884921      0.681217"
      ]
     },
     "execution_count": 265,
     "metadata": {},
     "output_type": "execute_result"
    }
   ],
   "source": [
    "results[\"Acc\"]"
   ]
  },
  {
   "cell_type": "code",
   "execution_count": 266,
   "metadata": {},
   "outputs": [
    {
     "name": "stdout",
     "output_type": "stream",
     "text": [
      "('InceptionV3', 'LogisticRegression', 'report') -> 0.9193121693121693\n",
      "('InceptionV3', 'Nearest Neighbors', 'report') -> 0.7526455026455027\n",
      "('InceptionV3', 'Random Forest', 'report') -> 0.8095238095238095\n",
      "('InceptionV3', 'SVM', 'report') -> 0.8915343915343915\n",
      "('ResNet50', 'LogisticRegression', 'report') -> 0.8849206349206349\n",
      "('ResNet50', 'Nearest Neighbors', 'report') -> 0.753968253968254\n",
      "('ResNet50', 'Random Forest', 'report') -> 0.6812169312169312\n",
      "('ResNet50', 'SVM', 'report') -> 0.8492063492063492\n",
      "('VGG16', 'LogisticRegression', 'report') -> 0.8941798941798942\n",
      "('VGG16', 'Nearest Neighbors', 'report') -> 0.7301587301587301\n",
      "('VGG16', 'Random Forest', 'report') -> 0.7486772486772487\n",
      "('VGG16', 'SVM', 'report') -> 0.876984126984127\n"
     ]
    },
    {
     "data": {
      "text/plain": [
       "('InceptionV3', 'LogisticRegression', 'report')"
      ]
     },
     "execution_count": 266,
     "metadata": {},
     "output_type": "execute_result"
    }
   ],
   "source": [
    "precisions = {}\n",
    "for i in results.keys():\n",
    "    if i[-1] == \"report\":\n",
    "        print(i,end=\" -> \")\n",
    "        print(results[i][\"precision\"][-3])\n",
    "        precisions[results[i][\"precision\"][-3]] = i\n",
    "highest_precision = precisions[max(precisions)]\n",
    "highest_precision"
   ]
  },
  {
   "cell_type": "code",
   "execution_count": 267,
   "metadata": {},
   "outputs": [
    {
     "name": "stdout",
     "output_type": "stream",
     "text": [
      "Best Precision: \n",
      "\t - Model: InceptionV3\n",
      "\t - Classifier: LogisticRegression\n"
     ]
    }
   ],
   "source": [
    "best_model = highest_precision[0]\n",
    "best_classifier = highest_precision[1]\n",
    "print(f\"Best Precision: \\n\\t - Model: {best_model}\\n\\t - Classifier: {best_classifier}\")"
   ]
  },
  {
   "cell_type": "markdown",
   "metadata": {},
   "source": [
    "Se procede a entrenar el mejor clasificador(el que nos ha dado una mayor precisión) con los `features` extraídos por InceptionV3."
   ]
  },
  {
   "cell_type": "code",
   "execution_count": 268,
   "metadata": {},
   "outputs": [],
   "source": [
    "from sklearn.model_selection import train_test_split\n",
    "X, y = datasets[1] #datasets = [(vgg_X,y), (inception_X,y), (resnet_X,y)]\n",
    "\n",
    "# Dividimos los datos en entranamiento (80%) y testeo dejando (20%)\n",
    "X_train, X_test, y_train, y_test = train_test_split(X, y, test_size=0.2)\n",
    "clf = classifiers[2] # LogisticRegression"
   ]
  },
  {
   "cell_type": "code",
   "execution_count": 269,
   "metadata": {},
   "outputs": [
    {
     "data": {
      "text/plain": [
       "Pipeline(steps=[('standardscaler', StandardScaler()),\n",
       "                ('logisticregression', LogisticRegression(max_iter=1000))])"
      ]
     },
     "execution_count": 269,
     "metadata": {},
     "output_type": "execute_result"
    }
   ],
   "source": [
    "# entrenamos modelo con el dataset de entrenamiento\n",
    "clf.fit(X_train,y_train)"
   ]
  },
  {
   "cell_type": "code",
   "execution_count": 270,
   "metadata": {},
   "outputs": [
    {
     "data": {
      "text/plain": [
       "0.9407894736842105"
      ]
     },
     "execution_count": 270,
     "metadata": {},
     "output_type": "execute_result"
    }
   ],
   "source": [
    "# se pone a prueba la precisión del clasificador con el dataset reservado al testeo\n",
    "clf.score(X_test, y_test)"
   ]
  },
  {
   "cell_type": "code",
   "execution_count": 272,
   "metadata": {},
   "outputs": [
    {
     "data": {
      "text/plain": [
       "['logistic_clf_trained.pkl']"
      ]
     },
     "execution_count": 272,
     "metadata": {},
     "output_type": "execute_result"
    }
   ],
   "source": [
    "# guardamos el modelo\n",
    "from joblib import dump, load\n",
    "\n",
    "dump(clf, \"logistic_clf_trained.pkl\")"
   ]
  },
  {
   "cell_type": "markdown",
   "metadata": {},
   "source": [
    "### Última etapa del reconocimiento: `Matching`\n",
    "\n",
    "Para probarlo se ha de coger cualquier muestra del directorio __CASIA-Polar__"
   ]
  },
  {
   "cell_type": "code",
   "execution_count": 237,
   "metadata": {},
   "outputs": [],
   "source": [
    "### Reconocer un sujeto\n",
    "img = \"Scarlett_3.bmp\" # cambiar ruta a directorio CASIA-Polar\n",
    "test_sample = extract_features(img, \"InceptionV3\")"
   ]
  },
  {
   "cell_type": "code",
   "execution_count": 238,
   "metadata": {},
   "outputs": [
    {
     "name": "stdout",
     "output_type": "stream",
     "text": [
      "(2048,) [1.2423155e-03 2.8855497e-05 0.0000000e+00 6.4432847e-05 0.0000000e+00\n",
      " 6.4888278e-05 0.0000000e+00 9.0501574e-04 2.7398805e-03 2.6134404e-03]\n"
     ]
    }
   ],
   "source": [
    "print(test_sample.shape, test_sample[:10])"
   ]
  },
  {
   "cell_type": "code",
   "execution_count": 239,
   "metadata": {},
   "outputs": [
    {
     "data": {
      "text/plain": [
       "(1, 2048)"
      ]
     },
     "execution_count": 239,
     "metadata": {},
     "output_type": "execute_result"
    }
   ],
   "source": [
    "# cambiamos el shape para que los transforme a una fila\n",
    "test_sample.shape = [1,2048]\n",
    "test_sample.shape"
   ]
  },
  {
   "cell_type": "markdown",
   "metadata": {},
   "source": [
    "Resultado de la predicción, el individuo es..."
   ]
  },
  {
   "cell_type": "code",
   "execution_count": 241,
   "metadata": {},
   "outputs": [
    {
     "data": {
      "text/plain": [
       "array(['Scarlett'], dtype=object)"
      ]
     },
     "execution_count": 241,
     "metadata": {},
     "output_type": "execute_result"
    }
   ],
   "source": [
    "prediction = clf.predict(test_sample)\n",
    "prediction"
   ]
  },
  {
   "cell_type": "code",
   "execution_count": 242,
   "metadata": {},
   "outputs": [
    {
     "data": {
      "text/plain": [
       "array([[7.66853444e-07, 1.92894933e-09, 2.70332088e-04, 1.19147972e-04,\n",
       "        7.12070807e-09, 4.06121531e-08, 3.95131667e-09, 6.63462319e-08,\n",
       "        6.22699069e-08, 5.86392980e-10, 1.79734932e-05, 5.41870451e-12,\n",
       "        2.99159121e-09, 1.00554318e-06, 1.92486991e-08, 1.69251031e-08,\n",
       "        3.55642658e-10, 1.55599218e-12, 3.65041113e-05, 2.24630090e-06,\n",
       "        1.82729483e-05, 4.13471163e-08, 2.51920556e-06, 1.03385034e-07,\n",
       "        2.62589034e-05, 2.78450885e-07, 6.66049402e-06, 6.87139789e-06,\n",
       "        1.54470971e-04, 1.05916027e-07, 3.56307980e-07, 7.18193672e-07,\n",
       "        1.30132327e-07, 3.32592472e-07, 6.19817774e-11, 3.61909331e-07,\n",
       "        5.15814536e-05, 5.37409009e-06, 7.46134163e-08, 1.41295975e-06,\n",
       "        2.88852656e-09, 1.09595719e-07, 4.12416500e-05, 4.08495615e-06,\n",
       "        4.51414498e-08, 1.57606383e-07, 2.75201235e-05, 1.96195499e-06,\n",
       "        2.44369854e-11, 4.83376839e-10, 7.53992258e-10, 7.03641611e-05,\n",
       "        7.35399564e-08, 1.13297541e-08, 1.30164937e-06, 3.84680965e-10,\n",
       "        6.90415554e-10, 2.07946029e-06, 6.25343894e-06, 1.64151808e-05,\n",
       "        1.12566385e-05, 1.12185567e-08, 3.80094249e-08, 1.85869811e-04,\n",
       "        9.35471123e-05, 6.88796657e-09, 3.33808684e-07, 1.11839588e-06,\n",
       "        7.45964379e-07, 5.31573783e-12, 3.86810449e-05, 2.87526960e-08,\n",
       "        2.49636492e-10, 5.98308166e-06, 7.66137856e-09, 1.64517316e-08,\n",
       "        3.53497336e-13, 4.59228655e-04, 7.66146987e-06, 4.56344088e-06,\n",
       "        5.28373218e-09, 5.26733236e-08, 4.67650203e-11, 1.13497956e-07,\n",
       "        3.64388517e-07, 1.74537995e-05, 5.83527719e-07, 3.72527742e-04,\n",
       "        9.00776738e-06, 4.04818271e-05, 1.69562911e-05, 6.38747285e-06,\n",
       "        1.70176113e-06, 2.62529463e-06, 9.97795493e-01, 2.48718864e-08,\n",
       "        8.35724595e-06, 1.21295755e-10, 3.30301343e-09, 9.54320614e-07,\n",
       "        1.34672950e-08, 2.88039747e-08, 3.10905257e-08, 3.78657360e-08,\n",
       "        3.93593617e-06, 9.13121529e-09, 1.84438822e-07, 1.78174310e-05]])"
      ]
     },
     "execution_count": 242,
     "metadata": {},
     "output_type": "execute_result"
    }
   ],
   "source": [
    "prediction_prob = classifier.predict_proba(test_sample)\n",
    "prediction_prob"
   ]
  },
  {
   "cell_type": "code",
   "execution_count": 243,
   "metadata": {},
   "outputs": [],
   "source": [
    "labels = np.unique(y) # 108 individuos\n",
    "\n",
    "#juntamos individuos y la probabilidades\n",
    "predicted_dict = dict(zip(prediction_prob[0], labels))"
   ]
  },
  {
   "cell_type": "code",
   "execution_count": 244,
   "metadata": {},
   "outputs": [
    {
     "data": {
      "text/plain": [
       "{7.66853444177348e-07: 'Adrianna',\n",
       " 1.9289493265205617e-09: 'Aharon',\n",
       " 0.0002703320878111508: 'Aidan',\n",
       " 0.00011914797171839954: 'Aiza',\n",
       " 7.1207080672628864e-09: 'Aleah',\n",
       " 4.0612153125932087e-08: 'Alice',\n",
       " 3.951316665603113e-09: 'Alvin',\n",
       " 6.634623193812347e-08: 'Amayah',\n",
       " 6.226990689355661e-08: 'Amberly',\n",
       " 5.863929799721477e-10: 'Aminata',\n",
       " 1.7973493186072607e-05: 'Ananya',\n",
       " 5.418704508785907e-12: 'Anas',\n",
       " 2.9915912066736758e-09: 'Andrea',\n",
       " 1.0055431772290298e-06: 'Andrew',\n",
       " 1.9248699059953266e-08: 'Arlette',\n",
       " 1.692510313999055e-08: 'Armaan',\n",
       " 3.5564265826212087e-10: 'Arye',\n",
       " 1.5559921825919361e-12: 'Ashton',\n",
       " 3.650411131752097e-05: 'Atara',\n",
       " 2.246300901856098e-06: 'Avery',\n",
       " 1.8272948314564293e-05: 'Avital',\n",
       " 4.134711627742455e-08: 'Axel',\n",
       " 2.519205561898544e-06: 'Batsheva',\n",
       " 1.0338503442082689e-07: 'Brendan',\n",
       " 2.6258903374928507e-05: 'Brianny',\n",
       " 2.7845088538101664e-07: 'Brucha',\n",
       " 6.660494023980688e-06: 'Byron',\n",
       " 6.871397886014567e-06: 'Camren',\n",
       " 0.0001544709712350738: 'Carlos',\n",
       " 1.0591602657472465e-07: 'Cataleya',\n",
       " 3.5630797984465037e-07: 'Chad',\n",
       " 7.181936722441751e-07: 'Chany',\n",
       " 1.3013232713015605e-07: 'Cooper',\n",
       " 3.3259247240049413e-07: 'Corey',\n",
       " 6.19817773921582e-11: 'Damani',\n",
       " 3.619093312903555e-07: 'Delilah',\n",
       " 5.1581453570438925e-05: 'Devorah',\n",
       " 5.3740900889409295e-06: 'Eddy',\n",
       " 7.461341629208774e-08: 'Eliyahu',\n",
       " 1.4129597549311084e-06: 'Emma',\n",
       " 2.8885265627921148e-09: 'Erick',\n",
       " 1.0959571944471044e-07: 'Eshan',\n",
       " 4.124165000186258e-05: 'Evangeline',\n",
       " 4.084956149711555e-06: 'Franklin',\n",
       " 4.514144977306165e-08: 'Freya',\n",
       " 1.5760638250697502e-07: 'Frimet',\n",
       " 2.7520123477485405e-05: 'Gabriella',\n",
       " 1.961954987321091e-06: 'Gavriel',\n",
       " 2.443698535140049e-11: 'Heaven',\n",
       " 4.833768386972791e-10: 'Helena',\n",
       " 7.539922576758005e-10: 'Hersh',\n",
       " 7.036416112733792e-05: 'Hope',\n",
       " 7.353995637974582e-08: 'Imani',\n",
       " 1.132975412611148e-08: 'Jaelynn',\n",
       " 1.3016493698869263e-06: 'Janiyah',\n",
       " 3.8468096476969934e-10: 'Jaxon',\n",
       " 6.904155541341843e-10: 'Jeancarlos',\n",
       " 2.0794602936761665e-06: 'Jolie',\n",
       " 6.253438941040235e-06: 'Kacper',\n",
       " 1.6415180836951978e-05: 'Kassandra',\n",
       " 1.1256638513031436e-05: 'Keily',\n",
       " 1.1218556667729225e-08: 'Leibish',\n",
       " 3.8009424873773674e-08: 'Leora',\n",
       " 0.00018586981129393076: 'Lindsay',\n",
       " 9.354711232520036e-05: 'Liora',\n",
       " 6.887966571213914e-09: 'Liz',\n",
       " 3.3380868375797086e-07: 'Luz',\n",
       " 1.1183958807536538e-06: 'Madisyn',\n",
       " 7.459643785360074e-07: 'Maite',\n",
       " 5.3157378316837705e-12: 'Malek',\n",
       " 3.868104493943272e-05: 'Margot',\n",
       " 2.8752695980857272e-08: 'Mariam',\n",
       " 2.4963649226674884e-10: 'Mariana',\n",
       " 5.983081655834104e-06: 'Mia',\n",
       " 7.661378555851011e-09: 'Michal',\n",
       " 1.6451731553086082e-08: 'Michelle',\n",
       " 3.534973360365739e-13: 'Morgan',\n",
       " 0.0004592286546182661: 'Mushka',\n",
       " 7.661469870831054e-06: 'Naomi',\n",
       " 4.563440881382059e-06: 'Nehemiah',\n",
       " 5.283732184216763e-09: 'Nico',\n",
       " 5.267332358301086e-08: 'Noam',\n",
       " 4.676502030096771e-11: 'Nyah',\n",
       " 1.1349795613440858e-07: 'Oumar',\n",
       " 3.643885172855289e-07: 'Ousmane',\n",
       " 1.7453799523333346e-05: 'Pessy',\n",
       " 5.835277191199147e-07: 'Precious',\n",
       " 0.0003725277416599258: 'Rafael',\n",
       " 9.007767383966432e-06: 'Reed',\n",
       " 4.048182712818426e-05: 'Rivkah',\n",
       " 1.6956291056451413e-05: 'Rohan',\n",
       " 6.387472851490399e-06: 'Rory',\n",
       " 1.7017611262920828e-06: 'Samiyah',\n",
       " 2.6252946346940214e-06: 'Sasha',\n",
       " 0.9977954928858253: 'Scarlett',\n",
       " 2.4871886370327416e-08: 'Serenity',\n",
       " 8.357245945157081e-06: 'Shaina',\n",
       " 1.212957550309754e-10: 'Shayna',\n",
       " 3.303013432497628e-09: 'Shira',\n",
       " 9.543206136879248e-07: 'Tianna',\n",
       " 1.3467294980662012e-08: 'Xin',\n",
       " 2.8803974685357535e-08: 'Yahya',\n",
       " 3.109052569530256e-08: 'Yandel',\n",
       " 3.78657359870862e-08: 'Yaniel',\n",
       " 3.935936167491991e-06: 'Youssef',\n",
       " 9.131215286229698e-09: 'Zahra',\n",
       " 1.8443882206791986e-07: 'Zaiden',\n",
       " 1.7817431048437055e-05: 'Zion'}"
      ]
     },
     "execution_count": 244,
     "metadata": {},
     "output_type": "execute_result"
    }
   ],
   "source": [
    "predicted_dict"
   ]
  },
  {
   "cell_type": "code",
   "execution_count": 252,
   "metadata": {},
   "outputs": [
    {
     "name": "stdout",
     "output_type": "stream",
     "text": [
      "Aidan -> 0.0002703320878111508%\n",
      "Lindsay -> 0.00018586981129393076%\n",
      "Mushka -> 0.0004592286546182661%\n",
      "Rafael -> 0.0003725277416599258%\n",
      "Scarlett -> 0.9977954928858253%\n"
     ]
    }
   ],
   "source": [
    "import heapq\n",
    "\n",
    "# 5 individuos más probables \n",
    "top_five = heapq.nlargest(5, predicted_dict)\n",
    "labels, probs = [], []\n",
    "for k,v in predicted_dict.items():\n",
    "    if k in top_five:\n",
    "        print(v+\" -> \"+str(k)+\"%\")\n",
    "        labels.append(v)\n",
    "        probs.append(k)"
   ]
  },
  {
   "cell_type": "code",
   "execution_count": 253,
   "metadata": {},
   "outputs": [
    {
     "data": {
      "image/png": "[encoded data removed]",
      "text/plain": [
       "<Figure size 720x360 with 1 Axes>"
      ]
     },
     "metadata": {
      "needs_background": "light"
     },
     "output_type": "display_data"
    }
   ],
   "source": [
    "y_pos = np.arange(len(labels))\n",
    "fig = plt.figure(figsize = (10,5))\n",
    "plt.bar(labels, [i*100 for i in probs], color = 'green', width = 0.6)\n",
    "\n",
    "plt.xticks(y_pos, labels)\n",
    "plt.ylabel('Prediction %')\n",
    "plt.title('Iris Prediction...')\n",
    "\n",
    "plt.show()"
   ]
  },
  {
   "cell_type": "code",
   "execution_count": 261,
   "metadata": {},
   "outputs": [
    {
     "data": {
      "text/plain": [
       "array(['Imani'], dtype=object)"
      ]
     },
     "execution_count": 261,
     "metadata": {},
     "output_type": "execute_result"
    }
   ],
   "source": [
    "modelo_cargado = load(\"logistic_clf_trained.pkl\")\n",
    "test_sample = extract_features(\"Imani_6.bmp\", \"InceptionV3\")\n",
    "test_sample.shape = [1,test_sample.shape[0]]\n",
    "modelo_cargado.predict(test_sample)"
   ]
  }
 ],
 "metadata": {
  "kernelspec": {
   "display_name": "Python 3",
   "language": "python",
   "name": "python3"
  },
  "language_info": {
   "codemirror_mode": {
    "name": "ipython",
    "version": 3
   },
   "file_extension": ".py",
   "mimetype": "text/x-python",
   "name": "python",
   "nbconvert_exporter": "python",
   "pygments_lexer": "ipython3",
   "version": "3.8.3"
  }
 },
 "nbformat": 4,
 "nbformat_minor": 4
}
